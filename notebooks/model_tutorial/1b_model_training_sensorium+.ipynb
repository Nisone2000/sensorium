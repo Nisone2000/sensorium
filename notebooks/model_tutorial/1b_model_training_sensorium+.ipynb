{
 "cells": [
  {
   "cell_type": "markdown",
   "metadata": {
    "pycharm": {
     "name": "#%% md\n"
    }
   },
   "source": [
    "# How to train the Baseline Models for the SENSORIUM+ track"
   ]
  },
  {
   "cell_type": "markdown",
   "metadata": {
    "pycharm": {
     "name": "#%% md\n"
    }
   },
   "source": [
    "### This notebook will show how to\n",
    "- instantiate dataloader for the Sensorium+ track\n",
    "- instantiate pytorch model\n",
    "- instantiate a trainer function\n",
    "- train two baselines for this competition track\n",
    "- save the model weights (the model weights can already be found in './model_checkpoints/pretrained/')"
   ]
  },
  {
   "cell_type": "markdown",
   "metadata": {
    "pycharm": {
     "name": "#%% md\n"
    }
   },
   "source": [
    "### Imports"
   ]
  },
  {
   "cell_type": "code",
   "execution_count": 1,

   "metadata": {
    "pycharm": {
     "name": "#%%\n"
    }
   },
   "outputs": [],
   "source": [
    "import torch\n",
    "import numpy as np\n",
    "import pandas as pd\n",
    "\n",
    "import matplotlib.pyplot as plt\n",
    "import seaborn as sns\n",
    "\n",
    "import warnings\n",
    "warnings.filterwarnings('ignore')\n",
    "\n",
    "from nnfabrik.builder import get_data, get_model, get_trainer"
   ]
  },
  {
   "cell_type": "markdown",
   "metadata": {
    "pycharm": {
     "name": "#%% md\n"
    }
   },
   "source": [
    "### Instantiate DataLoader for Sensorium+"
   ]
  },
  {
   "cell_type": "markdown",
   "source": [
    "The only difference to the Sensorium track is that here, we include the behavioral variables and the eye position,\n",
    "by setting include_behavior=True, and include_eye_position=True.\n",
    "this will append the behavioral variables to the input images, and the eye position will be passed to\n",
    "the shifter network of the model.\n"
    }
   }
  },
  {
   "cell_type": "code",

   "execution_count": 11,
   "metadata": {},
   "outputs": [],
   "source": [
    "import skimage"
   ]
  },
  {
   "cell_type": "code",
   "execution_count": 12,
   "metadata": {
    "collapsed": false,
    "jupyter": {
     "outputs_hidden": false
    },
    "pycharm": {
     "name": "#%%\n"
    }
   },
   "outputs": [
    {
     "name": "stdout",
     "output_type": "stream",
     "text": [
      "/usr/users/agecker/datasets/sensorium_2022_pictures/real_dataset/\n",
      "['/usr/users/agecker/datasets/sensorium_2022_pictures/real_dataset/static23964-4-22-GrayImageNet-94c6ff995dac583098847cfecd43e7b6/', '/usr/users/agecker/datasets/sensorium_2022_pictures/real_dataset/static21067-10-18-GrayImageNet-94c6ff995dac583098847cfecd43e7b6/', '/usr/users/agecker/datasets/sensorium_2022_pictures/real_dataset/static22846-10-16-GrayImageNet-94c6ff995dac583098847cfecd43e7b6/', '/usr/users/agecker/datasets/sensorium_2022_pictures/real_dataset/static23343-5-17-GrayImageNet-94c6ff995dac583098847cfecd43e7b6/', '/usr/users/agecker/datasets/sensorium_2022_pictures/real_dataset/static26872-17-20-GrayImageNet-94c6ff995dac583098847cfecd43e7b6/', '/usr/users/agecker/datasets/sensorium_2022_pictures/real_dataset/static23656-14-22-GrayImageNet-94c6ff995dac583098847cfecd43e7b6/', '/usr/users/agecker/datasets/sensorium_2022_pictures/real_dataset/static27204-5-13-GrayImageNet-94c6ff995dac583098847cfecd43e7b6/']\n"
     ]
    }
   ],
   "source": [

    "# loading the SENSORIUM+ dataset\n",
    "filenames = ['../data/static27204-5-13-GrayImageNet-94c6ff995dac583098847cfecd43e7b6.zip', ]\n",
    "\n",
    "\n",
    "dataset_fn = 'sensorium.datasets.static_loaders'\n",
    "dataset_config = {'paths': filenames,\n",
    "                 'normalize': True,\n",
    "                 'include_behavior': True,\n",
    "                 'include_eye_position': True,\n",
    "                 'batch_size': 128,\n",
    "                 'scale':.25,\n",
    "                 }\n",
    "\n",
    "dataloaders = get_data(dataset_fn, dataset_config)"

    }
   }
  },
  {

   ],
   "metadata": {
    "collapsed": false,
    "pycharm": {
     "name": "#%% md\n"
    }
   }
  },
  {
   "cell_type": "markdown",

   "metadata": {},
   "source": [
    "Because the behavioral variables are available, we instantiate the Shifter network\n",
    "by setting Shifter=True in the model configuration."
   ]
  },
  {
   "cell_type": "code",

   "metadata": {
    "pycharm": {
     "name": "#%%\n"
    }
   },
   "outputs": [
    {
     "ename": "KeyboardInterrupt",
     "evalue": "",
     "output_type": "error",
     "traceback": [
      "\u001b[0;31m---------------------------------------------------------------------------\u001b[0m",
      "\u001b[0;31mKeyboardInterrupt\u001b[0m                         Traceback (most recent call last)",
      "Cell \u001b[0;32mIn[59], line 22\u001b[0m\n\u001b[1;32m      1\u001b[0m model_fn \u001b[38;5;241m=\u001b[39m \u001b[38;5;124m'\u001b[39m\u001b[38;5;124msensorium.models.stacked_core_full_gauss_readout\u001b[39m\u001b[38;5;124m'\u001b[39m\n\u001b[1;32m      2\u001b[0m model_config \u001b[38;5;241m=\u001b[39m {\u001b[38;5;124m'\u001b[39m\u001b[38;5;124mpad_input\u001b[39m\u001b[38;5;124m'\u001b[39m: \u001b[38;5;28;01mFalse\u001b[39;00m,\n\u001b[1;32m      3\u001b[0m   \u001b[38;5;124m'\u001b[39m\u001b[38;5;124mstack\u001b[39m\u001b[38;5;124m'\u001b[39m: \u001b[38;5;241m-\u001b[39m\u001b[38;5;241m1\u001b[39m,\n\u001b[1;32m      4\u001b[0m   \u001b[38;5;124m'\u001b[39m\u001b[38;5;124mlayers\u001b[39m\u001b[38;5;124m'\u001b[39m: \u001b[38;5;241m4\u001b[39m,\n\u001b[0;32m   (...)\u001b[0m\n\u001b[1;32m     19\u001b[0m   \u001b[38;5;124m'\u001b[39m\u001b[38;5;124mshifter\u001b[39m\u001b[38;5;124m'\u001b[39m: \u001b[38;5;28;01mTrue\u001b[39;00m,\n\u001b[1;32m     20\u001b[0m }\n\u001b[0;32m---> 22\u001b[0m model \u001b[38;5;241m=\u001b[39m get_model(model_fn\u001b[38;5;241m=\u001b[39mmodel_fn,\n\u001b[1;32m     23\u001b[0m                   model_config\u001b[38;5;241m=\u001b[39mmodel_config,\n\u001b[1;32m     24\u001b[0m                   dataloaders\u001b[38;5;241m=\u001b[39mdataloaders,\n\u001b[1;32m     25\u001b[0m                   seed\u001b[38;5;241m=\u001b[39m\u001b[38;5;241m42\u001b[39m,)\n",
      "File \u001b[0;32m~/anaconda3/envs/my_env/lib/python3.12/site-packages/nnfabrik/builder.py:69\u001b[0m, in \u001b[0;36mget_model\u001b[0;34m(model_fn, model_config, dataloaders, seed, state_dict, strict, data_info)\u001b[0m\n\u001b[1;32m     65\u001b[0m \u001b[38;5;28;01mif\u001b[39;00m \u001b[38;5;28misinstance\u001b[39m(model_fn, \u001b[38;5;28mstr\u001b[39m):\n\u001b[1;32m     66\u001b[0m     model_fn \u001b[38;5;241m=\u001b[39m resolve_model(model_fn)\n\u001b[1;32m     68\u001b[0m net \u001b[38;5;241m=\u001b[39m (\n\u001b[0;32m---> 69\u001b[0m     model_fn(dataloaders, seed\u001b[38;5;241m=\u001b[39mseed, \u001b[38;5;241m*\u001b[39m\u001b[38;5;241m*\u001b[39mmodel_config)\n\u001b[1;32m     70\u001b[0m     \u001b[38;5;28;01mif\u001b[39;00m data_info \u001b[38;5;129;01mis\u001b[39;00m \u001b[38;5;28;01mNone\u001b[39;00m\n\u001b[1;32m     71\u001b[0m     \u001b[38;5;28;01melse\u001b[39;00m model_fn(dataloaders, data_info\u001b[38;5;241m=\u001b[39mdata_info, seed\u001b[38;5;241m=\u001b[39mseed, \u001b[38;5;241m*\u001b[39m\u001b[38;5;241m*\u001b[39mmodel_config)\n\u001b[1;32m     72\u001b[0m )\n\u001b[1;32m     74\u001b[0m \u001b[38;5;28;01mif\u001b[39;00m state_dict \u001b[38;5;129;01mis\u001b[39;00m \u001b[38;5;129;01mnot\u001b[39;00m \u001b[38;5;28;01mNone\u001b[39;00m:\n\u001b[1;32m     75\u001b[0m     load_state_dict(\n\u001b[1;32m     76\u001b[0m         net,\n\u001b[1;32m     77\u001b[0m         state_dict,\n\u001b[0;32m   (...)\u001b[0m\n\u001b[1;32m     81\u001b[0m         ignore_missing\u001b[38;5;241m=\u001b[39mmodel_config\u001b[38;5;241m.\u001b[39mget(\u001b[38;5;124m\"\u001b[39m\u001b[38;5;124mtransfer\u001b[39m\u001b[38;5;124m\"\u001b[39m, \u001b[38;5;28;01mFalse\u001b[39;00m),\n\u001b[1;32m     82\u001b[0m     )  \u001b[38;5;66;03m# we want the most flexible loading in the case of transfer\u001b[39;00m\n",
      "File \u001b[0;32m/srv/user/ninasophie.nellen/sensorium/sensorium/models/models.py:87\u001b[0m, in \u001b[0;36mstacked_core_full_gauss_readout\u001b[0;34m(dataloaders, seed, hidden_channels, input_kern, hidden_kern, layers, gamma_input, skip, final_nonlinearity, momentum, pad_input, batch_norm, hidden_dilation, laplace_padding, input_regularizer, use_avg_reg, init_mu_range, init_sigma, readout_bias, gamma_readout, elu_offset, stack, depth_separable, linear, gauss_type, grid_mean_predictor, attention_conv, shifter, shifter_type, input_channels_shifter, hidden_channels_shifter, shift_layers, gamma_shifter, shifter_bias, hidden_padding, core_bias)\u001b[0m\n\u001b[1;32m     82\u001b[0m batch \u001b[38;5;241m=\u001b[39m \u001b[38;5;28mnext\u001b[39m(\u001b[38;5;28miter\u001b[39m(\u001b[38;5;28mlist\u001b[39m(dataloaders\u001b[38;5;241m.\u001b[39mvalues())[\u001b[38;5;241m0\u001b[39m]))\n\u001b[1;32m     83\u001b[0m in_name, out_name \u001b[38;5;241m=\u001b[39m (\n\u001b[1;32m     84\u001b[0m     \u001b[38;5;28mlist\u001b[39m(batch\u001b[38;5;241m.\u001b[39mkeys())[:\u001b[38;5;241m2\u001b[39m] \u001b[38;5;28;01mif\u001b[39;00m \u001b[38;5;28misinstance\u001b[39m(batch, \u001b[38;5;28mdict\u001b[39m) \u001b[38;5;28;01melse\u001b[39;00m batch\u001b[38;5;241m.\u001b[39m_fields[:\u001b[38;5;241m2\u001b[39m]\n\u001b[1;32m     85\u001b[0m )\n\u001b[0;32m---> 87\u001b[0m session_shape_dict \u001b[38;5;241m=\u001b[39m get_dims_for_loader_dict(dataloaders)\n\u001b[1;32m     88\u001b[0m n_neurons_dict \u001b[38;5;241m=\u001b[39m {k: v[out_name][\u001b[38;5;241m1\u001b[39m] \u001b[38;5;28;01mfor\u001b[39;00m k, v \u001b[38;5;129;01min\u001b[39;00m session_shape_dict\u001b[38;5;241m.\u001b[39mitems()}\n\u001b[1;32m     89\u001b[0m input_channels \u001b[38;5;241m=\u001b[39m [v[in_name][\u001b[38;5;241m1\u001b[39m] \u001b[38;5;28;01mfor\u001b[39;00m v \u001b[38;5;129;01min\u001b[39;00m session_shape_dict\u001b[38;5;241m.\u001b[39mvalues()]\n",
      "File \u001b[0;32m~/anaconda3/envs/my_env/lib/python3.12/site-packages/nnfabrik/utility/nn_helpers.py:50\u001b[0m, in \u001b[0;36mget_dims_for_loader_dict\u001b[0;34m(dataloaders)\u001b[0m\n\u001b[1;32m     39\u001b[0m \u001b[38;5;28;01mdef\u001b[39;00m \u001b[38;5;21mget_dims_for_loader_dict\u001b[39m(dataloaders):\n\u001b[1;32m     40\u001b[0m \u001b[38;5;250m    \u001b[39m\u001b[38;5;124;03m\"\"\"\u001b[39;00m\n\u001b[1;32m     41\u001b[0m \u001b[38;5;124;03m    Given a dictionary of DataLoaders, returns a dictionary with same keys as the\u001b[39;00m\n\u001b[1;32m     42\u001b[0m \u001b[38;5;124;03m    input and shape information (as returned by `get_io_dims`) on each keyed DataLoader.\u001b[39;00m\n\u001b[0;32m   (...)\u001b[0m\n\u001b[1;32m     48\u001b[0m \u001b[38;5;124;03m        dict: A dict containing the result of calling `get_io_dims` for each entry of the input dict\u001b[39;00m\n\u001b[1;32m     49\u001b[0m \u001b[38;5;124;03m    \"\"\"\u001b[39;00m\n\u001b[0;32m---> 50\u001b[0m     \u001b[38;5;28;01mreturn\u001b[39;00m {k: get_io_dims(v) \u001b[38;5;28;01mfor\u001b[39;00m k, v \u001b[38;5;129;01min\u001b[39;00m dataloaders\u001b[38;5;241m.\u001b[39mitems()}\n",
      "File \u001b[0;32m~/anaconda3/envs/my_env/lib/python3.12/site-packages/nnfabrik/utility/nn_helpers.py:29\u001b[0m, in \u001b[0;36mget_io_dims\u001b[0;34m(data_loader)\u001b[0m\n\u001b[1;32m     10\u001b[0m \u001b[38;5;28;01mdef\u001b[39;00m \u001b[38;5;21mget_io_dims\u001b[39m(data_loader):\n\u001b[1;32m     11\u001b[0m \u001b[38;5;250m    \u001b[39m\u001b[38;5;124;03m\"\"\"\u001b[39;00m\n\u001b[1;32m     12\u001b[0m \u001b[38;5;124;03m    Returns the shape of the dataset for each item within an entry returned by the `data_loader`\u001b[39;00m\n\u001b[1;32m     13\u001b[0m \u001b[38;5;124;03m    The DataLoader object must return either a namedtuple, dictionary or a plain tuple.\u001b[39;00m\n\u001b[0;32m   (...)\u001b[0m\n\u001b[1;32m     27\u001b[0m \u001b[38;5;124;03m            with size depending on the data_loader configuration.\u001b[39;00m\n\u001b[1;32m     28\u001b[0m \u001b[38;5;124;03m    \"\"\"\u001b[39;00m\n\u001b[0;32m---> 29\u001b[0m     items \u001b[38;5;241m=\u001b[39m \u001b[38;5;28mnext\u001b[39m(\u001b[38;5;28miter\u001b[39m(data_loader))\n\u001b[1;32m     30\u001b[0m     \u001b[38;5;28;01mif\u001b[39;00m \u001b[38;5;28mhasattr\u001b[39m(items, \u001b[38;5;124m\"\u001b[39m\u001b[38;5;124m_asdict\u001b[39m\u001b[38;5;124m\"\u001b[39m):  \u001b[38;5;66;03m# if it's a named tuple\u001b[39;00m\n\u001b[1;32m     31\u001b[0m         items \u001b[38;5;241m=\u001b[39m items\u001b[38;5;241m.\u001b[39m_asdict()\n",
      "File \u001b[0;32m~/anaconda3/envs/my_env/lib/python3.12/site-packages/torch/utils/data/dataloader.py:630\u001b[0m, in \u001b[0;36m_BaseDataLoaderIter.__next__\u001b[0;34m(self)\u001b[0m\n\u001b[1;32m    627\u001b[0m \u001b[38;5;28;01mif\u001b[39;00m \u001b[38;5;28mself\u001b[39m\u001b[38;5;241m.\u001b[39m_sampler_iter \u001b[38;5;129;01mis\u001b[39;00m \u001b[38;5;28;01mNone\u001b[39;00m:\n\u001b[1;32m    628\u001b[0m     \u001b[38;5;66;03m# TODO(https://github.com/pytorch/pytorch/issues/76750)\u001b[39;00m\n\u001b[1;32m    629\u001b[0m     \u001b[38;5;28mself\u001b[39m\u001b[38;5;241m.\u001b[39m_reset()  \u001b[38;5;66;03m# type: ignore[call-arg]\u001b[39;00m\n\u001b[0;32m--> 630\u001b[0m data \u001b[38;5;241m=\u001b[39m \u001b[38;5;28mself\u001b[39m\u001b[38;5;241m.\u001b[39m_next_data()\n\u001b[1;32m    631\u001b[0m \u001b[38;5;28mself\u001b[39m\u001b[38;5;241m.\u001b[39m_num_yielded \u001b[38;5;241m+\u001b[39m\u001b[38;5;241m=\u001b[39m \u001b[38;5;241m1\u001b[39m\n\u001b[1;32m    632\u001b[0m \u001b[38;5;28;01mif\u001b[39;00m \u001b[38;5;28mself\u001b[39m\u001b[38;5;241m.\u001b[39m_dataset_kind \u001b[38;5;241m==\u001b[39m _DatasetKind\u001b[38;5;241m.\u001b[39mIterable \u001b[38;5;129;01mand\u001b[39;00m \\\n\u001b[1;32m    633\u001b[0m         \u001b[38;5;28mself\u001b[39m\u001b[38;5;241m.\u001b[39m_IterableDataset_len_called \u001b[38;5;129;01mis\u001b[39;00m \u001b[38;5;129;01mnot\u001b[39;00m \u001b[38;5;28;01mNone\u001b[39;00m \u001b[38;5;129;01mand\u001b[39;00m \\\n\u001b[1;32m    634\u001b[0m         \u001b[38;5;28mself\u001b[39m\u001b[38;5;241m.\u001b[39m_num_yielded \u001b[38;5;241m>\u001b[39m \u001b[38;5;28mself\u001b[39m\u001b[38;5;241m.\u001b[39m_IterableDataset_len_called:\n",
      "File \u001b[0;32m~/anaconda3/envs/my_env/lib/python3.12/site-packages/torch/utils/data/dataloader.py:673\u001b[0m, in \u001b[0;36m_SingleProcessDataLoaderIter._next_data\u001b[0;34m(self)\u001b[0m\n\u001b[1;32m    671\u001b[0m \u001b[38;5;28;01mdef\u001b[39;00m \u001b[38;5;21m_next_data\u001b[39m(\u001b[38;5;28mself\u001b[39m):\n\u001b[1;32m    672\u001b[0m     index \u001b[38;5;241m=\u001b[39m \u001b[38;5;28mself\u001b[39m\u001b[38;5;241m.\u001b[39m_next_index()  \u001b[38;5;66;03m# may raise StopIteration\u001b[39;00m\n\u001b[0;32m--> 673\u001b[0m     data \u001b[38;5;241m=\u001b[39m \u001b[38;5;28mself\u001b[39m\u001b[38;5;241m.\u001b[39m_dataset_fetcher\u001b[38;5;241m.\u001b[39mfetch(index)  \u001b[38;5;66;03m# may raise StopIteration\u001b[39;00m\n\u001b[1;32m    674\u001b[0m     \u001b[38;5;28;01mif\u001b[39;00m \u001b[38;5;28mself\u001b[39m\u001b[38;5;241m.\u001b[39m_pin_memory:\n\u001b[1;32m    675\u001b[0m         data \u001b[38;5;241m=\u001b[39m _utils\u001b[38;5;241m.\u001b[39mpin_memory\u001b[38;5;241m.\u001b[39mpin_memory(data, \u001b[38;5;28mself\u001b[39m\u001b[38;5;241m.\u001b[39m_pin_memory_device)\n",
      "File \u001b[0;32m~/anaconda3/envs/my_env/lib/python3.12/site-packages/torch/utils/data/_utils/fetch.py:52\u001b[0m, in \u001b[0;36m_MapDatasetFetcher.fetch\u001b[0;34m(self, possibly_batched_index)\u001b[0m\n\u001b[1;32m     50\u001b[0m         data \u001b[38;5;241m=\u001b[39m \u001b[38;5;28mself\u001b[39m\u001b[38;5;241m.\u001b[39mdataset\u001b[38;5;241m.\u001b[39m__getitems__(possibly_batched_index)\n\u001b[1;32m     51\u001b[0m     \u001b[38;5;28;01melse\u001b[39;00m:\n\u001b[0;32m---> 52\u001b[0m         data \u001b[38;5;241m=\u001b[39m [\u001b[38;5;28mself\u001b[39m\u001b[38;5;241m.\u001b[39mdataset[idx] \u001b[38;5;28;01mfor\u001b[39;00m idx \u001b[38;5;129;01min\u001b[39;00m possibly_batched_index]\n\u001b[1;32m     53\u001b[0m \u001b[38;5;28;01melse\u001b[39;00m:\n\u001b[1;32m     54\u001b[0m     data \u001b[38;5;241m=\u001b[39m \u001b[38;5;28mself\u001b[39m\u001b[38;5;241m.\u001b[39mdataset[possibly_batched_index]\n",
      "File \u001b[0;32m/srv/user/ninasophie.nellen/neuralpredictors/neuralpredictors/data/datasets/base.py:417\u001b[0m, in \u001b[0;36mFileTreeDatasetBase.__getitem__\u001b[0;34m(self, item)\u001b[0m\n\u001b[1;32m    415\u001b[0m     val \u001b[38;5;241m=\u001b[39m \u001b[38;5;28mself\u001b[39m\u001b[38;5;241m.\u001b[39mtrial_info[data_key][item : item \u001b[38;5;241m+\u001b[39m \u001b[38;5;241m1\u001b[39m]\n\u001b[1;32m    416\u001b[0m \u001b[38;5;28;01melse\u001b[39;00m:\n\u001b[0;32m--> 417\u001b[0m     datapath \u001b[38;5;241m=\u001b[39m \u001b[38;5;28mself\u001b[39m\u001b[38;5;241m.\u001b[39mresolve_data_path(data_key)\n\u001b[1;32m    418\u001b[0m     val \u001b[38;5;241m=\u001b[39m np\u001b[38;5;241m.\u001b[39mload(datapath \u001b[38;5;241m/\u001b[39m \u001b[38;5;124m\"\u001b[39m\u001b[38;5;132;01m{}\u001b[39;00m\u001b[38;5;124m.npy\u001b[39m\u001b[38;5;124m\"\u001b[39m\u001b[38;5;241m.\u001b[39mformat(item))\n\u001b[1;32m    419\u001b[0m \u001b[38;5;28;01mif\u001b[39;00m \u001b[38;5;28mself\u001b[39m\u001b[38;5;241m.\u001b[39muse_cache:\n",
      "File \u001b[0;32m/srv/user/ninasophie.nellen/neuralpredictors/neuralpredictors/data/datasets/base.py:362\u001b[0m, in \u001b[0;36mFileTreeDatasetBase.resolve_data_path\u001b[0;34m(self, data_key)\u001b[0m\n\u001b[1;32m    346\u001b[0m \u001b[38;5;28;01mdef\u001b[39;00m \u001b[38;5;21mresolve_data_path\u001b[39m(\u001b[38;5;28mself\u001b[39m, data_key):\n\u001b[1;32m    347\u001b[0m \u001b[38;5;250m    \u001b[39m\u001b[38;5;124;03m\"\"\"\u001b[39;00m\n\u001b[1;32m    348\u001b[0m \u001b[38;5;124;03m    Given a data_key, resolves the folder within self.basepath/data directory. If relevant \"links\"\u001b[39;00m\n\u001b[1;32m    349\u001b[0m \u001b[38;5;124;03m    entry exists in the config, the name mapping is performed. Finally, the resultant path is checked\u001b[39;00m\n\u001b[0;32m   (...)\u001b[0m\n\u001b[1;32m    360\u001b[0m \u001b[38;5;124;03m        pathlib.Path object: Valid directory path to the target data_group\u001b[39;00m\n\u001b[1;32m    361\u001b[0m \u001b[38;5;124;03m    \"\"\"\u001b[39;00m\n\u001b[0;32m--> 362\u001b[0m     \u001b[38;5;28;01mif\u001b[39;00m \u001b[38;5;28mself\u001b[39m\u001b[38;5;241m.\u001b[39mlink_exists(data_key):\n\u001b[1;32m    363\u001b[0m         data_key \u001b[38;5;241m=\u001b[39m \u001b[38;5;28mself\u001b[39m\u001b[38;5;241m.\u001b[39mconfig[\u001b[38;5;124m\"\u001b[39m\u001b[38;5;124mlinks\u001b[39m\u001b[38;5;124m\"\u001b[39m][data_key]\n\u001b[1;32m    364\u001b[0m     datapath \u001b[38;5;241m=\u001b[39m \u001b[38;5;28mself\u001b[39m\u001b[38;5;241m.\u001b[39mbasepath \u001b[38;5;241m/\u001b[39m \u001b[38;5;124m\"\u001b[39m\u001b[38;5;124mdata\u001b[39m\u001b[38;5;124m\"\u001b[39m \u001b[38;5;241m/\u001b[39m data_key\n",
      "File \u001b[0;32m/srv/user/ninasophie.nellen/neuralpredictors/neuralpredictors/data/datasets/base.py:393\u001b[0m, in \u001b[0;36mFileTreeDatasetBase.link_exists\u001b[0;34m(self, link)\u001b[0m\n\u001b[1;32m    383\u001b[0m \u001b[38;5;28;01mdef\u001b[39;00m \u001b[38;5;21mlink_exists\u001b[39m(\u001b[38;5;28mself\u001b[39m, link):\n\u001b[1;32m    384\u001b[0m \u001b[38;5;250m    \u001b[39m\u001b[38;5;124;03m\"\"\"\u001b[39;00m\n\u001b[1;32m    385\u001b[0m \u001b[38;5;124;03m    Checks if an entry for `link` exists in the \"links\" config\u001b[39;00m\n\u001b[1;32m    386\u001b[0m \n\u001b[0;32m   (...)\u001b[0m\n\u001b[1;32m    391\u001b[0m \u001b[38;5;124;03m        bool: True if a relevant entry is found in \"links\" config\u001b[39;00m\n\u001b[1;32m    392\u001b[0m \u001b[38;5;124;03m    \"\"\"\u001b[39;00m\n\u001b[0;32m--> 393\u001b[0m     \u001b[38;5;28;01mreturn\u001b[39;00m \u001b[38;5;124m\"\u001b[39m\u001b[38;5;124mlinks\u001b[39m\u001b[38;5;124m\"\u001b[39m \u001b[38;5;129;01min\u001b[39;00m \u001b[38;5;28mself\u001b[39m\u001b[38;5;241m.\u001b[39mconfig \u001b[38;5;129;01mand\u001b[39;00m link \u001b[38;5;129;01min\u001b[39;00m \u001b[38;5;28mself\u001b[39m\u001b[38;5;241m.\u001b[39mconfig[\u001b[38;5;124m\"\u001b[39m\u001b[38;5;124mlinks\u001b[39m\u001b[38;5;124m\"\u001b[39m]\n",
      "File \u001b[0;32m/srv/user/ninasophie.nellen/neuralpredictors/neuralpredictors/data/datasets/base.py:397\u001b[0m, in \u001b[0;36mFileTreeDatasetBase.config\u001b[0;34m(self)\u001b[0m\n\u001b[1;32m    395\u001b[0m \u001b[38;5;129m@property\u001b[39m\n\u001b[1;32m    396\u001b[0m \u001b[38;5;28;01mdef\u001b[39;00m \u001b[38;5;21mconfig\u001b[39m(\u001b[38;5;28mself\u001b[39m):\n\u001b[0;32m--> 397\u001b[0m     \u001b[38;5;28;01mwith\u001b[39;00m \u001b[38;5;28mopen\u001b[39m(\u001b[38;5;28mself\u001b[39m\u001b[38;5;241m.\u001b[39m_config_file) \u001b[38;5;28;01mas\u001b[39;00m fid:\n\u001b[1;32m    398\u001b[0m         \u001b[38;5;28;01mreturn\u001b[39;00m json\u001b[38;5;241m.\u001b[39mload(fid)\n",
      "File \u001b[0;32m~/anaconda3/envs/my_env/lib/python3.12/codecs.py:309\u001b[0m, in \u001b[0;36mBufferedIncrementalDecoder.__init__\u001b[0;34m(self, errors)\u001b[0m\n\u001b[1;32m    303\u001b[0m \u001b[38;5;28;01mclass\u001b[39;00m \u001b[38;5;21;01mBufferedIncrementalDecoder\u001b[39;00m(IncrementalDecoder):\n\u001b[1;32m    304\u001b[0m \u001b[38;5;250m    \u001b[39m\u001b[38;5;124;03m\"\"\"\u001b[39;00m\n\u001b[1;32m    305\u001b[0m \u001b[38;5;124;03m    This subclass of IncrementalDecoder can be used as the baseclass for an\u001b[39;00m\n\u001b[1;32m    306\u001b[0m \u001b[38;5;124;03m    incremental decoder if the decoder must be able to handle incomplete\u001b[39;00m\n\u001b[1;32m    307\u001b[0m \u001b[38;5;124;03m    byte sequences.\u001b[39;00m\n\u001b[1;32m    308\u001b[0m \u001b[38;5;124;03m    \"\"\"\u001b[39;00m\n\u001b[0;32m--> 309\u001b[0m     \u001b[38;5;28;01mdef\u001b[39;00m \u001b[38;5;21m__init__\u001b[39m(\u001b[38;5;28mself\u001b[39m, errors\u001b[38;5;241m=\u001b[39m\u001b[38;5;124m'\u001b[39m\u001b[38;5;124mstrict\u001b[39m\u001b[38;5;124m'\u001b[39m):\n\u001b[1;32m    310\u001b[0m         IncrementalDecoder\u001b[38;5;241m.\u001b[39m\u001b[38;5;21m__init__\u001b[39m(\u001b[38;5;28mself\u001b[39m, errors)\n\u001b[1;32m    311\u001b[0m         \u001b[38;5;66;03m# undecoded input that is kept between calls to decode()\u001b[39;00m\n",
      "\u001b[0;31mKeyboardInterrupt\u001b[0m: "
     ]
    }
   ],
   "source": [
    "model_fn = 'sensorium.models.stacked_core_full_gauss_readout'\n",
    "model_config = {'pad_input': False,\n",
    "  'stack': -1,\n",
    "  'layers': 4,\n",
    "  'input_kern': 9,\n",
    "  'gamma_input': 6.3831,\n",
    "  'gamma_readout': 0.0076,\n",
    "  'hidden_kern': 7,\n",
    "  'hidden_channels': 64,\n",
    "  'depth_separable': True,\n",
    "  'grid_mean_predictor': {'type': 'cortex',\n",
    "   'input_dimensions': 2,\n",
    "   'hidden_layers': 1,\n",
    "   'hidden_features': 30,\n",
    "   'final_tanh': True},\n",
    "  'init_sigma': 0.1,\n",
    "  'init_mu_range': 0.3,\n",
    "  'gauss_type': 'full',\n",
    "  'shifter': True,\n",
    "}\n",
    "\n",
    "model = get_model(model_fn=model_fn,\n",
    "                  model_config=model_config,\n",
    "                  dataloaders=dataloaders,\n",
    "                  seed=42,)"
   ]
  },
  {
   "cell_type": "markdown",
   "metadata": {
    "pycharm": {
     "name": "#%% md\n"
    }
   },
   "source": [
    "## Configure Trainer"
   ]
  },
  {
   "cell_type": "code",

   "metadata": {
    "pycharm": {
     "name": "#%%\n"
    }
   },
   "outputs": [],
   "source": [
    "trainer_fn = \"sensorium.training.standard_trainer\"\n",
    "\n",
    "trainer_config = {'max_iter': 200,\n",
    "                 'verbose': False,\n",
    "                 'lr_decay_steps': 4,\n",
    "                 'avg_loss': False,\n",
    "                 'lr_init': 0.009,\n",

   ]
  },
  {
   "cell_type": "markdown",
   "metadata": {
    "pycharm": {
     "name": "#%% md\n"
    }
   },
   "source": [
    "# Run model training"
   ]
  },
  {
   "cell_type": "code",
   "execution_count": null,
   "metadata": {
    "pycharm": {
     "name": "#%%\n"
   },
   "outputs": [],
   "source": [
    "validation_score, trainer_output, state_dict = trainer(model, dataloaders, seed=42)"
   ]
  },
  {
   "cell_type": "markdown",
   "metadata": {
    "pycharm": {
     "name": "#%% md\n"
    }
   },
   "source": [
    "## Save model checkpoints"
   ]
  },
  {
   "cell_type": "code",
   "execution_count": null,
   "metadata": {
    "pycharm": {
     "name": "#%%\n"
    }
   },
   "outputs": [],
   "source": [
    "torch.save(model.state_dict(), './model_checkpoints/sensorium_p_sota_model.pth')"
   ]
  },
  {
   "cell_type": "markdown",
   "metadata": {
    "pycharm": {
     "name": "#%% md\n"
    }
   },
   "source": [
    "## Load Model Checkpoints"
   ]
  },
  {
   "cell_type": "code",
   "execution_count": 5,
   "metadata": {
    "pycharm": {
     "name": "#%%\n"
    }
   },
   "outputs": [],
   "source": [
    "model.load_state_dict(torch.load(\"./model_checkpoints/pretrained/sensorium_p_sota_model.pth\"));"
   ]
  },
  {
   "cell_type": "markdown",
   "metadata": {
    "pycharm": {
     "name": "#%% md\n"
    }
   },
   "source": [
    "---"
   ]
  },
  {
   "cell_type": "markdown",
   "metadata": {
    "pycharm": {
     "name": "#%% md\n"
    }
   },
   "source": [
    "# Train a simple LN model"
   ]
  },
  {
   "cell_type": "code",
   "execution_count": 6,
   "metadata": {
    "pycharm": {
     "name": "#%%\n"
    }
   },
   "outputs": [],
   "source": [
    "# this will remove all nonlinearities from the CNN, and creates essentially a ln model: linear core + readout, with a subsequent non-linearity\n",
    "\n",
    "model_fn = 'sensorium.models.stacked_core_full_gauss_readout'\n",
    "model_config = {'pad_input': False,\n",
    "              'stack': -1,\n",
    "              'layers': 3,\n",
    "              'input_kern': 9,\n",
    "              'gamma_input': 6.3831,\n",
    "              'gamma_readout': 0.0076,\n",
    "              'hidden_kern': 7,\n",
    "              'hidden_channels': 64,\n",
    "              'grid_mean_predictor': {'type': 'cortex',\n",
    "              'input_dimensions': 2,\n",
    "              'hidden_layers': 1,\n",
    "              'hidden_features': 30,\n",
    "              'final_tanh': True},\n",
    "              'depth_separable': True,\n",
    "              'init_sigma': 0.1,\n",
    "              'init_mu_range': 0.3,\n",
    "              'gauss_type': 'full',\n",
    "              'linear': True,\n",
    "              'shifter': True,\n",
    "               }\n",
    "model = get_model(model_fn=model_fn,\n",
    "                  model_config=model_config,\n",
    "                  dataloaders=dataloaders,\n",
    "                  seed=42,)"
   ]
  },
  {
   "cell_type": "code",
   "execution_count": null,
   "metadata": {
    "pycharm": {
     "is_executing": true,
     "name": "#%%\n"
    }
   },
   "outputs": [],
   "source": [
    "validation_score, trainer_output, state_dict = trainer(model, dataloaders, seed=42)"
   ]
  },
  {
   "cell_type": "code",

   "metadata": {
    "pycharm": {
     "name": "#%%\n"
    }
   },
   "outputs": [],
   "source": [

   ]
  },
  {
   "cell_type": "code",

   ]
  },
  {
   "cell_type": "code",
   "execution_count": 19,
   "metadata": {},
   "outputs": [],
   "source": [
    "trainer_fn = \"sensorium.training.standard_trainer\"\n",
    "\n",
    "trainer_config = {'max_iter': 200,\n",
    "                 'verbose': False,\n",
    "                 'lr_decay_steps': 4,\n",
    "                 'avg_loss': False,\n",
    "                 'lr_init': 0.009,\n",
    "                 'device' : f\"cuda:6\",\n",
    "                 'wandb_model_congfig ': 'sensorium_2022_pictures',\n",
    "                 'wandb_dataset_config' : 'CNN',\n",
    "                 'wandb_name' : 'Rotation_test_tsne',\n",
    "                 'include_kldivergence':False,\n",
    "                 }\n",
    "\n",
    "trainer = get_trainer(trainer_fn=trainer_fn, \n",
    "                     trainer_config=trainer_config)\n"
   ]
  },
  {
   "cell_type": "code",
   "execution_count": null,
   "metadata": {},
   "outputs": [
    {
     "name": "stderr",
     "output_type": "stream",
     "text": [
      "\u001b[34m\u001b[1mwandb\u001b[0m: Using wandb-core as the SDK backend. Please refer to https://wandb.me/wandb-core for more information.\n",
      "\u001b[34m\u001b[1mwandb\u001b[0m: Currently logged in as: \u001b[33mninasophie-nellen\u001b[0m (\u001b[33mninasophie-nellen-g-ttingen-university\u001b[0m). Use \u001b[1m`wandb login --relogin`\u001b[0m to force relogin\n"
     ]
    },
    {
     "data": {
      "text/html": [
       "Tracking run with wandb version 0.18.3"
      ],
      "text/plain": [
       "<IPython.core.display.HTML object>"
      ]
     },
     "metadata": {},
     "output_type": "display_data"
    },
    {
     "data": {
      "text/html": [
       "Run data is saved locally in <code>/srv/user/ninasophie.nellen/sensorium/notebooks/model_tutorial/wandb/run-20241028_162651-flpo3pqe</code>"
      ],
      "text/plain": [
       "<IPython.core.display.HTML object>"
      ]
     },
     "metadata": {},
     "output_type": "display_data"
    },
    {
     "data": {
      "text/html": [
       "Syncing run <strong><a href='https://wandb.ai/ninasophie-nellen-g-ttingen-university/Rotation_test/runs/flpo3pqe' target=\"_blank\">Rotation_test_tsne</a></strong> to <a href='https://wandb.ai/ninasophie-nellen-g-ttingen-university/Rotation_test' target=\"_blank\">Weights & Biases</a> (<a href='https://wandb.me/run' target=\"_blank\">docs</a>)<br/>"
      ],
      "text/plain": [
       "<IPython.core.display.HTML object>"
      ]
     },
     "metadata": {},
     "output_type": "display_data"
    },
    {
     "data": {
      "text/html": [
       " View project at <a href='https://wandb.ai/ninasophie-nellen-g-ttingen-university/Rotation_test' target=\"_blank\">https://wandb.ai/ninasophie-nellen-g-ttingen-university/Rotation_test</a>"
      ],
      "text/plain": [
       "<IPython.core.display.HTML object>"
      ]
     },
     "metadata": {},
     "output_type": "display_data"
    },
    {
     "data": {
      "text/html": [
       " View run at <a href='https://wandb.ai/ninasophie-nellen-g-ttingen-university/Rotation_test/runs/flpo3pqe' target=\"_blank\">https://wandb.ai/ninasophie-nellen-g-ttingen-university/Rotation_test/runs/flpo3pqe</a>"
      ],
      "text/plain": [
       "<IPython.core.display.HTML object>"
      ]
     },
     "metadata": {},
     "output_type": "display_data"
    },
    {
     "name": "stderr",
     "output_type": "stream",
     "text": [
      "Epoch 1: 100%|█████████████████████████████████████████████████████████████████████| 252/252 [11:31<00:00,  2.75s/it]\n"
     ]
    },
    {
     "name": "stdout",
     "output_type": "stream",
     "text": [
      "Epoch 1, Batch 251, Train loss tensor([5087703.5000], device='cuda:6', grad_fn=<AddBackward0>), Validation loss tensor([5058051.], device='cuda:6', grad_fn=<AddBackward0>)\n",
      "EPOCH=1  validation_correlation=0.11967160552740097  Epoch Train loss Kullback-Leibler-divergence=tensor([0.], device='cuda:6')\n"
     ]
    },
    {
     "name": "stderr",
     "output_type": "stream",
     "text": [
      "Epoch 2: 100%|█████████████████████████████████████████████████████████████████████| 252/252 [01:04<00:00,  3.90it/s]\n"
     ]
    },
    {
     "name": "stdout",
     "output_type": "stream",
     "text": [
      "Epoch 2, Batch 251, Train loss tensor([4877354.5000], device='cuda:6', grad_fn=<AddBackward0>), Validation loss tensor([4831710.5000], device='cuda:6', grad_fn=<AddBackward0>)\n",
      "EPOCH=2  validation_correlation=0.19727951288223267  Epoch Train loss Kullback-Leibler-divergence=tensor([0.], device='cuda:6')\n"
     ]
    },
    {
     "name": "stderr",
     "output_type": "stream",
     "text": [
      "Epoch 3: 100%|█████████████████████████████████████████████████████████████████████| 252/252 [01:05<00:00,  3.86it/s]\n"
     ]
    },
    {
     "name": "stdout",
     "output_type": "stream",
     "text": [
      "Epoch 3, Batch 251, Train loss tensor([4443170.], device='cuda:6', grad_fn=<AddBackward0>), Validation loss tensor([4399179.], device='cuda:6', grad_fn=<AddBackward0>)\n",
      "EPOCH=3  validation_correlation=0.2518267035484314  Epoch Train loss Kullback-Leibler-divergence=tensor([0.], device='cuda:6')\n"
     ]
    },
    {
     "name": "stderr",
     "output_type": "stream",
     "text": [
      "Epoch 4: 100%|█████████████████████████████████████████████████████████████████████| 252/252 [01:05<00:00,  3.87it/s]\n"
     ]
    },
    {
     "name": "stdout",
     "output_type": "stream",
     "text": [
      "Epoch 4, Batch 251, Train loss tensor([4519525.], device='cuda:6', grad_fn=<AddBackward0>), Validation loss tensor([4486372.5000], device='cuda:6', grad_fn=<AddBackward0>)\n",
      "EPOCH=4  validation_correlation=0.2847166061401367  Epoch Train loss Kullback-Leibler-divergence=tensor([0.], device='cuda:6')\n"
     ]
    },
    {
     "name": "stderr",
     "output_type": "stream",
     "text": [
      "Epoch 5: 100%|█████████████████████████████████████████████████████████████████████| 252/252 [01:05<00:00,  3.87it/s]\n"
     ]
    },
    {
     "name": "stdout",
     "output_type": "stream",
     "text": [
      "Epoch 5, Batch 251, Train loss tensor([4387510.5000], device='cuda:6', grad_fn=<AddBackward0>), Validation loss tensor([4354363.5000], device='cuda:6', grad_fn=<AddBackward0>)\n",
      "EPOCH=5  validation_correlation=0.3064061403274536  Epoch Train loss Kullback-Leibler-divergence=tensor([0.], device='cuda:6')\n"
     ]
    },
    {
     "name": "stderr",
     "output_type": "stream",
     "text": [
      "Epoch 6: 100%|█████████████████████████████████████████████████████████████████████| 252/252 [01:05<00:00,  3.85it/s]\n"
     ]
    },
    {
     "name": "stdout",
     "output_type": "stream",
     "text": [
      "Epoch 6, Batch 251, Train loss tensor([4266871.5000], device='cuda:6', grad_fn=<AddBackward0>), Validation loss tensor([4227589.], device='cuda:6', grad_fn=<AddBackward0>)\n",
      "EPOCH=6  validation_correlation=0.32283127307891846  Epoch Train loss Kullback-Leibler-divergence=tensor([0.], device='cuda:6')\n"
     ]
    },
    {
     "name": "stderr",
     "output_type": "stream",
     "text": [
      "Epoch 7: 100%|█████████████████████████████████████████████████████████████████████| 252/252 [01:05<00:00,  3.86it/s]\n"
     ]
    },
    {
     "name": "stdout",
     "output_type": "stream",
     "text": [
      "Epoch 7, Batch 251, Train loss tensor([4182757.7500], device='cuda:6', grad_fn=<AddBackward0>), Validation loss tensor([4149862.7500], device='cuda:6', grad_fn=<AddBackward0>)\n",
      "EPOCH=7  validation_correlation=0.3349149525165558  Epoch Train loss Kullback-Leibler-divergence=tensor([0.], device='cuda:6')\n"
     ]
    },
    {
     "name": "stderr",
     "output_type": "stream",
     "text": [
      "Epoch 8: 100%|█████████████████████████████████████████████████████████████████████| 252/252 [01:05<00:00,  3.87it/s]\n"
     ]
    },
    {
     "name": "stdout",
     "output_type": "stream",
     "text": [
      "Epoch 8, Batch 251, Train loss tensor([4088186.], device='cuda:6', grad_fn=<AddBackward0>), Validation loss tensor([4061921.2500], device='cuda:6', grad_fn=<AddBackward0>)\n",
      "EPOCH=8  validation_correlation=0.3425308167934418  Epoch Train loss Kullback-Leibler-divergence=tensor([0.], device='cuda:6')\n"
     ]
    },
    {
     "name": "stderr",
     "output_type": "stream",
     "text": [
      "Epoch 9: 100%|█████████████████████████████████████████████████████████████████████| 252/252 [01:05<00:00,  3.85it/s]\n"
     ]
    },
    {
     "name": "stdout",
     "output_type": "stream",
     "text": [
      "Epoch 9, Batch 251, Train loss tensor([4155030.5000], device='cuda:6', grad_fn=<AddBackward0>), Validation loss tensor([4131125.7500], device='cuda:6', grad_fn=<AddBackward0>)\n",
      "EPOCH=9  validation_correlation=0.34830009937286377  Epoch Train loss Kullback-Leibler-divergence=tensor([0.], device='cuda:6')\n"
     ]
    },
    {
     "name": "stderr",
     "output_type": "stream",
     "text": [
      "Epoch 10: 100%|████████████████████████████████████████████████████████████████████| 252/252 [01:05<00:00,  3.87it/s]\n"
     ]
    },
    {
     "name": "stdout",
     "output_type": "stream",
     "text": [
      "Epoch 10, Batch 251, Train loss tensor([4183665.2500], device='cuda:6', grad_fn=<AddBackward0>), Validation loss tensor([4153541.], device='cuda:6', grad_fn=<AddBackward0>)\n",
      "EPOCH=10  validation_correlation=0.3533349335193634  Epoch Train loss Kullback-Leibler-divergence=tensor([0.], device='cuda:6')\n"
     ]
    },
    {
     "name": "stderr",
     "output_type": "stream",
     "text": [
      "Epoch 11: 100%|████████████████████████████████████████████████████████████████████| 252/252 [01:05<00:00,  3.87it/s]\n"
     ]
    },
    {
     "name": "stdout",
     "output_type": "stream",
     "text": [
      "Epoch 11, Batch 251, Train loss tensor([4073741.7500], device='cuda:6', grad_fn=<AddBackward0>), Validation loss tensor([4039319.7500], device='cuda:6', grad_fn=<AddBackward0>)\n",
      "EPOCH=11  validation_correlation=0.35970786213874817  Epoch Train loss Kullback-Leibler-divergence=tensor([0.], device='cuda:6')\n"
     ]
    },
    {
     "name": "stderr",
     "output_type": "stream",
     "text": [
      "Epoch 12: 100%|████████████████████████████████████████████████████████████████████| 252/252 [01:05<00:00,  3.86it/s]\n"
     ]
    },
    {
     "name": "stdout",
     "output_type": "stream",
     "text": [
      "Epoch 12, Batch 251, Train loss tensor([4014720.], device='cuda:6', grad_fn=<AddBackward0>), Validation loss tensor([3985991.5000], device='cuda:6', grad_fn=<AddBackward0>)\n",
      "EPOCH=12  validation_correlation=0.3615001142024994  Epoch Train loss Kullback-Leibler-divergence=tensor([0.], device='cuda:6')\n"
     ]
    },
    {
     "name": "stderr",
     "output_type": "stream",
     "text": [
      "Epoch 13: 100%|████████████████████████████████████████████████████████████████████| 252/252 [01:04<00:00,  3.89it/s]\n"
     ]
    },
    {
     "name": "stdout",
     "output_type": "stream",
     "text": [
      "Epoch 13, Batch 251, Train loss tensor([4069679.7500], device='cuda:6', grad_fn=<AddBackward0>), Validation loss tensor([4041632.5000], device='cuda:6', grad_fn=<AddBackward0>)\n",
      "EPOCH=13  validation_correlation=0.3646645247936249  Epoch Train loss Kullback-Leibler-divergence=tensor([0.], device='cuda:6')\n"
     ]
    },
    {
     "name": "stderr",
     "output_type": "stream",
     "text": [
      "Epoch 14: 100%|████████████████████████████████████████████████████████████████████| 252/252 [01:04<00:00,  3.88it/s]\n"
     ]
    },
    {
     "name": "stdout",
     "output_type": "stream",
     "text": [
      "Epoch 14, Batch 251, Train loss tensor([4019012.], device='cuda:6', grad_fn=<AddBackward0>), Validation loss tensor([4000573.], device='cuda:6', grad_fn=<AddBackward0>)\n",
      "EPOCH=14  validation_correlation=0.36684152483940125  Epoch Train loss Kullback-Leibler-divergence=tensor([0.], device='cuda:6')\n"
     ]
    },
    {
     "name": "stderr",
     "output_type": "stream",
     "text": [
      "Epoch 15: 100%|████████████████████████████████████████████████████████████████████| 252/252 [01:05<00:00,  3.87it/s]\n"
     ]
    },
    {
     "name": "stdout",
     "output_type": "stream",
     "text": [
      "Epoch 15, Batch 251, Train loss tensor([3898185.], device='cuda:6', grad_fn=<AddBackward0>), Validation loss tensor([3876372.7500], device='cuda:6', grad_fn=<AddBackward0>)\n",
      "EPOCH=15  validation_correlation=0.3684435784816742  Epoch Train loss Kullback-Leibler-divergence=tensor([0.], device='cuda:6')\n"
     ]
    },
    {
     "name": "stderr",
     "output_type": "stream",
     "text": [
      "Epoch 16: 100%|████████████████████████████████████████████████████████████████████| 252/252 [01:05<00:00,  3.84it/s]\n"
     ]
    },
    {
     "name": "stdout",
     "output_type": "stream",
     "text": [
      "Epoch 16, Batch 251, Train loss tensor([3946986.5000], device='cuda:6', grad_fn=<AddBackward0>), Validation loss tensor([3924835.5000], device='cuda:6', grad_fn=<AddBackward0>)\n",
      "EPOCH=16  validation_correlation=0.36985573172569275  Epoch Train loss Kullback-Leibler-divergence=tensor([0.], device='cuda:6')\n"
     ]
    },
    {
     "name": "stderr",
     "output_type": "stream",
     "text": [
      "Epoch 17: 100%|████████████████████████████████████████████████████████████████████| 252/252 [01:05<00:00,  3.84it/s]\n"
     ]
    },
    {
     "name": "stdout",
     "output_type": "stream",
     "text": [
      "Epoch 17, Batch 251, Train loss tensor([3983579.7500], device='cuda:6', grad_fn=<AddBackward0>), Validation loss tensor([3968782.], device='cuda:6', grad_fn=<AddBackward0>)\n",
      "EPOCH=17  validation_correlation=0.37193387746810913  Epoch Train loss Kullback-Leibler-divergence=tensor([0.], device='cuda:6')\n"
     ]
    },
    {
     "name": "stderr",
     "output_type": "stream",
     "text": [
      "Epoch 18: 100%|████████████████████████████████████████████████████████████████████| 252/252 [01:05<00:00,  3.87it/s]\n"
     ]
    },
    {
     "name": "stdout",
     "output_type": "stream",
     "text": [
      "Epoch 18, Batch 251, Train loss tensor([3994224.5000], device='cuda:6', grad_fn=<AddBackward0>), Validation loss tensor([3952823.2500], device='cuda:6', grad_fn=<AddBackward0>)\n",
      "EPOCH=18  validation_correlation=0.37296637892723083  Epoch Train loss Kullback-Leibler-divergence=tensor([0.], device='cuda:6')\n"
     ]
    },
    {
     "name": "stderr",
     "output_type": "stream",
     "text": [
      "Epoch 19: 100%|████████████████████████████████████████████████████████████████████| 252/252 [01:05<00:00,  3.87it/s]\n"
     ]
    },
    {
     "name": "stdout",
     "output_type": "stream",
     "text": [
      "Epoch 19, Batch 251, Train loss tensor([3975645.2500], device='cuda:6', grad_fn=<AddBackward0>), Validation loss tensor([3924626.], device='cuda:6', grad_fn=<AddBackward0>)\n",
      "EPOCH=19  validation_correlation=0.3738951086997986  Epoch Train loss Kullback-Leibler-divergence=tensor([0.], device='cuda:6')\n"
     ]
    },
    {
     "name": "stderr",
     "output_type": "stream",
     "text": [
      "Epoch 20: 100%|████████████████████████████████████████████████████████████████████| 252/252 [01:05<00:00,  3.87it/s]\n"
     ]
    },
    {
     "name": "stdout",
     "output_type": "stream",
     "text": [
      "Epoch 20, Batch 251, Train loss tensor([3916917.7500], device='cuda:6', grad_fn=<AddBackward0>), Validation loss tensor([3893384.2500], device='cuda:6', grad_fn=<AddBackward0>)\n",
      "EPOCH=20  validation_correlation=0.37488260865211487  Epoch Train loss Kullback-Leibler-divergence=tensor([0.], device='cuda:6')\n"
     ]
    },
    {
     "name": "stderr",
     "output_type": "stream",
     "text": [
      "Epoch 21: 100%|████████████████████████████████████████████████████████████████████| 252/252 [01:05<00:00,  3.88it/s]\n"
     ]
    },
    {
     "name": "stdout",
     "output_type": "stream",
     "text": [
      "Epoch 21, Batch 251, Train loss tensor([3942751.], device='cuda:6', grad_fn=<AddBackward0>), Validation loss tensor([3922293.7500], device='cuda:6', grad_fn=<AddBackward0>)\n",
      "EPOCH=21  validation_correlation=0.37456047534942627  Epoch Train loss Kullback-Leibler-divergence=tensor([0.], device='cuda:6')\n"
     ]
    },
    {
     "name": "stderr",
     "output_type": "stream",
     "text": [
      "Epoch 22: 100%|████████████████████████████████████████████████████████████████████| 252/252 [01:05<00:00,  3.86it/s]\n"
     ]
    },
    {
     "name": "stdout",
     "output_type": "stream",
     "text": [
      "Epoch 22, Batch 251, Train loss tensor([3936402.7500], device='cuda:6', grad_fn=<AddBackward0>), Validation loss tensor([3914813.2500], device='cuda:6', grad_fn=<AddBackward0>)\n",
      "EPOCH=22  validation_correlation=0.3745109736919403  Epoch Train loss Kullback-Leibler-divergence=tensor([0.], device='cuda:6')\n"
     ]
    },
    {
     "name": "stderr",
     "output_type": "stream",
     "text": [
      "Epoch 23: 100%|████████████████████████████████████████████████████████████████████| 252/252 [01:05<00:00,  3.86it/s]\n"
     ]
    },
    {
     "name": "stdout",
     "output_type": "stream",
     "text": [
      "Epoch 23, Batch 251, Train loss tensor([3966293.5000], device='cuda:6', grad_fn=<AddBackward0>), Validation loss tensor([3944086.], device='cuda:6', grad_fn=<AddBackward0>)\n",
      "EPOCH=23  validation_correlation=0.37681594491004944  Epoch Train loss Kullback-Leibler-divergence=tensor([0.], device='cuda:6')\n"
     ]
    },
    {
     "name": "stderr",
     "output_type": "stream",
     "text": [
      "Epoch 24: 100%|████████████████████████████████████████████████████████████████████| 252/252 [01:05<00:00,  3.87it/s]\n"
     ]
    },
    {
     "name": "stdout",
     "output_type": "stream",
     "text": [
      "Epoch 24, Batch 251, Train loss tensor([3904189.], device='cuda:6', grad_fn=<AddBackward0>), Validation loss tensor([3883613.], device='cuda:6', grad_fn=<AddBackward0>)\n",
      "EPOCH=24  validation_correlation=0.3773304522037506  Epoch Train loss Kullback-Leibler-divergence=tensor([0.], device='cuda:6')\n"
     ]
    },
    {
     "name": "stderr",
     "output_type": "stream",
     "text": [
      "Epoch 25: 100%|████████████████████████████████████████████████████████████████████| 252/252 [01:05<00:00,  3.86it/s]\n"
     ]
    },
    {
     "name": "stdout",
     "output_type": "stream",
     "text": [
      "Epoch 25, Batch 251, Train loss tensor([3859564.2500], device='cuda:6', grad_fn=<AddBackward0>), Validation loss tensor([3840002.2500], device='cuda:6', grad_fn=<AddBackward0>)\n",
      "EPOCH=25  validation_correlation=0.3770008981227875  Epoch Train loss Kullback-Leibler-divergence=tensor([0.], device='cuda:6')\n"
     ]
    },
    {
     "name": "stderr",
     "output_type": "stream",
     "text": [
      "Epoch 26:  17%|███████████▌                                                         | 42/252 [00:11<00:56,  3.71it/s]"
     ]
    }
   ],
   "source": [
    "validation_score, trainer_output, state_dict = trainer(model, dataloaders, seed=42)"
   ]
  },
  {
   "cell_type": "code",
   "execution_count": null,
   "metadata": {},
   "outputs": [],
   "source": [
    "torch.save(model.state_dict(), './model_checkpoints/sensorium_p_rotation_model_tsne.pth')"
   ]
  },
  {
   "cell_type": "markdown",
   "metadata": {},
   "source": [
    "# tSNE"
   ]
  },
  {
   "cell_type": "code",
   "execution_count": 21,
   "metadata": {},
   "outputs": [],
   "source": [
    "import matplotlib.pyplot as plt"
   ]
  },
  {
   "cell_type": "code",
   "execution_count": 22,
   "metadata": {},
   "outputs": [],
   "source": [
    "from sklearn.manifold import TSNE"
   ]
  },
  {
   "cell_type": "code",
   "execution_count": 27,
   "metadata": {},
   "outputs": [
    {
     "name": "stdout",
     "output_type": "stream",
     "text": [
      "<bound method ModuleDict.keys of MultipleFullGaussian2d(\n",
      "  (23964-4-22): full FullGaussian2d (64 x 28 x 56 -> 8098) with bias, with predicted grid  -> Sequential(\n",
      "    (0): Linear(in_features=2, out_features=30, bias=True)\n",
      "    (1): ELU(alpha=1.0)\n",
      "    (2): Linear(in_features=30, out_features=2, bias=True)\n",
      "    (3): Tanh()\n",
      "  )\n",
      "  \n",
      "  (21067-10-18): full FullGaussian2d (64 x 28 x 56 -> 8372) with bias, with predicted grid  -> Sequential(\n",
      "    (0): Linear(in_features=2, out_features=30, bias=True)\n",
      "    (1): ELU(alpha=1.0)\n",
      "    (2): Linear(in_features=30, out_features=2, bias=True)\n",
      "    (3): Tanh()\n",
      "  )\n",
      "  \n",
      "  (22846-10-16): full FullGaussian2d (64 x 28 x 56 -> 7344) with bias, with predicted grid  -> Sequential(\n",
      "    (0): Linear(in_features=2, out_features=30, bias=True)\n",
      "    (1): ELU(alpha=1.0)\n",
      "    (2): Linear(in_features=30, out_features=2, bias=True)\n",
      "    (3): Tanh()\n",
      "  )\n",
      "  \n",
      "  (23343-5-17): full FullGaussian2d (64 x 28 x 56 -> 7334) with bias, with predicted grid  -> Sequential(\n",
      "    (0): Linear(in_features=2, out_features=30, bias=True)\n",
      "    (1): ELU(alpha=1.0)\n",
      "    (2): Linear(in_features=30, out_features=2, bias=True)\n",
      "    (3): Tanh()\n",
      "  )\n",
      "  \n",
      "  (26872-17-20): full FullGaussian2d (64 x 28 x 56 -> 7776) with bias, with predicted grid  -> Sequential(\n",
      "    (0): Linear(in_features=2, out_features=30, bias=True)\n",
      "    (1): ELU(alpha=1.0)\n",
      "    (2): Linear(in_features=30, out_features=2, bias=True)\n",
      "    (3): Tanh()\n",
      "  )\n",
      "  \n",
      "  (23656-14-22): full FullGaussian2d (64 x 28 x 56 -> 8107) with bias, with predicted grid  -> Sequential(\n",
      "    (0): Linear(in_features=2, out_features=30, bias=True)\n",
      "    (1): ELU(alpha=1.0)\n",
      "    (2): Linear(in_features=30, out_features=2, bias=True)\n",
      "    (3): Tanh()\n",
      "  )\n",
      "  \n",
      "  (27204-5-13): full FullGaussian2d (64 x 28 x 56 -> 7538) with bias, with predicted grid  -> Sequential(\n",
      "    (0): Linear(in_features=2, out_features=30, bias=True)\n",
      "    (1): ELU(alpha=1.0)\n",
      "    (2): Linear(in_features=30, out_features=2, bias=True)\n",
      "    (3): Tanh()\n",
      "  )\n",
      "  \n",
      ")>\n"
     ]
    }
   ],
   "source": [
    "print(model.readout.keys)"
   ]
  },
  {
   "cell_type": "code",
   "execution_count": 31,
   "metadata": {},
   "outputs": [],
   "source": [
    "model.load_state_dict(torch.load(\"./model_checkpoints/sensorium_p_rotation_model.pth\"));"
   ]
  },
  {
   "cell_type": "code",
   "execution_count": 32,
   "metadata": {},
   "outputs": [
    {
     "name": "stdout",
     "output_type": "stream",
     "text": [
      "Features for readout 23964-4-22: (8098, 128)\n",
      "Features for readout 21067-10-18: (8372, 128)\n",
      "Features for readout 22846-10-16: (7344, 128)\n",
      "Features for readout 23343-5-17: (7334, 128)\n",
      "Features for readout 26872-17-20: (7776, 128)\n",
      "Features for readout 23656-14-22: (8107, 128)\n",
      "Features for readout 27204-5-13: (7538, 128)\n"
     ]
    }
   ],
   "source": [
    "import seaborn as sns\n",
    "\n",
    "color_palette = sns.color_palette(\"husl\", 7)  \n",
    "features_list = []  # Create an empty list to store features\n",
    "random_indices = [0] * 7\n",
    "features_subset = [None] *7\n",
    "colors =[]\n",
    "i=0\n",
    "for k,readout in model.readout.items():\n",
    "    features = readout.features.cpu().detach().squeeze().T.numpy()\n",
    "    random_indices[i] = np.random.choice(features.shape[0], size=2000, replace=False)\n",
    "    features_subset[i] = (features[random_indices[i], :])\n",
    "    features_list.append(features)  # Append the features to the list\n",
    "    print(f\"Features for readout {k}: {features.shape}\")\n",
    "    colors.extend([color_palette[i]] * features_subset[i].shape[0])  # Extend colors list with the same color\n",
    "\n",
    "    i=i+1"
   ]
  },
  {
   "cell_type": "code",
   "execution_count": null,
   "metadata": {},
   "outputs": [],
   "source": [
    "# Combine all subsets into a single array for t-SNE\n",
    "combined_features = np.vstack(features_subset)\n",
    "n = combined_features.shape[0]\n",
    "\n",
    "perplexity_values = [30, 50, 100, n/100]\n",
    "learning_rates = [10,100,1000,n/12]\n",
    "lr = n/12\n",
    "\n",
    "# Create a plot for each perplexity value\n",
    "plt.figure()\n",
    "\n",
    "for i, perplexity in enumerate(perplexity_values):\n",
    "    #for j, lr in enumerate(learning_rates):\n",
    "        # Apply t-SNE\n",
    "    tsne = TSNE(n_components=2, perplexity=perplexity, learning_rate=lr, random_state=42)  # Adjust perplexity as needed\n",
    "    embedded_data = tsne.fit_transform(combined_features)\n",
    "\n",
    "    # Create a subplot for each perplexity\n",
    "    plt.subplot(2,3, i + 1)  # Correct subplot indexing\n",
    "    plt.scatter(embedded_data[:, 0], embedded_data[:, 1], c=colors, alpha=0.2,s=5)\n",
    "    plt.title(f'Perplexity={perplexity}')\n",
    "\n",
    "# Adjust layout for better spacing\n",
    "plt.tight_layout()\n",
    "handles = [plt.Line2D([0], [0], marker='o', color='w', label=f'Readout {i + 1}',\n",
    "                       markerfacecolor=color_palette[i], markersize=5) for i in range(7)]\n",
    "plt.legend(handles=handles, title='Readouts', loc='upper left', bbox_to_anchor=(1, 1), frameon=True)\n",
    "plt.savefig('tsne_model_with_rotation.png', dpi=300, bbox_inches='tight')  # Save as PNG with hi\n",
    "plt.show()"
   ]
  },
  {
   "cell_type": "code",
   "execution_count": 29,
   "metadata": {},
   "outputs": [
    {
     "name": "stdout",
     "output_type": "stream",
     "text": [
      "(8098, 64)\n"
     ]
    }
   ],
   "source": [
    "k='23964-4-22'\n",
    "features = model.readout[k].features.cpu().detach().squeeze().T.numpy()\n",
    "#[idxs[k], :]\n",
    "print(features.shape)"
   ]
  },
  {
   "cell_type": "code",
   "execution_count": 56,
   "metadata": {},
   "outputs": [],
   "source": [
    "random_indices = np.random.choice(features.shape[0], size=500, replace=False)\n"
   ]
  },
  {
   "cell_type": "code",
   "execution_count": 57,
   "metadata": {},
   "outputs": [
    {
     "data": {
      "text/plain": [
       "(500, 64)"
      ]
     },
     "execution_count": 57,
     "metadata": {},
     "output_type": "execute_result"
    }
   ],
   "source": [
    "features_subset = features[random_indices, :]\n",
    "features_subset.shape\n"
   ]
  },
  {
   "cell_type": "markdown",
   "metadata": {
    "pycharm": {
     "name": "#%% md\n"
    }
   },
   "source": [
    "---"
   ]
  },
  {
   "cell_type": "code",
   "execution_count": 64,
   "metadata": {},
   "outputs": [],
   "source": [
    "from sklearn.cluster import KMeans\n",
    "\n",
    "# Specify the number of clusters\n",
    "n_clusters = 5  # Change as needed\n",
    "kmeans = KMeans(n_clusters=n_clusters, random_state=42)\n",
    "kmeans.fit(features_subset)\n",
    "\n",
    "# Get the cluster labels\n",
    "labels = kmeans.labels_"
   ]
  },
  {
   "cell_type": "code",
   "execution_count": 70,
   "metadata": {},
   "outputs": [],
   "source": [
    "# Apply t-SNE\n",
    "tsne = TSNE(n_components=2, perplexity = 35, random_state=42)\n",
    "features_tsne = tsne.fit_transform(features_subset)"
   ]
  },
  {
   "cell_type": "code",
   "execution_count": 71,
   "metadata": {},
   "outputs": [
    {
     "data": {
      "image/png": "iVBORw0KGgoAAAANSUhEUgAAA1UAAAK9CAYAAADMn0adAAAAOXRFWHRTb2Z0d2FyZQBNYXRwbG90bGliIHZlcnNpb24zLjkuMiwgaHR0cHM6Ly9tYXRwbG90bGliLm9yZy8hTgPZAAAACXBIWXMAAA9hAAAPYQGoP6dpAAEAAElEQVR4nOzdeXwTdfoH8M8khUJbegBtUrCUUkC3VIECRVEUpByK4g3eIK7rsqui9eBYFdBdoKiIq67XesAiCsqu109rLYqLgHIUVOzKWRCxB0IPSqWlyfz+CAnNPZPMZCbJ570vXm4nk+SbSZrOM9/n+zyCKIoiiIiIiIiIKCAGrQdAREREREQUzhhUERERERERBYFBFRERERERURAYVBEREREREQWBQRUREREREVEQGFQREREREREFgUEVERERERFREBhUERERERERBYFBFRERERERURAYVBGRZt544w0IgoD9+/frbhwjRozAiBEjQj4WrZ5Xjurqalx77bXo0qULBEHAkiVLtB6SmylTpqBnz54B3Tcc3oNwFcrPzv79+yEIAp588knVnoOIyI5BFZEObNiwAXPnzkVdXZ3k+zQ2NmLOnDnIzc1FfHw8unTpggEDBmD69On45ZdfHPvNnTsXgiDAZDKhqanJ7XF69uyJyy67zGmbIAhe//3xj3/0OqYJEyYgLi4Ox44d87rPTTfdhPbt2+PIkSOSX2ukKS8vx9y5czUPJgN133334dNPP8WsWbPwr3/9C+PGjfO6r/1z8/vf/97j7X/5y18c+/z6669qDVkVPXv29Pp7cuLECVWec/78+XjvvfdUeexQkPPZ0bvNmzfjrrvuQr9+/RAfH48ePXpg4sSJ2LVrl9u+r7zyCi666CKYTCbExsYiKysLt912m8fvgOrqatx2221IS0tDx44dkZeXh3feecfrOFauXInzzjsP8fHxSE5OxrBhw/D555973f+rr74K6nfu5MmTyMnJkRWwSj1WVqsVb7zxBiZMmICMjAzEx8cjNzcXf/3rX1X7nSJSSozWAyAiW1A1b948TJkyBcnJyX73P3nyJC688EL8+OOPmDx5Mu6++240Njbihx9+wIoVK3DVVVehW7duTvepqanBCy+8gPvvv1/SmEaPHo1bb73VbXvfvn293uemm27Chx9+iP/85z8e79vU1IT3338f48aNQ5cuXXDLLbfg+uuvR2xsrKQxhVJJSYlqj11eXo558+ZhxIgRbrMpaj6vUj7//HNcccUVeOCBByTt36FDB6xevRr/+Mc/0L59e6fb3nrrLXTo0CFsT5gGDBjg8XfK9XUqZf78+bj22mtx5ZVXqvL4apP72dGzoqIirF+/Htdddx3OOeccVFVV4bnnnkNeXh6+/vpr5ObmOvbdtm0bsrKyMGHCBKSkpKCiogKvvPIKPvroI3z77beO7+uGhgZccMEFqK6uxvTp02E2m7Fq1SpMnDgRb775Jm688UanMcydOxePPfYYrr32WkyZMgUnT57Ejh07cOjQIY9jtlqtuPvuuxEfH4/jx48H9LqfffZZ/PTTT7LuI/VYNTU14bbbbsO5556LP/7xj0hLS8PGjRsxZ84crFmzBp9//jkEQQho3ESqE4lIc0888YQIQKyoqJC0/6pVq0QA4ptvvul222+//SbW19c7fp4zZ44IQBwwYIBoMpnEpqYmp/0zMzPF8ePHO20DIP75z3+W/TqamprETp06iWPHjvV4+4oVK0QA4ttvvy37sdX0+uuvyzr+wXrnnXdEAOIXX3wRkudTmiAIkj8fAMQrr7xSNBgM4nvvved02/r160UA4jXXXCMCEA8fPqzYGCdPnixmZmYGdN+LLrpIvOiii/zu5+l3R23x8fHi5MmTFX1Mi8Ui/vbbb4o+pjdyPjtS/Pbbb6LFYvF4W0VFhQhAfOKJJxR7vrbWr18vNjc3O23btWuXGBsbK950001+779lyxYRgLhgwQLHtkWLFokAxDVr1ji2WSwWcciQIaLZbHZ6vo0bN4qCIIiLFy+WPOYXXnhB7NKlizh9+vSAfueqq6vFpKQk8bHHHpN1bKUeq+bmZnH9+vVu9583b54IQPzss89kjZcolJj+R6SxuXPn4sEHHwQAZGVlOdIyfKWG7d27FwBw/vnnu93WoUMHJCYmum1/9NFHUV1djRdeeEGZgXvQsWNHXH311VizZg1qamrcbl+xYgU6deqECRMmAPC8lmnLli0YO3Ysunbtio4dOyIrKwtTp0513L527VoIgoC1a9c6PbZ9/cQbb7zh2Pbdd99hypQp6NWrFzp06ACz2YypU6dKSj10XVfjK9XLPpYDBw7gT3/6E84880x07NgRXbp0wXXXXef0+t544w1cd911AICRI0e6PYan9Tw1NTW4/fbbYTKZ0KFDB/Tv3x9Lly71+PqffPJJvPzyy8jOzkZsbCyGDBmCzZs3+329ALBv3z5cd9116Ny5M+Li4nDuuefi//7v/5zGLggCRFHE888/7xi7P927d8eFF16IFStWOG1/8803cfbZZztd0W/rnXfewaBBg9CxY0d07doVN998s8cr8O+99x5yc3PRoUMH5Obm4j//+Y/Hx7NarViyZAn69euHDh06wGQy4c4770Rtba3f1xCouro63HvvvcjIyEBsbCx69+6NoqIiWK1Wp/2efPJJDBs2DF26dEHHjh0xaNAgvPvuu077CIKA48ePY+nSpY5jP2XKFADe15DZ039dH+euu+7Cm2++iX79+iE2NhbFxcUAgEOHDmHq1KmONLV+/frhtddec3vcZ599Fv369UNcXBxSUlIwePBgt/e3LX+fHX+fPeD07/7bb7+Nhx9+GN27d0dcXBwaGhq8Pq8rURTxhz/8Ae3bt8e///1vyffzZNiwYW4zkn369EG/fv3wv//9z+/97e9X27TvdevWITU1FRdffLFjm8FgwMSJE1FVVYUvv/zSsX3JkiUwm82YPn06RFFEY2Ojz+c7evQoHn74YTz22GOSMiI8mTlzJs4880zcfPPNsu4n9Vi1b98ew4YNc7v/VVddBQCSjiuRVpj+R6Sxq6++Grt27cJbb72Fp59+Gl27dgUApKamer1PZmYmAGDZsmV4+OGHJZ3YDh8+HBdffDEWLVqEadOmoWPHjj73P3HihMd8+8TERJ+pTTfddBOWLl2KVatW4a677nJsP3r0KD799FPccMMNXp+7pqYGY8aMQWpqKmbOnInk5GTs378/4JOfzz77DPv27cNtt90Gs9mMH374AS+//DJ++OEHfP3117LSSJYsWeJ20vL0009j+/bt6NKlCwDbuoENGzbg+uuvxxlnnIH9+/fjhRdewIgRI1BeXo64uDhceOGFuOeee/D3v/8ds2fPxu9+9zsAcPzX1W+//YYRI0Zgz549uOuuu5CVlYV33nkHU6ZMQV1dHaZPn+60/4oVK3Ds2DHceeedEAQBixYtwtVXX419+/ahXbt2Xl9fdXU1hg0bhqamJtxzzz3o0qULli5digkTJuDdd9/FVVddhQsvvBD/+te/cMstt3hND/XmxhtvxPTp09HY2IiEhAS0trbinXfeQWFhocfUvzfeeAO33XYbhgwZggULFqC6uhrPPPMM1q9fj23btjlOCktKSnDNNdcgJycHCxYswJEjR3DbbbfhjDPOcHvMO++80/G499xzDyoqKvDcc89h27ZtWL9+vc/j483Jkyfdfk/i4uIQFxeHpqYmXHTRRTh06BDuvPNO9OjRAxs2bMCsWbNQWVnpVKThmWeewYQJE3DTTTehpaUFb7/9Nq677jp89NFHGD9+PADgX//6F37/+98jPz8ff/jDHwAA2dnZsscM2NLw7L+jXbt2Rc+ePVFdXY1zzz3XEXSlpqbik08+we23346Ghgbce++9AGzrg+655x5ce+21mD59Ok6cOIHvvvsO33zzjVt6mp2vz46Uz15bjz/+ONq3b48HHngAzc3NklMtLRYLpk6dipUrV+I///mP47harVYcPXpU0mMkJSX5/JyIoojq6mr069fP4+1HjhyBxWLBTz/9hMceewwAMGrUKMftzc3NHr8f4+LiAABbt27F6NGjAQBr1qzBsGHD8Pe//x1//etfceTIEZjNZvzlL39x+u61e+SRR2A2m3HnnXfi8ccfl/R629q0aROWLl3qWJMVLH/Hqq2qqioAcPx9JNIlLafJiMhGbvpfU1OTeOaZZ4oAxMzMTHHKlCniq6++KlZXV7vta0//O3z4sPjll1+KAJzSRbyl/3n799Zbb/kcW2trq5ieni6ed955TttffPFFEYD46aefOra5pt395z//EQGImzdv9vr4X3zxhcfUOXuqz+uvv+50nFy99dZbIgDxv//9r9dxiKL/FDB7CuZjjz3m8/k2btwoAhCXLVvm2OYr/c/1eZcsWSICEJcvX+7Y1tLSIp533nliQkKC2NDQ4PT6u3TpIh49etSx7/vvvy8CED/88EOvr0UURfHee+8VAYjr1q1zbDt27JiYlZUl9uzZ0ynFCjLSQ+37Hj16VGzfvr34r3/9SxRFUfy///s/URAEcf/+/U6fUfvrS0tLE3Nzc53S0j766CMRgPjoo486tg0YMEBMT08X6+rqHNtKSkocvxt269at85gyW1xc7LZdTvqfp9+ROXPmiKIoio8//rgYHx8v7tq1y+l+M2fOFI1Go/jTTz85trl+dlpaWsTc3Fzx4osvdtruLf3PW7qj/di2BUA0GAziDz/84LT99ttvF9PT08Vff/3Vafv1118vJiUlOcZ4xRVXiP369XM/IBJ4+uxI/ezZf/d79erl8XfNVdv0v5MnT4qTJk0SO3bs6PQd1HY/Kf/8pez+61//EgGIr776qsfbY2NjHY/VpUsX8e9//7vT7XfffbdoMBjE/fv3O22//vrrRQDiXXfdJYqiKB49etTxGAkJCeITTzwhrly5Uhw3bpwIQHzxxRed7v/tt9+KRqPR8dpdf+f8sVqtYn5+vnjDDTc4HbNgUiv9Hau2CgoKxMTERLG2tjbg5yNSG9P/iMJQx44d8c033zjSBt944w3cfvvtSE9Px913343m5maP97vwwgsxcuRILFq0CL/99pvP57jiiivw2Wefuf0bOXKkz/sZjUZcf/312Lhxo1Pa24oVK2AymZyuyrqyzz589NFHOHnypM/nkaLtFV/7zNu5554LACgrKwv4ccvLyzF16lRcccUVePjhhz0+38mTJ3HkyBH07t0bycnJAT/fxx9/DLPZjBtuuMGxrV27drjnnnvQ2NjolA4EAJMmTUJKSorj5+HDhwOwpVf5e578/HxccMEFjm0JCQn4wx/+gP3796O8vDyg8dulpKRg3LhxeOuttwDYPg/Dhg1zzLq2tWXLFtTU1OBPf/oTOnTo4Ng+fvx4nHXWWY60sMrKSmzfvh2TJ09GUlKSY7/Ro0cjJyfH6THfeecdJCUlYfTo0fj1118d/wYNGoSEhAR88cUXAb2uoUOHuv2O2Gdh3nnnHQwfPhwpKSlOz1lQUACLxYL//ve/jsdp+9mpra1FfX09hg8fHtTn1JeLLrrI6RiJoojVq1fj8ssvhyiKTuMdO3Ys6uvrHWNJTk7Gzz//LDmt1B+5n73Jkyf7nWlvq6WlxTHr9/HHH2PMmDFOt5vNZo/fdZ7+9e/f3+vz/Pjjj/jzn/+M8847D5MnT/a4zyeffIKPP/4YTz31FHr06OFWLOL3v/89jEYjJk6ciA0bNmDv3r1YsGCBI6XV/r1tnzU/cuQI/vnPf+KBBx7AxIkT8X//93/IycnBX//6V6fHveeee3DJJZe4vXap3njjDXz//fcoKioK6P6upBwru/nz56O0tBQLFy4MOG2RKBSY/kekY0ePHkVLS4vj544dOzpOHpOSkrBo0SIsWrQIBw4cwJo1a/Dkk0/iueeeQ1JSktsfVbu5c+fioosuwosvvoj77rvP63OfccYZKCgoCGjcN910E55++mmsWLECs2fPxs8//4x169bhnnvugdFo9Hq/iy66CNdccw3mzZuHp59+GiNGjMCVV16JG2+8MaAKgUePHsW8efPw9ttvu63xqq+vl/14gK0619VXX43u3btj2bJlTmkwv/32GxYsWIDXX38dhw4dgiiKQT/fgQMH0KdPHxgMztfA7OmCBw4ccNreo0cPp5/tAZa/dUMHDhzA0KFD3ba3fR5va5+kuvHGG3HLLbfgp59+wnvvvYdFixZ5HQsAnHnmmW63nXXWWfjqq6+c9uvTp4/bfmeeeaZTQLJ7927U19cjLS3N43N6WgMoRdeuXb3+nuzevRvfffed11Tets/50Ucf4a9//Su2b9/udFFErUpnWVlZTj8fPnwYdXV1ePnll/Hyyy/7HO+MGTNQWlqK/Px89O7dG2PGjMGNN97ocY2nFHI/e65j92fBggVobGzEJ5984rH/WIcOHQL+rrOrqqrC+PHjkZSUhHfffdfr95z9otQll1yCK664Arm5uUhISHCk651zzjlYsWIF/vjHPzqOp9lsxpIlSzBt2jQkJCQAOB2Et2vXDtdee63j8Q0GAyZNmoQ5c+bgp59+Qo8ePbBy5Ups2LABO3bs8PkaGhsbnVKcjUYjUlNT0dDQgFmzZuHBBx9ERkaG1/tbLBYcPnzYaVvnzp3d0jOlHivAVi7+4Ycfxu23345p06b5HD+R1hhUEenY1Vdf7TQTMXnyZKdCDHaZmZmYOnUqrrrqKvTq1Qtvvvmm16DqwgsvxIgRI7Bo0SKfPaeCMWjQIJx11ll46623MHv2bLz11lsQRRE33XSTz/sJgoB3330XX3/9NT788EN8+umnmDp1Kp566il8/fXXSEhI8HqSabFY3LbZr/Y++OCDGDBgABISEmC1WjFu3Di3QgFSTZkyBb/88gs2bdrkVhDk7rvvxuuvv457770X5513HpKSkiAIAq6//vqAn08ubycobQM8rUyYMAGxsbGYPHkympubMXHixJA9t9VqRVpaGt58802Pt/tawxjMc44ePRoPPfSQx9vt7QnWrVuHCRMm4MILL8Q//vEPpKeno127dnj99dd9Fn9oS87vBQC3mR775/Pmm2/2OnNwzjnnALAFOzt37sRHH32E4uJiR7n8Rx99FPPmzZM03mDImaUCgLFjx6K4uBiLFi3CiBEjnGY/Ac/BgDeegoT6+npccsklqKurw7p169zaWXiTnZ2NgQMH4s0333RaA3XttddiwoQJ+Pbbb2GxWJCXl+coZGP/zHTu3BkdOnRAcnKy2++8/cJBbW0tevTogQcffBDXXXcd2rdv78gesBfHOHjwIFpaWtCtWzc8+eSTTu9fZmYm9u/fjyeffBItLS2YNGmS4/4///yz4zn279+Pbt264ZdffnELeL/44gunQFbOsbLP+o4fPx4vvviipGNKpCUGVUQ64O2E6KmnnnKaYfD3xzolJQXZ2dl+r0jOnTsXI0aMwEsvvSR/sBLddNNNeOSRR/Ddd99hxYoV6NOnD4YMGSLpvueeey7OPfdc/O1vf8OKFStw00034e2338bvf/97x8yLa6Nk1xmb2tparFmzBvPmzcOjjz7q2L579+6AX9PChQvx3nvv4d///jfOOusst9vfffddTJ48GU899ZRj24kTJ9zGKmf2ITMzE9999x2sVqvTbNWPP/7ouF0JmZmZ2Llzp9t2JZ+nY8eOuPLKK7F8+XJccsklXhed259r586dTlXQ7Nvst9v/6+k9dX0t2dnZKC0txfnnny/7pDxQ2dnZaGxs9DsLsnr1anTo0AGffvqp04zs66+/7ravt89OSkqKx+bhrr8X3qSmpqJTp06wWCySZm3i4+MxadIkTJo0CS0tLbj66qvxt7/9DbNmzXILWvxR+7Nn73l02WWX4brrrsN//vMfxMScPv05ePCg5Nkv1yDhxIkTuPzyy7Fr1y6Ulpa6pZ3689tvv3lM127fvr3T92VpaSkAON4bg8GAAQMGYPPmzWhpaXEK9OzN3+0XCg4ePIgVK1Z4DNDz8vLQv39/bN++HbfeeqtTCqb99+Snn35CbW2tx4IS8+fPx/z587Ft2zacddZZ+Oyzz5xub5suKedYffPNN7jqqqswePBgrFq1yun9ItIrfkqJdCA+Ph6Ae6AwaNAgj/t/++236N69u9tJ6YEDB1BeXu4xbaqtiy66CCNGjEBRUZFqMxj2oOrRRx/F9u3bMXfuXL/3qa2tRXJystOJ44ABAwDAceKRmZkJo9GI//73v04NUP/xj384PZb96q3r62tbcU2O0tJSPPzww/jLX/7itfGq0Wh0e75nn33WbbbA2/vtyaWXXoqSkhKsXLnSsa6qtbUVzz77LBISEnDRRRfJfzFenmfJkiXYuHEjzjvvPADA8ePH8fLLL6Nnz56yTxa9eeCBB5CdnY2xY8d63Wfw4MFIS0vDiy++iKlTpzoCjU8++QT/+9//HEFyeno6BgwYgKVLl2LmzJmO1NjPPvsM5eXlTifjEydOxD/+8Q88/vjjmD9/vtPztba2orGxUfH1GhMnTsTcuXPx6aefur3euro6JCQkICYmBkajEYIgOH1O9u/fj/fee8/tMePj4z1+brKzs1FfX4/vvvvOMaNUWVnptby8K6PRiGuuuQYrVqzAjh073FI9Dx8+7DhJP3LkiKPiJWALAHJycvDJJ5/g5MmTsoOqUHz2CgoKHBUVb7nlFrz55puOixT2NVVStA0SLBYLJk2ahI0bN+L99993jN1Va2srjh075rTWEbBV0/v++++9Vky02717N1588UVcdtllTs3XJ02ahK+//hpLly7FHXfcAcAWuLz55pvIyclxXITz9Bl4++23sXLlSixbtsxRKbNXr17o1auX27733HOP23deTU0N7rzzTkyZMgVXXHEFsrKyfKZRSj1WgK1s+vjx49GzZ0989NFHIbsIQhQsBlVEOmAPnv7yl7/g+uuvR7t27XD55Zc7Tr5dffbZZ5gzZw4mTJiAc889FwkJCdi3bx9ee+01NDc3Swpg5syZ47PoxK5du7B8+XK37SaTyVHS15esrCwMGzYM77//PgD4Tf0DgKVLl+If//gHrrrqKmRnZ+PYsWN45ZVXkJiYiEsvvRSAbS3Zddddh2effRaCICA7OxsfffSR25qYxMREXHjhhVi0aBFOnjyJ7t27o6SkBBUVFX7H4ckNN9yA1NRU9OnTx+24jB49GiaTCZdddhn+9a9/ISkpCTk5Odi4cSNKS0udTkABW6BoNBpRVFSE+vp6xMbG4uKLL/a43ucPf/gDXnrpJUyZMgVbt25Fz5498e6772L9+vVYsmQJOnXqFNDrcTVz5ky89dZbuOSSS3DPPfegc+fOWLp0KSoqKrB69Wq3NV2B6t+/v8/F/oBtnUhRURFuu+02XHTRRbjhhhscJdV79uzptBZwwYIFGD9+PC644AJMnToVR48edfRQars+5KKLLsKdd96JBQsWYPv27RgzZgzatWuH3bt345133sEzzzzjtDZFCQ8++CA++OADXHbZZZgyZQoGDRqE48eP4/vvv8e7776L/fv3o2vXrhg/fjwWL16McePG4cYbb0RNTQ2ef/559O7dG999953TYw4aNAilpaVYvHgxunXrhqysLAwdOhTXX389ZsyYgauuugr33HMPmpqa8MILL6Bv376Si10sXLgQX3zxBYYOHYo77rgDOTk5OHr0KMrKylBaWuooOz5mzBiYzWacf/75MJlM+N///ofnnnsO48ePD+jzGKrP3pVXXonXX38dt956KxITEx0z9YGuqbr//vvxwQcf4PLLL8fRo0fdvhfsvZwaGxuRkZGBSZMmoV+/foiPj8f333+P119/HUlJSXjkkUec7peTk4PrrrsOPXr0QEVFBV544QV07tzZLQXuzjvvxD//+U/8+c9/xq5du9CjRw/861//woEDB/Dhhx86vW5X27dvBwCfM8Z2eXl5yMvLc9pmTwPs16+f14tMbUk9VseOHcPYsWNRW1uLBx980K1XWXZ2ts+AjEhT2hUeJKK2Hn/8cbF79+6iwWDwW15937594qOPPiqee+65YlpamhgTEyOmpqaK48ePFz///HOnfX2Vzr3oootEALJKqkspNW33/PPPiwDE/Px8j7e7ljIvKysTb7jhBrFHjx5ibGysmJaWJl522WXili1bnO53+PBh8ZprrhHj4uLElJQU8c477xR37NjhVlL9559/Fq+66ioxOTlZTEpKEq+77jrxl19+cSp77Wkc9mPT9rX6Oib2Msu1tbXibbfdJnbt2lVMSEgQx44dK/74449iZmamWxnsV155RezVq5doNBqdHsNTOe/q6mrH47Zv3148++yznV6nKPoucez6er3Zu3eveO2114rJyclihw4dxPz8fPGjjz7y+HhyS6r74u0zunLlSnHgwIFibGys2LlzZ/Gmm24Sf/75Z7f7r169Wvzd734nxsbGijk5OeK///1vryXGX375ZXHQoEFix44dxU6dOolnn322+NBDD4m//PKLYx85JdVdf3dcHTt2TJw1a5bYu3dvsX379mLXrl3FYcOGiU8++aTY0tLi2O/VV18V+/TpI8bGxopnnXWW+Prrr3ssh/7jjz+KF154odixY0cRgNPnqqSkRMzNzRXbt28vnnnmmeLy5cu9llT39p5UV1eLf/7zn8WMjAyxXbt2otlsFkeNGiW+/PLLjn1eeukl8cILLxS7dOkixsbGitnZ2eKDDz4o1tfX+z1m3p5bymfPXlL9nXfe8fs8ouj9d+If//iHCEB84IEHJD2ON/bvT2//7Jqbm8Xp06eL55xzjpiYmCi2a9dOzMzMFG+//XaP3/PXX3+9mJGRIbZv317s1q2b+Mc//tFjuwxRtL1fkydPFjt37izGxsaKQ4cOFYuLi/2OXW5JdVdyS6pLPVb+ytt7aidApBeCKOpg9TIREREREVGYYp8qIiIiIiKiIDCoIiIiIiIiCgKDKiIiIiIioiAwqCIiIiIiIgoCgyoiIiIiIqIgMKgiIiIiIiIKApv/urBarfjll1/QqVMnCIKg9XCIiIiIiEgjoiji2LFj6Natm89m5AyqXPzyyy/IyMjQehhERERERKQTBw8exBlnnOH1dgZVLjp16gTAduASExM1Hg0REREREWmloaEBGRkZjhjBGwZVLuwpf4mJiQyqiIiIiIjI77IgFqogIiIiIiIKAoMqIiIiIiKiIDCoIiIiIiIiCgKDKiIiIiIioiAwqCIiIiIiIgoCgyoiIiIiIqIgMKgiIiIiIiIKAoMqIiIiIiKiIDCoIiIiIiIiCgKDKiIiIiIioiCEVVD13//+F5dffjm6desGQRDw3nvvOd0+ZcoUCILg9G/cuHHaDJaIiIiIiKJCWAVVx48fR//+/fH888973WfcuHGorKx0/HvrrbdCOEIiIiIiIoo2MVoPQI5LLrkEl1xyic99YmNjYTabQzQiIiIiIiKKdmE1UyXF2rVrkZaWhjPPPBPTpk3DkSNHfO7f3NyMhoYGp39ERERERERSRVRQNW7cOCxbtgxr1qxBUVERvvzyS1xyySWwWCxe77NgwQIkJSU5/mVkZIRwxEREREREFO4EURRFrQcRCEEQ8J///AdXXnml13327duH7OxslJaWYtSoUR73aW5uRnNzs+PnhoYGZGRkoL6+HomJiUoPm4iIiIiIwkRDQwOSkpL8xgYRNVPlqlevXujatSv27NnjdZ/Y2FgkJiY6/SMiIiIiIpIqooOqn3/+GUeOHEF6errWQyEiIiIioggVVtX/GhsbnWadKioqsH37dnTu3BmdO3fGvHnzcM0118BsNmPv3r146KGH0Lt3b4wdO1bDURMRERERUSQLq6Bqy5YtGDlypOPnwsJCAMDkyZPxwgsv4LvvvsPSpUtRV1eHbt26YcyYMXj88ccRGxur1ZCJiIiIiCjChW2hCrVIXYxGRERE6mppbcHKXStxsOEgMhIzMKnvJLSPaa/1sIgoikiNDcJqpoqIiIiiw+Iti7G0fCmsotWx7cktT2JyzmQUDi7UcGRERO4YVBEREZGuLN6yGK//8LrbdqtodWxnYEVEehLR1f+IiIgovLS0tmBp+VKf+ywtX4qW1pYQjYiIyD8GVURERKQbK3etdEr588QqWrFy18oQjYiIyD8GVURERKQbBxsOKrofEVEoMKgiIiIi3chIzFB0PyKiUGBQRUREpCMWq4iNe4/g/e2HsHHvEVis0dX5ZFLfSTAIvk9PDIIBk/pOCtGIiIj8Y/U/IqIwZLFaUFZThsNNh5Eal4q8tDwYDUath0VBKt5RiXkflqOy/oRjW3pSB8y5PAfjctM1HFnotI9pj8k5kz1W/7ObnDOZ/aqISFcYVBERhZnSA6VYuGkhqpuqHdtMcSbMzJ+JgswCDUdGwSjeUYlpy8vgOi9VVX8C05aX4YWb86ImsLKXS3ftU2UQDOxTRUS6JIiiGF15BX5I7ZpMRKSF0gOluG/tfV5vf3rE0wyswpDFKuKCos+dZqjaEgCYkzrgqxkXw2gQQjs4DbW0tmDlrpU42HAQGYkZmNR3EmeoiCikpMYGnKkiIgoTFqsFczfO9bnPvI3zMDJjJFMBw8ymiqNeAyoAEAFU1p/ApoqjOC+7S+gGprH2Me1xS84tWg+DiMgvFqogIgoTm6s2o7653uc+dc112Fy1OUQjIqXUHPMeUAWyHxERhRaDKiKiMLG5WlqwJHU/0o+0Th0U3Y+IiEKLQRURUbiQugKWK2XDTn5WZ6QndYC31VICbFUA87M6h3JYREQkEYMqIqIwkZ+er+h+pB9Gg4A5l+cAgFtgZf95zuU5UVWkgogonDCoIiIKE4NNg5HUPsnnPsntkzHYNDhEIyIljctNxws358Gc5JziZ07qEFXl1ImIwhGr/xERhQmjwYi5w+b6LKk+Z9gcVv4LY+Ny0zE6x4xNFUdRc+wE0jrZUv44Q0VEpG/sU+WCfaqISO9KD5RiwTcLUPNbjWObqaMJM4ey+S8REZGS2KeKiChCFWQWYGTGSJTVlOFw02GkxqUiLy2PM1REREQaYVBFRBSGjAYjhpiHaD0MIiIiAgtVEBERERERBYVBFRERERERURAYVBEREREREQWBQRUREREREVEQGFQREREREREFgUEVERERERFREBhUERERERERBYFBFRERERERURAYVBEREREREQWBQRUREREREVEQGFQREREREREFgUEVERERERFREBhUERERERERBYFBFRERERERURBitB4AEVG0sFgtKKspw+Gmw0iNS0VeWh6MBqPWwyIiIqIgMagiIgqB0gOlWLhpIaqbqh3bTHEmzMyfiYLMAg1HRkRERMFi+h8RkcpKD5SicG2hU0AFADVNNShcW4jSA6UajYyIiIiUwKCKiEhFFqsFCzcthAjR7Tb7tqJNRbBYLaEeGhERESmE6X9EJBnXBMlXVlPmNkPVlggRVU1VKKspwxDzkBCOLLrws0tERGpiUEVEknBNUGAONx1WdD+Sj59dIiJSG9P/iMgvrgkKXGpcqqL7kTz87BIRUSgwqCIin7gmKDh5aXkwxZkgQPB4uwAB5jgz8tLyQjyyyMfPLhERhQqDKiLySc6aIHJnNBgxM38mALgFVvafZ+TP4PoeFfCzS0REocKgioh84pqg4BVkFmDxiMVIi0tz2m6KM2HxiMVc16MSfnaJiChUWKiCiHwKuzVBVgtwYAPQWA0kmIDMYYAOZoEKMgswMmMkK9CFUNh9dkOMFRGJiJTDoIqIfLKvCappqvG4NkWAAFOcSR9rgso/AIpnAA2/nN6W2A0YVwTkTNBuXKcYDUaWTQ+hsPrshhgrIhIRKYvpf0TkU9isCSr/AFh1q3NABQANlbbt5R9oMy7STNh8dkOMFRGJiJTHoIqI/Ap2TZDFasHmqs34eN/H2Fy1Wflqa1aLbYbKw2yEY1vxTNt+FFW4ns0ZKyISEamD6X9EJEmga4I8pRmlxKbg4XMfxpieY5QZ3IEN7jNUTkSg4ZBtv6zhyjwnhQ2uZztNTkVEpqoSEUnHoIqIJJO7JsieZuR6Vby2uRb3f3k/bvv1NhQOLgx+YI3eTxID2o8iDtez2bAiIhGROpj+R0Sq8JVmZPf6D6+jZH9J8E+WYFJ2P6IIxYqIRETqYFBFRKrwl2Zk97dv/hb8+o3MYbYqfy7FCE4TgMTutv2IvFB97Z8O2CsiuhbusBMgwBxnjsqKiEREwWBQRUSqkJo+dPTEUZTVlAX3ZAajrWw6APfA6tTP4xbqol8V6VPpgVKMXT0WUz+dihnrZmDqp1MxdvXYiKuEx4qIRETqYFBFRKqQkz6kyPqNnAnAxGVAYrrz9sRutu066FNF+hRtJcZZEZGISHksVEFEqshLy0NKbApqm2v97qvY+o2cCcBZ421V/hqrbWuoModxhoq88ldiXICAok1FGJkxMqJmb1gRkYhIWQyqiCgoFqvF44mZ0WDEw+c+jPu/vN/n/RVfv2Ewsmw6SRbNJcZZEZGISDkMqogoYJ56UJniTJiZPxMFmQUY03MMbvv1Nrz+w+se7y9A4PoN0pTU1NPq4yzHT0RE3nFNFREFROo6lMLBhXjqoqeQEpvitJ85zsz1G6Q5qamnizYviri1VUREpBxBFEXvTWSiUENDA5KSklBfX4/ExESth0OkSxarBWNXj/WaNiVAgCnOhOJrih2zUN7SBIm0ZP8s1zTV+OypZq+MxwsBRETRRWpswJkqIpJNzjoUO/v6jUt7XYoh5iEMqMKA1Sri0M5a7NpchUM7a2G1Rt41uLYlxn2xB1xFm4oisn8VEREFh2uqiEg2qetQFCmVTprYu60G61buxvG6Zse2+ORYDJ/UB9kD03zcM/zYS4w/tvExn9UqI7loBRERBYczVUQkm9R1KIqVSqeQ2rutBsUv7XAKqADgeF0zil/agb3bajQamXoKMgvw0JCHJO3LiwVEROSKQRURyZaXlgdTnMmxzsSVAEH5UukUElariHUrd/vc56tVuyMyFdAUb5K0Hy8WEBGRKwZVRCRb23UoroGV/WeWSg9Plbvr3GaoXDXWNqNyd11oBhRCvFhARESBYlBFRAGxr0NJi3NeX2OKM7FCWhg73uA7oJK7XzjhxQIiIgoUC1UQUcAKMgswMmMkS6VHkLiE9oruF27sFws8NbWekT+DFwuIiMgjBlVEFBR7qXSKDKLnzLeA9wtHvFhARERyMagiIiKH3461KLpfuOLFAiIikoNBFREROcQnxiq6X7ixWC2coSIiItkYVBERkUN6n2TEJ8f6rACYkBKL9D7JoRtUiJQeKPW4lmpm/kyupSIiIp9Y/Y+IiBwMBgHDJ/Xxuc8FE/vAYIisRVWlB0pRuLbQKaACgJqmGhSuLUTpgVKNRkZEROGAQRURETnJHpiGcXfmIj7ZOcUvISUW4+7MRfbANC/3DE8WqwULNy2ECPeGxvZtRZuKYLFaQj00IiIKE0z/IyIiN9kD05DVP9XWDLihGfGJtpS/SJuhAoCymjK3Gaq2RIioaqpCWU0Zi1cQEZFHDKqIiMgjg0FA9zNTtB6G6g43HVZ0P9KeaLGgactWtB4+jJjUVMQNHgTByIIjRKQeBlVERBTVUuNSFd2PtNVQUoLq+QvQWlXl2BZjNsM0exYSx4zRcGREFMm4poqIiKJaXloeTHEmCPCc2ihAgDnOjLy0vBCPjORqKCnBoen3OgVUANBaXY1D0+9FQ0mJRiMjokjHoIqIiKKa0WDEzPyZAOAWWNl/npE/g/2qdE60WFA9fwEguhccsW+rnr8AooUFR4hIeQyqiIgo6hVkFmDxiMVIi3OubGiKM2HxiMXsUxUGmrZsdZuhciKKaK2qQtOWraEbFBFFDa6pIiIKIatVjIqKeuGoILMAIzNGoqymDIebDiM1LhV5aXmcoQoTxz7/XNJ+rYdZcISIlMegiogoRPZuq8G6lbtxvK7ZsS0+ORbDJ/WJuN5P4cpoMLJsehhqKClB7dKlkvaNSWXBESJSHoMqIj+sLS2oXfEWWg4eRPuMDKTceAMM7dtrPayQslgtvHofpL3balD80g637cfrmlH80o6IbKpLFAqOtVQSxJjNiBs8SOUREVE0YlBF5EP1E0/g6OtvAFarY1vNokXofNsUmB58ULuBhVDpgVIs3LTQqTmqKc6Emfkzuc5EIqtVxLqVu33u89Wq3cjqn8pUQCKZ/K6lasM0exb7VRGRKliogsiL6ieewNFXX3MKqAAAViuOvvoaqp94QpuBhVDpgVIUri10CqgAoKapBoVrC1F6oFSjkYWXyt11Til/njTWNqNyd11oBhQEi9WCzVWb8fG+j7G5ajMsVlZSI21JXSOVMvlW9qkKgsUqYuPeI3h/+yFs3HsEFquHKotEUYwzVUQeWFtabDNUPhx9/Q2kTp8esamAFqsFCzcthAj3P5wiRAgQULSpCCMzRjIV0I/jDb4DKrn7aYWzlqRHUtdIdbp4lMojiVzFOyox78NyVNafcGxLT+qAOZfnYFxuuoYjI9IPzlQReVC74i33GSpXVqttvwhVVlPmNkPVlggRVU1VKKspC+GowlN8Yqyi+2mBs5akV3GDB8GQnOx9B0HgWqogFO+oxLTlZU4BFQBU1Z/AtOVlKN5RqdHIiPSFQRWRBy0HDyq6Xzg63CQtpUbqftEsvU8y4pN9B0wJKbby6nrkb9YSAIo2FTEVkDRxbM0aWOvqvO8gilxLFSCLVcS8D8s9/ObDsW3eh+VMBSQCgyoij9pnZCi6XzhKjZOWUiN1v2hmMAgYPqmPz30umNhHt0UqOGtJoSBaLDj+zSbUf/R/OP7NJogW/0G6lMp/xuRkdBrF1L9AbKo46jZD1ZYIoLL+BDZVHA3doIh0ikEVkQcpN94AGPz8ehgMtv0iVF5aHkxxJgjwfKIvQIA5zoy8tLwQjyw8ZQ9Mw7g7c91mrBJSYnVfTp2zlqS2hpIS7BlVgJ8mT8YvDzyAnyZPxp5RBWgoKfF5PymV/yx1dWjaslXJ4UaNmmPeA6pA9iOKZGEVVP33v//F5Zdfjm7dukEQBLz33ntOt4uiiEcffRTp6eno2LEjCgoKsHu37zLGRJ4Y2rdH59um+Nyn821TIrZIBWBrgjozfyYAuAVW9p9n5M9gkQoZsgem4db5w3DlfQMx+vYcXHnfQNzyt2G6DqgAzlqSuhpKSnBo+r1uwVFrdTUOTb/XZ2AltfKf1P3IWVqnDoruRxTJwiqoOn78OPr374/nn3/e4+2LFi3C3//+d7z44ov45ptvEB8fj7Fjx+LECV5BIflMDz6IzrdPdZ+xMhjQ+fapUdGnqiCzAE9e9CSSY5OdtpviTFg8YjErvgXAYBDQ/cwU9B1iRvczU3Sb8tcWZy1JLY70PdHDmpxT26rnL/CaCii18p/U/chZflZnpCd18PKbDwiwVQHMz+ocymER6ZIgip6+yfRPEAT85z//wZVXXgnANkvVrVs33H///XjggQcAAPX19TCZTHjjjTdw/fXXS3rchoYGJCUlob6+HomJiWoNn8KItaUFtSveQsvBg2ifkYGUG2+I6BmqtjyV0E6JTcHD5z6MMT3Z7yWa2Kv/AXAqWGEPtBhkh4bFakFZTRkONx1Galwq8tLywnq2+Pg3m/DT5Ml+9+uxdCnih+a7bRctFuwZVYDW6mrPgZkgIMZkQu81pSxUESB79T8ATgUr7IHWCzfnsaw6RTSpsUHE9KmqqKhAVVUVCgpO/1FPSkrC0KFDsXHjRq9BVXNzM5qbT/eGaWhoUH2sFF4M7dujyxT/f/Qjjf0k2rXiW11zHR748gEsFvR5Eh1pJ516UZBZgMUjFnvsUzUjf4YuPwuRJhL7hAWbvicYjTDNnoVD0+8FBME5sBJsp/2s/BeccbnpeOHmPLc+VWb2qSJyEjFBVdWpXGyTyeS03WQyOW7zZMGCBZg3b56qYyMKN+Ha+DcSTzr1pCCzACMzRjJo1YC3ixz2PmHhOlOoRPpe4pgxwDNLUD1/gdO6rBiTCabZs2y3U1DG5aZjdI4ZmyqOoubYCaR1sqX8GcMgfZkoVCImqArUrFmzUFhY6Pi5oaEBGRFcJptICjkltIeYh4RwZN5F6kmn3hgNRt2859EiXC9ySBE3eBBizGa/6Xv+GvcmjhmDTqNG2aoBHj6MmNRUxA0exBkqBRkNAs7L7qL1MIh0K6wKVfhiNpsBANXVzieC1dXVjts8iY2NRWJiotM/omgXbiW02ZyWIlkk9wmzp+/ZfnCZ9ZCZvicYjYgfmo+ky8Yjfmi+pgGVxSpi494jeH/7IWzce4TNcYmiQMTMVGVlZcFsNmPNmjUYMGAAANus0zfffINp06ZpOziiMBNuJbTDcWZNj7geTZ/C7SKHXJGWvle8o9Jt/VE61x8RRbywCqoaGxuxZ88ex88VFRXYvn07OnfujB49euDee+/FX//6V/Tp0wdZWVl45JFH0K1bN0eFQCKSxl5Cu6apxuPsjwABpjiTbkpoR/pJZyhwPZp+hdtFjkBESvqevVKe67dmVf0JTFtexkp5RBEsrNL/tmzZgoEDB2LgwIEAgMLCQgwcOBCPPvooAOChhx7C3XffjT/84Q8YMmQIGhsbUVxcjA4d2JSOSI5wa/wbDSedarKvR3Od7bOvRys9UKrRyAiIjj5hosUS9gGVxSpi3oflHi5DnS5FPu/DcqYCEkWosO1TpRb2qSI6zdPshTnOrLsS2harBWNXj/U7s1Z8TbFuAkG9sB87b+mTPHb6EMl9whpKStxT/8zmsEv927j3CG545Wu/+711x7ks+EAURqKuTxURKS9cSmjbZ9YK1xZCgODxpFNPM2t6wvVo4SFS+4Q1lJTYeky5XN9tra62bX9mSdgEVjXHTvjfScZ+RBReGFQRkUdWq4jK3XU43tCMbom9MajPYBh03JMkUk861cb1aOEjXC5ySCVaLKiev8BzKXVRBAQB1fMXoNOoUWGRCpjWSdpSA6n7EVF4YVBFRG72bqvBupW7cbyu2bEtPjkWwyf1QfbANA1H5luknXSGQqSsR4uENTlSRFKfsKYtW51S/tyIIlqrqtC0ZSvih+aHbmABys/qjPSkDqiqP+FxXZUAwJxka5pLRJGHQRUROdm7rQbFL+1w2368rhnFL+3AuDtzdR1YRdJJZyiEW6VHTyJlTY5UbWeR4xNjkd4nWdezyN60HpY2+yl1P60ZDQLmXJ6DacvLIABOv032d2fO5TkwhuF7RUT+hVX1PyJSl9UqYt3K3T73+WrVblhZvSpihFulR1f2NTmuMx72NTkNJSUajUwde7fVYNnsDXjv6W347NVyvPf0NiybvQF7t9VoPTTZYlKlzX5K3U8PxuWm44Wb82BOck7xMyd1YDl1ogjH6n8uWP2PotmhnbV47+ltfve78r6B6H5mSghGRKESLpUe2xItFuwZVeA9hUwQEGMyofea0ohIBfQ2i2yn91lkV473r7ra87qqMH7/LFYRmyqOoubYCaR1sqX8cYaKKDyx+h8RyXa8odn/TjL2o/ARjuvRIm1Nji9SZ5Gz+qeGTSqgYDTCNHuWrcqfIDgHVoLtNZhmzwq7gAqwpQKybDpRdGH6HxE5xCfGKrofhRf7erRLe12KIeYhug6ogMhbk+NL5e46p8IxnjTWNqNyd11oBqSQxDFj0P2ZJYgxmZy2x5hM6B5G5dSJiDhTRUQO6X2SEZ8c6/PkLSHFtjCeSGuRuCbHm0ieRU4cMwadRo2KiuqNRBS5GFQRkYPBIGD4pD4+121cMLFP2KQXUWSLGzwIMWaz3zU5cYMHhX5wCuvYqb2i++mNYDSGfYomEUU3pv8RkZPsgWkYd2cu4pOdU/wSUmLDbiE8RTb7mhzbDy6BfpivyXElSCwpJXU/IiJSFmeqiMhN9sA0ZPVPjYheOBTZEseMAZ5Z4t6nymSKqD5VTY0tiu5HRETKYlBFRB4ZDALLplNYiIY1OSwiQ0SkbwyqiIh0ymK1hFWJcy1F+pocFpEhItI3BlVERDrkqRmvKc6EmfkzdduMl9TDIjJERPrGQhVERDpTeqAUhWsLnQIqAKhpqkHh2kKUHijVaGSkJRaRISLSLwZVREQ6YrFasHDTQohwL+Nm31a0qQgWqyXUQyOdEF3Kx1utLPlHRKQ1BlVERDpSVlPmNkPVlggRVU1VKKspC+GoSA/2bqtB8Us70FTvXOGvqb4FxS/twN5tNRqNjIiIGFQREenI4abDiu6nFYvVgs1Vm/Hxvo+xuWozZ9aCZLWKWLdyt899vlq1m7NWREQaYaEKIiKZ1KzKlxqXquh+WmCRDeVV7q7zWfkPABprm1G5u46tEIiINMCgiohIBrUDhry0PJjiTKhpqvG4rkqAAFOcCXlpeUE/lxrsRTZcx24vsrF4xGIGVgE43uA7oJK7HxERKYvpf0QUlGhI87JaRRzaWYt/f1yKJ97/B2qOO69dUbIqn9FgxMz8mQBsAVRb9p9n5M/QZb+qiCyyYbUAFeuA79+1/VejsbP5LxGRvnGmiogCVnqgFAu/KYKxKgFxJxPR1K4BFnMjZg6dETGzEXu31WDdyt2nUq8MmIC70Ni+Fut7/hsVXb4DYAsYBAgo2lSEkRkjgw54CjILsHjEYo8zYjPy9Xts5RTZGGIeEsKRBaj8A6B4BtDwy+ltid2AcUVAzoSQDoXNf4mI9I1BFREFpPRAKZ5d/QZG7/8jElpOr+Fo3FOLZ39+A7gGuj35l8pebc1VfEsyxuyaipK+rzkFVkoGDAWZBRiZMVK1tVtqiJQiGwBsAdWqWwHXWbeGStv2ictCGlix+a870WJB05ataD18GDGpqYgbPAiCUb+/H0QU2RhUEZFsFqsFyz76D0bvus3ttviWZIzedRuWffRvjJwW/KyNVnxVWxMgQISIYfuvxv7O30MUTp94KxkwGA3G8JjROSUSimwAsKX4Fc+AW0AFnNomAMUzgbPGAyH8fNub/56eObVJSInFBRP7RFXz34aSElTPX4DWqirHthizGabZs5A4ZoyGIyOiaMWgiohk21q1Ff12XgzA87ofESJydl6MrVVbkd8tX4shBs1ftTUBAjq1pCC9IRu/JO1xbNd9wKCicC+y4XBgg3PKnxsRaDhk2y9reMiGBdgCq6z+qbbPZ0Mz4hNtKX96maEKxexRQ0kJDk2/F3BpgtxaXW3b/swSBlZEFHIMqohItoO7jjql/LmyBxwHdx1FfrcQDkxBUquoxZ1MBBBGAYOK7EU2CtcWOoJrO70X2XDS6H1dWED7KcxgEHRZNt3T7JHRZELKxOvQPrOnIkGWaLGgev4Ct4DKdqMICAKq5y9Ap1GjmApIRCHF6n9EJFv8qUBCqf30SGoVtaZ2DeEVMKjMXmQjLc45Fc0UZwqfcuoJJmX3iwL22aO2ARUAWKqr8euzz+GXBx7AT5MnY8+oAjSUlAT8PE1btro9hxNRRGtVFZq2bA34OYiIAsGZKiKSLSfjTOzFt5L2C1f+qq2JENHYvg6ViXt1X5Uv1MKxyIaTzGG2Kn8NlfC8rkqw3Z45LNQj0yWfs0cugk3Raz0sbc2i1P2IiJTCoIqIZDujb2fEdBJx8pj7mirAFnC062TbL1z5q7YmQED2pfF4dcCr4RUwIDTrXsKtyIYTg9FWNn3VrQAEOAdWpz7v4xaGtEiFnvmdPWoryBS9mFRpaxal7kdEpBSm/xGRbAaDgIIbzz51uul8ddrWswkouPFs3SyeD5S92lp8snMqYEJKLMbdmYvrxo3DEPOQsAqoGkpKsGdUAX6aPFmxlKyIlDPBVjY9Md15e2K3kJdT1zvZs0JBpOjFDR6EGLMZELx8twgCYsxmxA0eJPuxiYiCwZkqIgqILeA4G+tW7sLxuhbH9oSUDhgeQeWd9V5tTQ5WTZMpZ4KtbPqBDbaiFAkmW8pfGAXRoRDorFAgKXqC0QjT7Fm2z6sgOH+WTwVaptmzWKSCiEJOEEUJSdBRpKGhAUlJSaivr0diYvgusicKFatVjIiAI9KJFgv2jCrwnqYlCIgxmdB7TSlPSEkWx2erulrSuiq7HkuXIn5oYC0X2KeKiEJFamzAmSoiCopeyzuTMzlV0wI90aXo5HP2yOMdbAF8MCl6iWPGoNOoUaqvDaToZrGK2FRxFDXHTiCtUwfkZ3WGkRcNyQsGVUREUYBV00hNiWPGAM8scZs9cqNgip5gNPICAKmmeEcl5n1Yjsr6E45t6UkdMOfyHIzLTfdxT4pWDKqIiKIAq6aR2lxnj1oOHEDdqlW2tMBTYkwmpuiFANOyg1O8oxLTlpe5NVSoqj+BacvL8MLNeQysyA2DKiKiKGCvmuZ13YsCKVlErrNHXf94J1P0QmzvthqsW7nbqcdeXFJ79LuwG5LT4hhk+WGxipj3YbnHDnUibE0V5n1YjtE5ZqYCkhMGVUREUSCaqqbxKr1+MEUvtPZuq/HYW6+pvgWbP9zv+Dk+ORbDJ0VOlVYlbao46pTy50oEUFl/ApsqjuK87C6hGxjpHoMqIgp7FqsFZTVlONx0GKlxqWHXjDdUvK17iaSULE9X6XkCSdHAahWxbuVuSfser2tG8Us7MO7OXP5euKg55j2gCmQ/ih4MqogorJUeKMXCTQtR3XR63YYpzoSZ+TNRkFmg4cj0KZKrpnm7Sq/nE0jRYonI94JCr3J3ndPFBCm+WrUbWf1TOZPbRlqnDoruR9GDQRURha3SA6UoXFsI0SX7vaapBoVrC7F4xGIGVh5EYkqWlKv0ejuBZK8lUtLxBnkBFQA01jajcnddwG0xIrHkeH5WZ6QndUBV/QmP66oEAOYk22slaotBFVEksFqAAxuAxmogwQRkDgMiPP3NYrVg4aaFbgEVAIgQIUBA0aYijMwYyVTAKCDlKn2wJ5BKaigpsa1vcyka0lpdbdv+zBIGViRLfGJsQPcLJBgDIrfkuNEgYM7lOZi2vAwC4PQXxh4uzrk8x2/wGIkBJ/nGoCpCtbZasWPtz6j/9Tckde2I3BFnICbGoPWwSA3lHwDFM4CGX05vS+wGjCsCciZoNy6VldWUOaX8uRIhoqqpCmU1ZRhiHhLCkZEWpJ4YBnoCqSTRYkH1/AWeqzCKIiAIqJ6/AJ1GjWIqIEmW3icZ8cmxslMAAwnGIr3k+LjcdLxwc55b0GiWGDRGasBJvjGoikDrV+/Gt6UHnf5eb1i9B/0LMnD+NX20Gxgpr/wDYNWtgOuftoZK2/aJyyI2sDrcJK1JrdT9KLxJPTEM9Gq+kpq2bPXdIFcU0VpVhaYtWyMuTZPUYzAIGD6pj8d1hd4kpNiqY8oRLSXHx+WmY3SOWfZsU6QHnOQdpy4izPrVu7H9s4NuF0BFEdj+2UGsXy2tMhCFAavFNkPl9U8bgOKZtv0iUGqctCa1Uvej8Ga/Su9LICeQamg9LC3Ql7ofkV32wDSMuzPX7++C3QUT+8heYyin5Hi4MxoEnJfdBVcM6I7zsrtISvnzFXACtoDTYvW0B4U7BlURpLXVim9LD/rc59vSg2httYZoRKSqAxucU/7ciEDDIdt+ESgvLQ+mOBMEeP4jJ0CAOc6MvLS8EI+MtGC/Su9LICeQaohJlRboS92PqK3sgWm4df4wXHnfQIy+PQf5l2W5BVkJKbEBV8NkyXHvoingJHdM/4sgO9b+7DFFvy1RtO03oKBHaAZF6mn0vp4ooP3CjNFgxMz8mShcWwgBglPBCnugNSN/BotURBH7VXrXPlUJKbG4YKL3PlWhLmseN3gQYsxmtFZXe15XJQiIMZkQN3iQamOgyGYwCE4FWQZd2lOxhtgsOe4dA87oxqAqgtT/+pui+5HOJZiU3S8MFWQWYPGIxR77VM3In8Fy6lEoe2AasvqnSj6B1KKsuWA0wjR7lq3KnyA4B1aCbZym2bNYpIIU4xpkBYMlx71jwBndGFRFkKSuHRXdj3Quc5ityl9DJTyvqxJst2cOC/XIQqogswAjM0airKYMh5sOIzUuFXlpeZyhimJSTyC1LGueOGYM8MwS94DOZPIb0FmtomKzDkRyKVVyPBIx4Ixugij6SxiLLg0NDUhKSkJ9fT0SExO1Ho4sra1WvHz3Wp8pgIIA/OHZESyvrqZQ9oxyVP8DPP5pi+Dqf0TBEC0W7BlV4L0K36kUvN5rSlWdMZKberh3W41bemN8ciyGT/Ke3kjBYRDrGcuGe2av/gd4DjhZ/S/8SI0NGFS5COegCjhd/c+bAaNZVl1VWvSM8vic3YFxCxlQEXlx/JtN+GnyZL/79Vi6NORlzb0FWnu31fgslx1o4QHyjkGsb2xw6xkDzsgiNTZg+l+EsQdMrn2qBAHsU6U2rXpG5UwAzhofutkxUoXFamEKYwjptay5tzVeqbNmYd0X8T7v+9Wq3cjqn+p1FoUzLvJ4C2KP1zWj+KUdDGJxuuQ4OQu0xxWFNwZVEej8a/pg6BXZ2LH2Z9T/+huSunZE7ogzmPKnJr89owRbz6izxqsT7BiMQNZw5R+XQqL0QKnHYhsz82dqWmxDD4GeWoGAHsua+1rjVT7neRwfMN3n/Rtrm1G5u87jejLOuMhjtYpYt9J3X0d/QSxFNwac0YdBVYSKiTGwbHooyekZxeBHWaFcw6aC0gOlKFxb6FQSHgBqmmpQuLYQi0cs1iSw0kOgp2YgoLey5qLFgur5CzyPRRTR3F5aOvrxhma3bZxxka9yd53T584TX0EsEUUfTl0QKSHKe0ZppvwDYEkusPQyYPXttv8uybVtDwMWqwULNy10C6gAOLYVbSqCxWoJ6bjsgV7bgAo4HeiVHihVfQz2QMD1xNYeCOzdVhPU49vLmtt+cJlp0KCsedOWrd6LZgCIbamX9Djxic5NXqXOuFitXF7dlqfgNJj9iCjyMagiUgJ7RoWefQ2b6wyhfQ1bGARWZTVlboFLWyJEVDVVoaymLGRj0kOgF6pAIHHMGHR/ZgliTM6/lzEmE7qrWE7dE39rt5Lr9iD2RC08pxjbJKTY0iPbkjPjQqe5BqfB7kdEkY/pf0RKiIKeUbpa5K71GjaFHG6SVgRB6n5KkBPoDTEPUWUMoUy9ShwzBp1GjZJV1lwN/tZuCRDRZ8872JH7B6/7XDCxj9vvZDjOuOjhuya9TzLik2N9fg49BbFEFL0YVBEpwWC0lU1fdSvgrR3iuIW6PsH3RXeL3EO8hk2tgg2pcdKKIEjdTwl6CPRCHQgIRmPIy6a7krLGq1tMNbrfkYOv3tnr9LuYkBKLCyZ6/l0MtxkXvXzXGAwChk/q47OEvacgloiiF4MqIqXkTLCVTffYpyp8e0bpcpF7CNewqVmwIS8tD6Y4E2qaajym2wkQYIozIS8tL6jnkUMPgV64BQJKsK/xOjT9XtuaLteeGLCt8UocZEavgSbJMznhNOOit++a7IFpGHdnrluQ5yuIJf1jby1SC4MqIn/kVJeLsJ5Rui0rHKI1bGpX5jMajJiZPxOFawshQHB6HuHUDOeM/BmyZsWCnVXTQ6AXToGAEhzpbinnwPjwM8ArC2CpqnTcHmMy2QKqU2u8DAZBctpjuMy46PW7JntgGrL6p2qejkjKYFNeUpMgip7yDKKX1K7JFCXKP/Ay81QUtjNPchzaWYv3nt7md78r7xsY2rLCVoutyp+/NWz3fh9wQGuxWjB29Viv64vswUXxNcVBpwJ6mg0zx5kxI3+GrKBNqVk1ezAJwGOgF4oy795mLewipQy453S39sgfaED3+FrF1nh5eh49zbjo7btGD+u6SFnFOyoxbXmZ218M+7v6ws15DKzII6mxAWeqiLyxV5dz/Qq2V5ebuCziAyvdLnIPwRq2UBZsKMgswMiMkUHNMCk5q1aQWYDFIxZ7DNDkBnqBiobUK+/pbi344gtg3J1DFHudep9x0dN3jV7WdUUbNdPyLFYR8z4s91XaCPM+LMfoHDNTASlgDKqIPImQ6nLB0vXaFpXXsIW6YIPRYAw4OPNXBl2AgKJNRRiZMVJyoKZEoBcsvQcCwdAi3U1O2mCo6eW7Rm/ruqKF2ml5myqOOj22KxFAZf0JbKo4ivOyuwT9fBSdGFQReRLi6nJ6pfu1LSquYdNDwQap1JpVCybQU0qwgYBalRuDFcqy8eFA6neNKTsJh3bWqhJk63VdV6TzlpZXVX8C05aXKZKWV3PMe0AVyH5EnjCoIvIkhNXl9CwsFrkbjKqUTe/ftb/mBRuk0kMZdD1SsnKjaLEo2stKT+lueiDlu6b34DQsf3ijaml5DHRDT8m0PF/pg2mdOkgaj9T9iDxhUEXkSYiqy4WDaFjb4u3k+9KsS/HGD28oVplPLeE0qxYqSq4xaygpQfX8BWitqnJsizGbnSryyaWXdDc98fVd03twGrZ/dtDtPkqm5THQDT2paXlPf7YT5/dO9brOyl/6YH5WZ6QndUBV/QlvpY1gTrIFYkSBYlBF5EnmMNvaHH/V5TKHhXpkmojktS2+Tr7f+OENTOk3BR9XfKxZwQYp9FAGXU+CXWPWtvIbdn2P1r/eB0G0Ou3TWl1t6yn1zJKAAivdp9ZqxNN3jSk7Ccsf3ujzfkqk5THQDT2p6XbPfbEXz32x1+M6K6npg3Muz8G05WXeShthzuU5LFJBQWFQReRJCKrLhRs9L3IPlJST708qPsHHV32Mb3/9VnfrcuzU6HcVzoJZY+Ze+c2I2KGPoc+ed5D267dtHkQEBAHV8xeg06hRslMBwyK1ViOu3zWHdtaGJC2PgW7oyU23cw2U5KQPjstNxws357nNaJnZp4oUYtB6AES6Za8ul+jyRZvYLWLKqVusFmyu2oyP932MzVWbYbFatB5SSEk9+f72128xxDwEl/a6FEPMQ3QZnNjLoKfFOadAmeJMIekrpSeBrjGzV35zPalujk3Gjn53oKZrf+cHEEW0VlWhacvWgMZpT3eLT3ae+UhIiWWVuTZClZZnD3R9idZAVy32tDypR9QePM37sNyxhkpqVT8AGJebjq9mXIy37jgXz1w/AG/dcS6+mnExAypSBGeqiHxRsbqcUgLt7aHkIv5wJfXk+4ufvtC8Cp4UeiiDrgeBrDHzWflNEABRxO7e1yL11+8guFwXbz0ceAGQSE6tVUoo0/KiYQ1pKEj9u2Q0CF7T8rxpGygFUtXPaBBYNp1UwaCKyB+FqsupIdDeHkou4g9nUk++P9r3Ee4ffH9YBCd6KIOutUDWmPmt/CYIaO7QGXXJvZFS5xx8xaQGVwAkElNrlRTqtDwGusGR+3fJW1qeP/aATQpW9aNQYPofUZiyL851/SNkzzkv3lHp8X4WqwVzN871uo4IAIo2FUVFKmBeWh5SYv2fzNY216KspiwEIwpfekolta8xA06vKbPztsZMaupYc/vENg8mIMZsRtzgQUGOmHzRIi3PHuj2HWJG9zNTIiagslhFbNx7BO9vP4SNe4/AYpUyNyRdoH+X2qbl3TWyt6Tnss+A+UofFGAL6FjVj0KBQRVRGPK3OBc4nXPu6pXvXkF9c73Xx267iD/SGQ1GXNbrMkn7RluPJzlKD5Ri7OqxmPrpVMxYNwNTP52KsavHovRAqWZjkrvGTGrqWGxLg+3/CLbTONPsWUH1q9Izq1XEoZ212LW5Cod21sKq8Am4HFx/FrziHZW4oOhz3PDK15j+9nbc8MrXuKDoc6+BjlzB/F0CTqfl3Te6r+RAyZ4+aN/uuh/Aqn4UOkz/IwpDchbnts0dt1gt+Nf//iXpOaIliBjZY6SkYxKJPZ5cGx4Hsv5Kz6mkctaY+U0xE0XENtciuW4PACDGZPLZp0rpZsGh5l4FUdlGu4FgWl7gpJYdD0agf5dc+Vpn5SlQYlU/0gsGVURhKJDFuYCt2l2D/Uq7H5EYRHhiX3/jrQpgpPZ4UqJQSbD9oEJB6hozvyXOBQHDLumG7tc+4TdIUqpZcNt+WaEMIOxVEF0p2WiXQkdO2fFgZnQC/bvkidxAaVxuOkbnmAMq2kSkFAZVRGEo0MW5UmefkmKTIi6I8KZtjycAiIYeT0rNLgXTD0qPlKj81lBSYmsKLLpUCJTZLFjuTJFSAZjPKoinKNFoNxB6nD2z0yoAlkKpGSR/lC4aITdQYlU/0hqDKqIwZF+cW1V/wuPVRwG2K3qui3Olzj7d/LubIyqI8Me+/sbTzM2M/BkRVQlRydklqUH615Vfh02J92BSzESLBdXzF7gFVLYbpTcLljtTpGSw4bcKIpRptCuXnmfP9BzsAcrOIPkS6N8lXxgoUThhUEUUhuTmnNv5KzUNAMntk3HH2XeoMm49i5YeT0rOLkkN0l/+7mXH/w+HXmiBljhv2rLVKeXPTZtmwfFD8z3uInemSOlgI1SNdqWyWkX8srMWXyz/0ed+as2e+ZuB0nOwZxeqsuOB/l0iihSs/kcUpuw55+Yk5z+E5qQOXhcd+yo1bTdn2JyICySksq+/ubTXpRhiHhKRx0Hq7JKU/exBurfPkif2FEMtKwOqRWoTYF/7yZkpkhqAyanaF8pGu/7s3VaDZbM34P1ntqP5eKvPfe3HRI3nf+/pbfjs1XK89/Q2LJu9AXu31QCQHgBrWTURQEjLjgfyd4koUnCmiiiMBbI411uqmznOHHGpbuEilOsxpM4uSdmv7Xo0AYLX2c+29FLAQg1SmwD72k/OTJEaqXqhbrTrjbcZIF+UnD2TMgPVIa6dLlMlXYV6BolFIyhaMagiCnOB5JxHS6pbOAj1egx/KaByqx16C9J9CbcCFlLFDR6EGLMZrdXVntdVCQJiTCafzYLlzBSpkarntwoigN6D01QtwiBlBsgTpWbPpM5AnXtltqTHC1WqpC+hLjvOtVAUjRhUEUUpqaWmST1arMfwNbsUaLVD1yB9b91evPz9y37vF2m90ASjEabZs2xV/gTBObCS2CxYzkyR1HQ3ucFG9sA0DBidge2fHfR4+/bPDsLcK0m1tUJSZuBcKTl7JnUG8LdjLZIeLxSpklJwBolIXVxTRUSkAS3XY9hnl9LinE+KTXGmgJv1tl2Pdm63cyXdJxJ7oSWOGYPuzyxBjMnktD3GZEJ3CeXU7TNFvlwwsQ8MBsERgPniK9iwWkUc2lmLXZurcGhnreOzZrWK2L25xufjqrlWKJCZHfsxCeXzd+zULqjjrwX7DNIVA7rjvOwuDKiIFMSZKiIiDWhdulrNFFClUwzDTeKYMeg0apStGuDhw36bBbuS2i9LSqqet2DDV9qp1muF5MzsyOkhpvTzJyR3CPj4E1HkYVBFRKQBPZSuVisFVI0Uw3AjGI1ey6ZLIbVfViANi/2lnZ4z6gxJY1TrsyklBTI2PgZj78hF974pigctclIwDQYh6IbRRBQZGFQRkWosVpH5+17oqXS1GqKpobJapPbLktOwWEra6e5vpBUcUeuzKWUGbuTNZyHjrOBLgAf6/G1noIJpGE1EkYNBFVEwrBbgwAagsRpIMAGZw4AIvvouR/GOSrdKU+kqVZoKR3opXa0mtVIMQ1mCPliixRJwGqAcUgMwKWmnvzWeRIf4djhx/KTXfdT+bAYyA6fl8wfaMJqIIkdEBVVz587FvHnznLadeeaZ+PFH353YiQJS/gFQPANo+OX0tsRuwLgiIGeCduPSgeIdlZi2vMxtNU1V/QlMW17GJpAIbj2M3lmsFtXK9Ye6BH0wGkpKUD1/AVqrqhzbYsxmmGbP8luwQi1SU/b6nmvCd2t+9np7KD6bWs8Aaf38FJ6YoRG9IiqoAoB+/fqhtLTU8XNMTMS9RNKD8g+AVbcCrmFDQ6Vt+8RlURtYWawi5n1Y7rENrAhbs8l5H5ZjdI456v/QaH01Xg2lB0o9pvzNzJ8ZdMqfv7VAQy7vicGXZOnipLehpMRWWt2lX1VrdbVtu4RKgGqQmrLX65xUdOudrPlnU+sZIK2fn8KL3AwNBmCRJeIijpiYGJjNZq2HQZHMarHNUPkKG4pnAmeND9tUwGDSqzZVHHX6g+JKBFBZfwKbKo6yOSQi62p46YFSFK4tdKv4V9NUg8K1hQGXawekrQXa/OF+lK+r1HzWSrRYUD1/gecGwKIICAKq5y9Ap1GjVEkF9EVuEYZI+Wx6orc0Ur2Nh+SRm6HBFPnIE3FB1e7du9GtWzd06NAB5513HhYsWIAePXp43b+5uRnNzaf/uDQ0NIRimBTODmxwTvlzIwINh2z7ZQ0P2bCUEmx6Vc0x7wFVIPtFg0i4Gm6xWrBw00KPJdRFiBAgoGhTEUZmjAwoFVBqQ9hgGycrcWLbtGWrU8qfG1FEa1UVmrZsdaoQGIr1V3LTTiPhs+mJ3tJI9TYekkduhgZT5CNTRDX/HTp0KN544w0UFxfjhRdeQEVFBYYPH45jx455vc+CBQuQlJTk+JeRkRHCEVNYapRWGUvyfnpgtQAV67D3vfdR/NIOt5NX+4nq3m2+G4ICQFqnDpKeUup+FB7KasqcUv5ciRBR1VSFspqygB5fbvnuQJrT7t1Wg2WzN+C9p7fhs1fL8d7T27Bs9gZJn/u2Wg8flr1fQ0kJ9owqwE+TJ+OXBx7AT5MnY8+oAjSUlMh6binsaaeujWsTUmIDDkbDiT2NNJjvuUgeD8knJ0PDXwAG2AIwi0rNtUk9ETVTdckllzj+/znnnIOhQ4ciMzMTq1atwu233+7xPrNmzUJhYaHj54aGBgZWGgmb1IcEk7L7ae1UwQ1rfRXWHX4JQAIAz8f9q1W7kdU/1ef7kp/VGelJHVBVf8LjHw0BgDnJljuuNuarh87hJmmBhNT9XMkt3y23Oa2/9Vpygo2Y1FRZ+2mx/iqS0k7lkJJGKuV7LlLHQ4GRk6HBFPnIFVFBlavk5GT07dsXe/bs8bpPbGwsYmPDsw9MJAmr1IfMYbYqfw2V8LyuSrDdnjks1COTr03BjcqWfjhu7epzdyknqkaDgDmX52Da8jIIcD5C9lOCOZfnqB7cMF89tFLjpAUSUvdzJWUtkCups1tKn9jGDR6EGLMZrdXVntdVCQJiTCbEDR6k6fqrSE3t80VKGqncgDySxkOBkZOhwRT5yBVR6X+uGhsbsXfvXqSn8wRKz8Iu9cFgtJVNB+A+o3Pq53EL9V+kwqXgxnGrtD/YUk5Ux+Wm44Wb82BOcv5DY07qEJJccXu+uuvVQHu+evGOSlWfPxrlpeXBFGeC4GWWU4AAc5wZeWl5AT2+fS2QHFJnt+Sc2EohGI0wzZ516geX43HqZ9PsWRCMRlnrryh4UgNtuemmgdLbeCgw9gwNb5dcBNgu6uVndWaKfASLqKDqgQcewJdffon9+/djw4YNuOqqq2A0GnHDDTdoPTTyQuoVYrlrI1SXM8FWNj3RJThI7BY+5dRdCm7EG2ol3U3qieq43HR8NeNivHXHuXjm+gF4645z8dWMi1UPqBTNVz+11gzfv2v7r9Wi5FA1Z7WKOLSzFrs2V+HQztqgfs+MBiNm5s8EALfAyv7zjPwZQfWrsq8Fiktq73dfOc1p1TixTRwzBt2fWYIYk3MacIzJhO5t0vkCWX8VzSxWCzZXbcbH+z7G5qrNsMj8nZT6/SU33TRQehsPBcaeoQF4vdTqyNCQE4BReImo9L+ff/4ZN9xwA44cOYLU1FRccMEF+Prrr5EqMb+dQi+sUx9yJtjKph/YYCtKkWCypfzpfYbKzqWQRnr7/yHe8CuOWzvD2/UWOSeqgO0PTahzwhXLVw9Rc2et1hKqkXJbkFmAxSMWe+xTNSN/hqxy6t6Oi30t0NaP92PTRxVe7y+nOa1aJ7aJY8ag06hRPiv6yV1/pSWt170q0QNNTkn5UNDbeEgai1XE13uPYOO+XwHY/s6NzjHjhZvz3NLOzS5p53pJkSflRVRQ9fbbb2s9BJIp7FMfDMawLJsOwK2QhkGwYnjiqyiuewiAFZ4CKzknqlpRJF89RM2dtVpLqGRRBlcFmQUYmTESZTVlONx0GKlxqchLy5M1Q+XvuBgMAoZcloXO3eMVaU6r5omtYDQ6lU13JWf9lZa0XveqVA80uSXl1aa38ZB/xTsqMfPf36Ou6aRj23Nf7EFyXDssvPpsfDXjYr8Fkuwp8v4CMAovgih6+haPXg0NDUhKSkJ9fT0SExO1Hk7EO7SzFu89vc3vflfeN1B/M1XhzmoBluS6FdzYe+JcrGu43aloRSAnqlrZuPcIbnjla7/7vXXHuZ5nqhzHxVsvslOFSO79PqhZSW+BjZ1apa2tVhHLZm/wG0Dc8rdhmpzIyT0uSs2eaPV+AG2q/wHOgdWp9VfdVaj+J4eWxwawpfyNXT3Wa8l+AQJMcSYUX1MsOXj3FCRq+T2nt/GQZ8U7KvHH5b7bQrwoY90wK9SGB6mxQUTNVFH4YeqDhuwFN1bdCrRJQsju8DWyYjejsuV3OJ7/F8TnnBdWpZaDLukeRHNni9UiaYZGyzLKek65DeS4KFXBzr5eS4sT28QxY4BnlqB6/gKnohUxJhNMs2dpGlDpoeS3nB5oQ8xDJD2m3krK62085M5iFTH3gx/87te2ya8/WqTIk3oYVJGmmPqgMXvBDZe1Q4YkM7qPmwHkXKrh4AITdL56gM2d5az30DKw0XPKrdYBn5YntlLWX2lB6/cEUK8Hmt5KyuttPORsU8VRVEn4XmSPqejFoIo0p+UVYkL4F9zwIKh89QCaO8td76FlYKPnamN6CPi0PLH1t/5KC3p4T9TugUYkhZy+UewxFZ0YVJEuMPVBY+FccMOLcbnpGJ1jlp+vLrO5s8VqwcJNC90CKsCWliRAQNGmIozMGOlIBdQysNFzyq0eAz4pa7a0roqnJj28J/YeaDVNNR5/z+xrqvz1QIvk94nUJ6dvFHtMRScGVaQbTH0gpQWUr+5lrZmNe3PnQNZ7aBnY6DnlVm8Bn5SKd1pXxVObHt4Tew+0wrWFECA4BVZSe6BF+vtE6svP6gxzYqzfFED2mIpeEdX8l4hIETKaOwey3sMe2PiiZmBjT7mNT3aeXUhIiVW9kpsvWh+XtuwV71yDCXvZ+b3baiTtE+708p7Ye6ClxTl/Nk1xJr/l1KPhfSL1GQ0C5k7o53c/9piKXiyp7oIl1YnIwWrxu9Zsc9VmTP10qt+Hem3sa26VybQuo6zXdCg9HBcpZeetVhFN9S0+99GqNL3StH5P7KRW2LTTewsBCj+e+lQBQEpcOyy4+mz2mIpAUmMDBlUuGFQRkRz2Hjr+1nt466Gjx8BGD2PScgxS++dJEUk99vTwuZCLvRBJDRariK/3HsHGfb8CsKWZn9urC2eoIhT7VBERhUCw6z30tpZQL2tPtDwuSlayC/ax9BTI6O2zKoUeqhdS5DEaBJzfpyvO79NV66GQjjCoIiIKkn29h6c+VTPyZ/hc76En9rUnruxrT7RcbxVKSlayC+ax9BLghjM9VC8koujAoIqISAEFmQUYmTFS1noPPbFaRaxbudvnPl+t2o2s/qm6T/lyJXcdjtSKd1LWVAVaFY8BrjL0UL2QiKIDgyoiChtyT45DzWgwuhWjCBeVu+t8nngCQGNtMyp314VVCljpgVKPM4gz82d6nUGUWnYegCql6SM5wA01PbcQIKLIwqCKiMJCICfHJJ3Sa0/0EACXHihF4dpCtwIiNU01KFxb6LMUt73svL+Kd1L2kStSA1ytSH0viSKZxSpiU8VR1Bw7gbROtl5aLKyhLAZVRKR7wZwckzRKrj3RQwBssVqwcNNCjxUZRYgQIKBoUxFGZoz0GuxlD0xDVv9Un4UipOwjF4srKE+N94koXBTvqMS8D8tRWX/CsS09qQPmXJ7DEvAKYlBFwbNaYK1Yj8rdR3HckoL47Fyk9+3MP1akCCVOjsk/pdae6CUALqspcwrqXIkQUdVUhbKaMp8pm1Iq3ildFY/FFdQRjtULiYJVvKMS05aXuf0Fraw/gT8uL8OLN+cxsFIIgyoKTvkH2PvOCqyrvhrHrV0BWAB8i/gEK4bfdA7TKhSmh5SqUFPq5Jh8U2LtiZ4C4MNNh73eJogC0huyEXcyET/9eASD0kRdXQT6rfEkBAHw1UVSbnEFPZVmJ6LQsFhFzPuw3MM38mkz//09RueYmQqoAAZVFLjyD7B32fMornvI7abjjUDxS99j3J1nM7BSiB5SqrTg6+Q4kP3UECknrMGuPdFTAJwal+pxe9aRc3D+/quR0GKbsajaDSwr3qCbMuV7t9Xg01e8B7Z2coorsDQ7UXTaVHHUKeXPk7qmk3ju8z2YXtAnRKOKXAyqKDBWC6yfzMS6hrmnNrj+cTcAEFmhSiF6SanSgreTY1c/HftJ5ZF4FmknrMGsPdFTAJyXlgdTnAk1TTWO35usI+dgzK6pbvvqpUy5lKp/ggCM+X0/yeNkafbo0tLagpW7VuJgw0FkJGZgUt9JaB/TXuth+cQCCuqpOeY7oLJ7+b97cdfFvXncg8SgigJzYAMqf00+lfLnjcAKVQrQU0qVFjydHHvyj+3/QO/k3iENLiP1hDXQtSdSA2Cp+wXDaDBiZv5MFK4thAABEIHz918NALafPdD6IpCUqn+iCHRMkHaSLLU0e8/czjhRVobWw4cRk5qKuMGDIBgj77sk0i3eshhLy5fCKlod257c8iQm50xG4eBCDUfmHQsoqCutUwdJ+x1vseDrfUdwfm9f53Tkj0HrAVCYaqzGcau0ky5WqAqOnJSqSGQ/OfYVUNkVbSqCxWoJwaikn7Barf7HHSnsAbC3oEWAAHOcGXlpeU7bLVYLNldtxsf7Psbmqs2KvYcjM0biTwP+hMT2iUhvyEZCS4rXsQGny5RrRemqf1JLs2+54vf4afJk/PLAA/hp8mTsGVWAhpISSc9B+rB4y2K8/sPrTgEVAFhFK17/4XUs3rJYo5F5Zy+g4JqeVlV/AtOWl6F4R6VGI4sc+VmdER8r7QLJxr1HVB5N5GNQRYFJMCHeUCtpV1aoCo6eUqq0UpBZgD/3/7PPfUIdXMrpJaQWq1XEoZ212LW5Cod21moewNkDYMB9Nsj+84z8GU4zqqUHSjF29VhM/XQqZqybgamfTsXY1WNReqA0qLHYH/f57c+jvqUecScTJd1Py4tASlf9k/pamhpbnX5ura7Goen3Sgqs1P4M6u0zrkctrS1YWr7U5z5Ly5eipbUlRCPyz1cBBfu2eR+Ww6Lw+22xiti49wje334IG/ceUfzx9cZoEHBhH6mzT5F9LEJBcvrfyZMn8Ze//AX//ve/0blzZ/zxj3/E1Kmnc9Orq6vRrVs3WCyhuUpMGsschvSudYiv/xXHrZ3hOT4XkZDSQVaFqkiiVPECPaVUaalHYg9J+4UquNS6l5CntVyx8THoPzIDgy7tqVkKW0FmARaPWOyxqMqM/BlO6ZlqrRX09LhN7Rok3VfLi0BKlbW3k/paYltcjo0oAoKA6vkL0GnUKK+pgGqvJ4yU9YpqF7JZuWul2wyV2xhEK1buWolbcm5R7HmD4a+Agghbye9NFUdxXnYXRZ4zWlMNbx7aE5/s8J7tYndeL6b+BUtyUPW3v/0Ny5YtwwMPPIC6ujoUFhbim2++wUsvveTYR/RV/5Uii8EIwyULMdxR/c8K58DKCkCQVaEqkih5MuBvTZEAAaY4k1tKVaTRW3CpZS8hb2u5mo+3YtNHFfj284MYectZmp14FmQWYGTGSJ/l/9VaK+jtcSsT96KxfS3iW5K9pgDKLVOuNCXK2rflN0gTRcQ21yK5bo/H21qrqtC0ZSvih+a73az2esJIWa8YisDwYMNBRfcLBakFFKTu54+3Xk32VMMXIrhX07nZXZAc1w51TSe97pMc1w7nKhS8RjPJ6X9vvvkm/vnPf+KBBx7AX//6V2zZsgWff/45brvtNkcwJQjRd/Ic1XImIPvWP2Nc+iuINxx1uikhAVFbTt1+MuB6ImM/Gdi7rUbW4wWSUhWJAl2voxb7CasvapykS1nL1dzUGtBnTUlGgxFDzENwaa9LMcQ8xO3zqdZaQW+PKwoi1vf8t+OxPdHDRSB7WXvXz1ZCSqzsQMIepHlmOwZ99rwLwUfaT+th95lftdcTRsp6RaX/FniTkZih6H7BkpKyKbWAgtT9fNEq1VAvjAYBC68+2+c+C68+m5X/FCB5purQoUPIzc11/Ny7d2+sXbsWF198MW655RYsWrRIlQGSzuVMQPYj45FVsR6Vu4/iuCUF8dm5SO/bWfOTEy1IPRmQW2FMTkpVpHKt5tb2xFiL4FLpWQWppKzlstO6mp0vwawV9JVO5etxK7p8h5K+rzn1qQKk9+EKlWDK2nt6LE+9x+LiDej1zUtI+/Vbn/ePSXWf+ZWznjCQKpJqP34oqPW3wJNJfSfhyS1P+kwBNAgGTOo7KajnkULqzFx+VmekJ3VAVf0Jj8GOAMCcZCuvHiwtUg31ZlxuOl68OQ9zP/gBVW1S0s2JsZg7oV/EztKFmuSgymw2Y+/evejZs6djW/fu3fHFF19g5MiRmDJligrDo7BgMMKQfSG6Z2s9EO2peTIgJaVKc1YLcGAD0FgNJJiAzGGAguPTW3AZbLPcQMhZo6XnE89A0zn9nbT5e9yKLt9hf+fv8fSZLyEjJku3zZoDLWvviacgzdyrE/aNfgytgmBbQ+VKEBBjMiFu8CC3m9ReT6j1ekUlhDIwbB/THpNzJuP1H173us/knMmq96uSk7JpNAiYc3kOpi0vgwDnEgn238Q5l+coMnsS6lRDvRqXm47ROWb2BFOR5KDq4osvxooVKzBq1Cin7d26dcPnn3+OESNGKD02orCj9smAPaVKl8o/AIpnAA2/nN6W2A0YVwTkTFDsafQWXCo5qyCF3DVaej3xDGStoJSTtrz+Eh433oQRQ/P1dUFCZZ6CNNPsWTg0/V5bR+G2gdWpVH7T7Fkei1SovZ5Qy/WKSgl1YGjvQ+Xap8ogGELSpyqQmblxuel44eY8t+IRZoWLR4Qy1VDvjAYhYmfj9EByUPXII4/gxx9/9Hhb9+7d8eWXX+Kzzz5TbGBE4SgSTgYCUv4BsOpWuJVkbai0bZ+4TNHASm/BpZKzCv5IqRDXll4/a3LTOeWctGmZJqp2pTclJY4ZAzyzBNXzF6C1qsqxPcZkgmn2LNvtHihdpTDUjx8KWvwtKBxciLsG3IWVu1biYMNBZCRmYFLfSarPUAGBz8yFYvYklKmGFN0kB1WZmZnIzMz0enu3bt0wefJkRQZFFK4i4WRANqvFNkPldRmwABTPBM4ar2gqYLSSspbLTu+fNTnpnHJO2grO1CZNNBxLgCeOGYNOo0ahactWtB4+jJjUVMQNHuS1jDqg/npCrdYrKkmrvwXtY9prUjY9mJk5tWdPQplqSNFNclBFRP5FwsmAbAc2OKf8uRGBhkO2/bKGh2xYkcy+luuL5T+i+Xir1/2U/KypNQMjNZ1T7klbqNNEw7kEuGA0eiyb7ova6wm1WK+opGj7W6D3LI1QpRpSdGNQRWFPb+k2mp0MqFwkwqtG/00FZe1HktjXcm35pALfrfkZzU2ngyulP2tqz8BISecM5KQtVGmioaz0piXX79qs/qmqricM9XpFpYV7YChHOGRpsFADqY1BFYU1vabbhPxkIERFIjxKMCm7H0lmMAjIH98Lgy/JUu2zppcZGD2ftEVCCXB/tPquDeV6RTWEe2AoVbjMzLFQA6lJcvNfIr0JVWPFQNlPBvoOMaP7mSnqBlSrbnVPwbMXiSj/QJ3ntcscZgvgvDTlBQQgsbttP1KFp8+axWrB5qrN+Hjfx9hctRkWq0X24+qpCavvRrY2Wp20RUIJcF/0/l2rdyH7W6AxJRtXE4Uj2TNVvXr1wubNm9Gli3OkX1dXh7y8POzbt0+xwRF5Ey3pNn75KRJhFY2o/PerOH5sCOKTO6hzhdRgtM2IrboV8LYMeNxCFqkIodIDpR6LNMzMnymrSIPeZmD0mk6l9/UkwVDju9ZiteimJQIpK1pm5og8kR1U7d+/HxaL+xXP5uZmHDp0SJFBEfmjt5M9zfgoErH3xLlY13A7jlu7Aq//D4CK6To5E2xl0z2mIC5UPwWRHEoPlKJwbaFbj6aaphoUri3E4hGLJQdWepyBCfVJm5Q1m3pOTQyW0t+1SgX8pF/hnrJJFCjJQdUHH5xOIfr000+RlJTk+NlisWDNmjXo2bOnooMj8kaPJ3ua8FL8Ye+Jc1Fc95DbdlXXweRMsJVN16JYBgGwzQAs3LTQY9NbESIECCjaVISRGSMlzQzodQYmVCdtUtcRhct6kkAo+V2rZMBPRKQ3koOqK6+8EgAgCIJbP6p27dqhZ8+eeOqppxQdHJE3ej3ZCzkPxR+sogHrGm4/9ZPnkzjVUiMNRpZN11BZTZnTDIArESKqmqpQVlMmqSqelBmYjgnt0Fh3Aod21kZUmo/cAh3eUhM7JrTDhTecGbbrSZT6rlU64A+EaLHI6sdFRCSH5KDKarUCALKysrB582Z07dpVtUER+RPJ6Tay2ItENFTCvpapsuV3tpQ/H6IiNVIqrUrRq+Bw02FF95MyA/Nb40mUqp1eGmKBriPKHpgG0SriyxW7cOL4SQC24/PVO7shGBCWx0Wp71qlA365GkpKUD1/AVqrqhzbYsxmmGbPQuKYMYo/HxFFH9nV/yoqKhhQkeb0XAkspOxFIgDYZ6WOW6UFShGfGilF+QfAklxg6WXA6ttt/12Sq37FRJWkxqUquh/gvaKXJ1pXg7NaRRzaWYud31Rhe+lP2PlNJQ7trJVdnVDOOqK29m6rwaev/OAIqOxcj4t9nLs2V3kcn7/bQ0mp71qlA345GkpKcGj6vU4BFQC0Vlfj0PR70VBSovhzElH0CahP1Zo1a7BmzRrU1NQ4ZrDsXnvtNUUGRuSPXiuBhZxLkYh4Q62ku4U8NVJvM0L2UvSu6Uj2UvQTlwVdYCPUjanz0vJgijOhpqnGY5qVAAGmOBPy0vJkPW7b4hCNdc34atVut8ChLVnppQp9Ljytf7KTO4MWyDoiqbNbohX46h3v67T02HtPie9aNQJ+KUSLBdXzFwCih8BUFAFBQPX8Beg0ahRTAYkoKLKDqnnz5uGxxx7D4MGDkZ6eDkGI8JkA0jWWbz2lTZGI9IZqxC8Hjh/zvnvIUyO1bE7siZ9S9IAAFM+0HdMAAz8tTo6NBiNm5s9E4dpCCBCcAivh1EzmjPwZAa1ZsReHOLSz1mdABchIL1Xoc7FnazU+feUHr7cfrzuB4pd2YMwdOegzyOz38QJZRyR1duvTV7yv0xowOgPbPzvo9XYte/0E+12rVsDvT9OWrW4zVE5EEa1VVWjashXxQ/MVfW4iii6yg6oXX3wRb7zxBm655RY1xkMkG8u3nnKqSIQBwHCr50X2dsGmRsqagQnBjJBsPkrR24iw1leict1XOB53puwTSLlFDpRUkFmAxSMWeyxbPSN/RtDV1RSrBqfQ52LP1hqU/NN7QGVjCzDfW7YRAzp3wugs38cgkHVESqTTflvqHlC1pXXvvWC+a9UM+H1pPSwtnVDqfkRE3sgOqlpaWjBs2DA1xkJEClEzNVLWDEwIZoQC4qUUvZ2jx9dbFgDlAKTPMumhMXVBZgFGZoxUpcGqItXgFPpc2NYweb940JYAAXHNSXjyw+cgXAGfwWUgJdKVSKf1lKHWVrgXmFE74PckJlVaOqHU/YiIvJEdVP3+97/HihUr8Mgjj6gxHiJSiBqpkbJnYCTMCKHhkG2/UJZi91CK3i7YHl96aUxtNBhVqaKmSDU4BT4XUoJXT+JOJkoq3S33woSU46IEKTNiFqtFlYBaCWoG/J7EDR6EGLMZrdXVnqNWQUCMyYS4wYNUeX4iih6yg6oTJ07g5ZdfRmlpKc455xy0a9fO6fbFixcrNjgiCo6SqZEBzcD4mRFykLqfUjyUogeU6fEV6Y2pFWl0q8DnQkrw6klTu3rJpbvlXJiQclyU4G9GrPRAqceZoJn5M3XTWFetgN8TwWiEafYsHJp+LyAIzoHVqTXhptmzWKSCPLJYRWyqOIqaYyeQ1qkD8rM6wxhta7ZJMtlB1XfffYcBAwYAAHbscP7jwaIVRJEroBkYHzNCTqTupxR7KfpVt8IWPCnX4ysaGlMHnV6qwOdCblAqQkRj+zpUJu4FIK9Xl9QLE76Oy/nX9sZX7+zx+Tvkes7vyt8MYOmBUhSuLXQrBFHTVIPCtYVYPGKxbgKrUEocMwZ4Zol7nyqTiX2qyKviHZWY92E5KutPOLalJ3XAnMtzMC43XcORkV7JDqq++OILNcZBRDoX0AyMlxmh0wTb7ZkarNN0KUUPKNPjK1oaUweVXqrA50JOUGoPMjb0/DdEwfb/lS7dbefruAgGwedMVv8Cz9X/7HzNAFqsFizctNBjZT37trkb5iKhXQKGmIfoJh0wVBLHjEGnUaNs1QAPH0ZMairiBg/iDBV5VLyjEtOWl7n9NlXWn8Afl5fhvoK+uOvi3py1IicB9akCgD179mDv3r248MIL0bFjR4iiyJkqoggW0AyMlxkhm1PfF+MWatevqk0pejRWI/5oKvCWxe/dfB0LRdLjwkTA6aUGIyxjF6Dswztx2GhEqqUVeSeaYfsUSPtcyFnD1Ni+Dht6/hsVXb5TrXR3W96Oi5QZPnOvpIBmAMtqypxS/jypb6nHHZ/dobt0wFARjEaWTSe/LFYR8z4s93i5x+7p0l14a9MBzJ3Qj7NW5CA7qDpy5AgmTpyIL774AoIgYPfu3ejVqxduv/12pKSk4KmnnlJjnESksYBnYDzMCAE41Y9ooTZ9qto6VYoeANKtIuI/2RD0LBMbU/tWeqAUC8ufQ3X66eNgam3FzCO1KIjpLOlz4Tt4tc3NfGf+Egc6f4/KxL0QBVHV0t1S+ZvhC3QGUGo6I8B0QCJfNlUcdUr586aqoRnTlpfhhZvzGFgRgACCqvvuuw/t2rXDTz/9hN/97neO7ZMmTUJhYSGDKqIIFdQMjMuMEBJMttQunaUgKTnLFMjJsaz+XzojteKc13U/MTEoNKVi8UVPoaCntDUu3oPXDkgc+Rveq9+gaOlupd4ffzN8gcwAyklnFGELMKVUQSSKNjXH/AdUbc37sByjc8xMBST5QVVJSQk+/fRTnHHGGU7b+/TpgwMHDig2MCLSn6BmYNrMCOmZkrNMck6OZfX/0hmpFed8r/ux9ZIq2vwERvYYJflEP6t/KmI7xODn3bUQRKDbmSno3jcFBoOACVblSneH4v0JJmjLS8uDKc6EmqYaj8fXlQhRchVE8k60WLhOK8KkdeogeV8RtnVWmyqO4rzsLuoNisKC7KDq+PHjiIuLc9t+9OhRxMaGbzUrIpJGjf5XehPq1yi7/5eOyKk452/dj9wTfY+BzsYqR6CjVOnuULw/wQZtRoMRM/NnonBtIQQIkgIrQF7aIDlrKClxryhoNuuyoiCDP+nyszojPakDqupPSPwtkj+7RZHJIPcOw4cPx7Jlyxw/C4IAq9WKRYsWYeTIkYoOjoj0yT4D03eIGd3PTImogMouVK9Rav8vq1Xqn/fQkVJxrmhTESxWW/EPqSfwUvazBzqu69/sgc7ebTWSnsufULw/Sr2WgswCLB6xGGlx0gM8taogRrqGkhIcmn6vU0AFAK3V1Tg0/V40lJRoNDJ3DSUl2DOqAD9NnoxfHngAP02ejD2jCnQ1Rj0xGgTMuTxH1n2kzm5ZrCI27j2C97cfwsa9R2DR4fc6BU52ULVo0SK8/PLLuOSSS9DS0oKHHnoIubm5+O9//4uioiI1xkhEFLHk9P/SGzkzT4D0E3h/+4UyEFX7/VH6tRRkFuDTaz7FP8f8E0ntk7zuJ0CAOc6sahXESCVaLKiev8BzU7FT26rnL4Bo8V9JVG3hFPzpybjcdLxwcx7Mib6DJQG23lX5WZ39PmbxjkpcUPQ5bnjla0x/eztueOVrXFD0OYp3VCo0atKa7KAqNzcXu3btwgUXXIArrrgCx48fx9VXX41t27YhOztbjTESEUWsgPp/6YTcmSf7uh97FT5XUk/0QxmIqv3+qPFajAYjhqYPxdxhcyGc+l9bwVRBtFgt2Fy1GR/v+xibqzY7ZiGjSdOWrW5BihNRRGtVFZq2bA3doDwNI4yCPz0al5uO9TMvxn0FfTzebv+tmnN5jt8iFfa+V65VBavqT2Da8jJZgRVnu/QroD5VSUlJ+Mtf/qL0WIiIok5A/b/8CFUVQbkzT77W/cg50Q9lIKrG+9OWmq/Fng7oqYhIIFUQpRYkCQUtK2W2HpZ2MeF/O/bhUGx3pHWyzWSEujqcnOCP/bs8MxoETC/oizPNnTDvw3KnoMic1AFzLs/xW07dV98rW4Ee6RUEi3dUuo0jXeI4SH0BBVV1dXXYtGkTampqYLVanW679dZbFRkYUdSzWnRfgpyCF3D/Ly9CWUXQX8U5T412lTjRVzvQaUvp98eV2q+lILMAIzOCr4IopyCJ2rSulBmTKu1iwrwN1fh+93YAoT3xtQech7cfRVNyHyTX7YHgo+SC1CAxmo3LTcfoHDM2VRxFzbETsgJlf32vpFYQtM92ub6T9tku9svSnuyg6sMPP8RNN92ExsZGJCYmQhBOf6AEQWBQRaSE8g+8NMst0r5ZLilKyd5Yoa4iGOjMU7An+moHOm0p+f54EorXEmwVRH8FSQQIWPjNQiS0S8DRE0eDLl/vix4qZcYNHoQYsxmt1dUeU+usAH7tmIwfuvZybAvVia9zwNkeGHAvYk/Uos+ed5D267ce7yM1SIx2RoMQUNl0qZUBfe2n5GwXqUf2mqr7778fU6dORWNjI+rq6lBbW+v4d/ToUTXGSBRdyj8AVt3qHFABQEOlbXv5B9qMK0JZrSIO7azFrs1VOLSzVpMqe/beWPHJzrMRCSmxkk8Staoi6K3inCnO5HP2wn6if2mvSzHEPARGAKhYB3z/ru2/Ptbq2AMdX4IJdFwp8f54E+rXEggpBUmqf6vGHZ/dgRnrZmDqp1MxdvVYlB4oVXQceqmUKRiNMM2edeoH5/fFCtsJ7ktnXwGrcPoUyz6ieR+Wq7YGxlsVyebYZOzodwdquvZ3voMgIMZsRtzgQaqMh2ykVgb0tZ+c2S7SjuyZqkOHDuGee+7x2KuKKFJolq9vtdhmqHxdjyqeCZw1nqmACtA6jaitYHtjySl4ILUhsVRBp5gFMDOrZJNmKdTsXRbq1yJXIL2s1EgL1PIz7ipxzBjgmSVufap+7ZiMl86+Ahu6ne12HzUbxfoMOAUBEEXs7n0tUn/9zpYKeCoYNM2exX5VKvPX90qAbX2WrwqCSsx2kfpkB1Vjx47Fli1b0KtXL/87E4UhTU+0D2xwn6FyIgINh2z7ZQ1XdywRTg9pRK7svbECoXUVwYBTzOwzs66nG/aZ2YnLfAZWoWzSHMz744+em2oH0svKnhZYtKkIIzNGKpIKqPVn3FXimDHoNGqUo6nuN/XAH7+zOs1QeaLGia/fgFMQ0NyhM+qSeyOlbjdiTCZdNimORPa+V9OWl0GA8zed1AqCSsx2kfpkB1Xjx4/Hgw8+iPLycpx99tlo166d0+0TJnC9R8ixoIFiND/RbvSeYhPQfuSR1DSirP6pITupDXZ2NJTFGxSjwMysmoFOqOn1tfgrSOJN2z5lwazpstPjZ1wwGh2V8zrtPQLr91/7vY8aJ75SA8m42/6EHgM6I27wIM5QhZC971WgFQSVmO0i9ckOqu644w4AwGOPPeZ2myAIsLDfQWj98B7wf/cDTb+e3saCBgHRxYl2gknZ/cgjPaURAcrMjoayeINidDQzq2WJbr3zVZBEikDSBz3R+2dcyxNfqYFk6oihiNdh4K4Fi1UMqJpfoIKpIKjEbBepT3ZQ5VpCnTRU8giw4e/u2xt+8Zs2Q+50caKdOcwWFDdUwvPVe8F2e+YwdZ4/SugpjUip2dFAq9RpGkyEcGbW1+vU09o6vfJWCl+KQNIHPVG7EmOwtDzx1XvAqTda9XsKtIIgEPxsF6kvoD5VpAM73vMcUDmILGggky5OtA1G2yzjqlsBb3+Wxy0Mi/c01FcB5ZB6Vbdjp/aqjkPp2VG5BQ9CHUxYrBbnYhbxqZD0SQ5yZtbX6wSgu7V1euVakKRLxy74y1d/kdWnLFh6L+qh1Ymv3gNOPQnnfk/BzHaR+gRR9NBkwY8vv/wSTz75JP73v/8BAHJycvDggw9i+PDwXzjf0NCApKQk1NfXIzExUevheGa1AE/2AZqO+N938kcsaCDRoZ21eO/pbX73u/K+geqnhHmshtbdFlCFwexjQFcBQ7g20GoVsWz2Br8zk3FJ7XHh9X1VO1EL5jPna+ZFyuyTtxkyO6WDidIDpR4b/s6s/gUFv/4CnzOz934f8GfB3+uMjY9B8/FWr7cnpMTilr8Nczp+bsGhxEqHoZgVDPXMo70pMACPfcrUagqs93RNrS4qebqAoJeAUw8sVhEXFH3utTy5PUXzqxkXM1AhB6mxgeyZquXLl+O2227D1VdfjXvuuQcAsH79eowaNQpvvPEGbrzxxsBHTdIc2CAtoAJY0EAGXaVP5EywzTKGYQGSgK4ChrjZsZSrugDQVN+i6mxFoLOj/maY/BU8CPX6QfuJt+tsRk1TDQo7GbG4qSMKmn6D0jOzUl6nr4AKcE/59Roc5s/0GTyEYlZQizRGb2mBpjgTZuTPUCWgAvRb1MMumDSvYGhdRVK0WBzVEGNSU3VXEENOvyct3j8Kb7KDqr/97W9YtGgR7rvvPse2e+65B4sXL8bjjz/OoCoU5ARKLGggme7SJwzGsJtlDKjrexAltYPhLY3IE7UKlARSzUyJNVihXD9osVqwcNNCj+lhjrLbGdkYWXkERregOriZWSmvUwp7UOszOPTRkykUVUW1rFwadJ8yUpRWAWdDSYlb364Ys1lXpdvZ74nU5LuZggf79u3D5Zdf7rZ9woQJqKioUGRQ5IfUQCmuKwsayGQ/0Y5Pdj7ZTUiJ5doKCWR3ffdbUhu2tYFWdaqKZg9MQ8Hk3/ndzx5gKM0+O+pL29lRqTNMVqvvrO5Qrh8sqynzWdhAhIiqlnqUXf+6LV35mldt/733+6CDaaXWP8YnxvoNDgGgaFMRLC6fVaXeM19C8Rz+2PuUXdrrUgwxD2FAFWUaSkpwaPq9TgEVALRWV+PQ9HvRUFKi0cicsd8TqUn2TFVGRgbWrFmD3r17O20vLS1FRkaGYgMjHxwV4nyVIgYw/qmwSBfTG63TJ8KZ7KuAOiip3dTYImk/NQqUyJ0dVWqGKZT9fqSW0z584ijQ69Kgn68tJcZvD2q31mzxHxw2VeEf3/4D56af65ipCcWsoC4ql1LUEi0WVM9fAHhaoi+KgCCgev4CdBo1SvNUQPZ7IjXJDqruv/9+3HPPPdi+fTuGDbPNgqxfvx5vvPEGnnnmGcUHSB44VYjzcuVx2D1AvytDOaqIovd8fb2SfRVQB82OtW4oKqeamVIzTKFcPyi1nLZSZbfbkvI6O8TH4ISPdVX2oFZqcPjydy/j5e9edqyz6tGQK+l+wQTtuqhcSlGractWtxkqJ6KI1qoqNG3Z6miUrBX2eyI1yQ6qpk2bBrPZjKeeegqrVq0CAPzud7/DypUrccUVVyg+QPIiZ4JtrYnr4v64rsClTwG5V2o2NIpesq8C6qDZsR4KlEidHVUqAAzl+sG8tDyY4kwhLbttJ+V1jrj5LADwG9TKDfrs66z+mrUYUjLtgwnatb4wQNGt9bC0Cw5S91Mb+z2RWgLqU3XVVVfhqquuUnosJFcYV4ijyCT7KqAOmh3rpUCJlNlRJQPAUPX7MRqMmJk/E4VrCyFA8Fh2e0b+DNXW4Eh9nf6CWn/BoSt7EY5nqxbhpuRHcbzOe5ppsEG7Hi4MUPSKSZV2wUHqfqHAfk+khoD6VAHAli1bnPpUDRo0SNGBaSUs+lQR6ZysPlWO6n+AxzBMpep/rsKlv4vS/aVC1e/HUylyc5w56LLbUntGKfE6vfVk8ufJjJewZ5X39YZqVv9T8jmIPBEtFuwZVYDW6mrP66oEATEmE3qvKdV8TRVRIKTGBrKDqp9//hk33HAD1q9fj+TkZABAXV0dhg0bhrfffhtnnHFGUAPXGoMqImXIan6pk2bHem8oahcuAaCrQJvmehNoz6hgeHpOf4qGF+HM+sGqv2fh+rmg8Gev/gfAObASbN+f3Z9Zopuy6kRyqRZUjRs3DnV1dVi6dCnOPPNMAMDOnTtx2223ITExEcXFxcGNXGMMqihS6T5gsFqYyiqD7t9PlXnrGWVPKfTWM0oJ9uDw61++xsvfv+x3/9fGvoYh5iEhec+i/XNB2gmHPlVEgVAtqOrYsSM2bNiAgQMHOm3funUrhg8fjqampsBGrBMMqigSebqCHZ8ci+GTeAWbwo/FasHY1WO9zhbZi18UX1Osar8k+zj8FeFQexxa0SqAY+CoX6LFYqsGePgwYlJTETd4EFP+KOxJjQ0C6lN18uRJt+0WiwXdunWT+3BEpDJvay2O1zWj+KUdXGsR4SLxBFRSQ+GmKpTVlGGIeYhq49C6CIeWtLpQwwtE+iYYjZqXTSfSiv86ry6eeOIJ3H333diyZYtj25YtWzB9+nQ8+eSTig6OiIJjtYpYt3K3z32+WrUbVmtA9WpI5/Zuq8Gy2Rvw3tPb8Nmr5Xjv6W1YNnsD9m6r0XpoQZHcUFjifsEoyCzA4hGLkRbnfEJvijMFlIJotYo4tLMWuzZX4dDOWl3+btov1LhWG7RfqFHr86XV8xIRSSF7pmrKlCloamrC0KFDERNju3traytiYmIwdepUTJ061bHv0aNHlRspEclWubvOZ5llAGisbUbl7jo2O44wkTxDqWVDYU8KMgswMmNk0EU41J6FCbZQiMVqwdaqrShbcQynmyS4+2rVbmT1T1V0RlTqBSKln5eISCrZQdWSJUtUGAYRqeF4g++ASu5+FB70dgKqdApiKBoKyw1AjAZjUKmGagfBwVZKtN/fWNkJE47d7XNfNS7U8AIREemd7KBq8uTJaoyDiFQQnxir6H7RLJzWJunpBFSN2Re11zKFulS72kGwt0qJNU01KFxb6DdNse39e5/sLuk5lb5QwwtERKR3soMqu5qaGtTU1MBqtTptP+ecc4IeFBEpI71PMuKTY32eYCek2AIE8i7cFsfr5QRUzdkX+1omT8FPMA2Fgw1AAqFmEGyxWrBw00KPM3oiRAgQULSpCCMzRnoMQl3v39SuQdLzKn2hRs0LRLJ66hEReSE7qNq6dSsmT56M//3vf3Ctxi4IAiwWi2KDI6LgGAwChk/q4/HE1u6CiX10O+OiB+G4NkkPM5ShSEFUai2TXbABSKDUDIKDrZToev/KxL1obF+L+JZkx6ygKzUu1Kh1gah4RyXmfViOyvoTp58rqQPmXJ6DcbnpgQ6XiKKQ7Op/U6dORd++fbFhwwbs27cPFRUVjn/79u1TY4xEFITsgWkYd2cu4pOdT6ATUmJ1GRDoiZTA4Ms3d2LnN5W6qtRmPwH1Re0ZSjmzL8Gwr2W6tNelGGIeElSwIycAUZKaQXCwlRJdt4uCiPU9/237/x6CT0CdCzX2C0S+XDDRdrvU6onFOyoxbXmZU0AFAFX1JzBteRmKd1QGP3AiihqyZ6r27duH1atXo3fv3mqMh4hUkD0wDVn9U/2uCbJaRVTuOorje3cg3liL9D6dYcg6H4jAPjtSSAkMfms8idLX/wdAPymBUmYoz7+2t6prxPSSgiiHVqXa1UzTDbZSoqftFV2+Q0nf13D+/quR0HI6HTEhJRYXTFTv82+/QOSaimt/XgBYNnuDpDRdi1XEvA/LPYaFImy1Ded9WI7ROWZFUwHDaW0mEckjO6gaNWoUvv32WwZVFJzWFmDzK0DtfiClJzDkDiCmvdajimgGg+BzPcbebTVY9+Z3ON5on8BORLyhCsNNNyH7uhuBnAmhGaiOyD3h11NKoK8T0N6D0/DVO3tUXSOmhxREubQq1a5mmm6wlRK93b+iy3fY3/l7pDf0RrqQgcdGP4oz+nZWPUDwdoGo4tvDstJ0N1UcdZuhaksEUFl/ApsqjuK87C6KjD3c1mYSkTyyg6p//vOfmDx5Mnbs2IHc3Fy0a9fO6fYJE7Q/8Xr++efxxBNPoKqqCv3798ezzz6L/Hx2+NaNkkeAjc8BYpsiJyUPA+fdBYx5XLtxRTHbuqHv4dp75ri1M4or78C4ZYuQfSuiLrAK9IRfL/1yPJ2A/tZ4Ep++ov4asXAskhKKUu3e+JuF0apSoq/7QwAqk/bgwRF/Qo9MZQIPKVwvEAWyfq/mmPeAqi2p+/kTjmsziUge2UHVxo0bsX79enzyySdut+mhUMXKlStRWFiIF198EUOHDsWSJUswduxY7Ny5E2lp/MLSXMkjwIa/u28Xrae36zWwslqAAxuAxmogwQRkDouItDjbCcmuUz+5BgEGAFZ81TAVWZ/MguGs8Yq/Zj2nw0gJDDxprG3Glk8qkD++l0ojk67tCajVKmLZ7A0+91cqIJSagqiX9xpQv1S7P1LTdOUKtlKiWpUWlRJI9cS0Th0kPbbU/XxRumiLnr8ziaKZILqW8POjZ8+euOyyy/DII4/AZDKpNa6ADR06FEOGDMFzzz0HALBarcjIyMDdd9+NmTNn+r1/Q0MDkpKSUF9fj8TERLWHG11aW4C/mZxnqFwJRuAvVfpLBSz/ACieATT8cnpbYjdgXFHYz94c2lmL957e5ne/K1MeRvc/FAFZwxV77nBIh/F2hVkKOVefQ3GiJPm9vm+gYv2rPL3Hdnp7r+1K9n+Gv25cgNqW02unzHFmXQQQwZDb0Fjp+6tl1+YqfPZqud/9Rt+eg75DzABsa6ouKPocVfUnPK6rEgCYkzrgqxkXB72mSsnfu3D4ziSKNFJjA9kzVUeOHMF9992ny4CqpaUFW7duxaxZsxzbDAYDCgoKsHHjRo/3aW5uRnPz6S+nhgZpPTgoAJtf8R1QAYBose133p9DMyYpyj8AVt0KuP7pbai0bZ+4LKwDK8kFBawptlk6hYRLOoy3tCwppF59DtWJklrFI3wFhNkD0yBaEZKUQyXYSmwbUFl/H4xxFRBijiEltgvuG3MZCjLP0Hp4QbFXSlT7/qEOvgJZv2c0CJhzeQ6mLS+DAOdvd/tv65zLcxQpUqHU7124fGcSRSvZQdXVV1+NL774AtnZ2WqMJyi//vorLBaLW8BnMpnw448/erzPggULMG/evFAMj2r3K7tfKFgtthkqXzWiimcCKqTFhYrkExJDrS3tUQGh6GGkpLZpWY11zfhq1W6cOH7S7/2kNGwN5YmSGsUj/AWEVquIr94Jj/faXmLb9ttugKXJ9nfuVwB/fvNbvHCzkb2L/Cg9UOoxTXBm/kzVZvmkpOnGxsfAKoqwWkXH52xcbjpeuDnPrU+VWeE+VUr83oXbdyZRNJIdVPXt2xezZs3CV199hbPPPtutUMU999yj2OBCYdasWSgsLHT83NDQgIyMDA1HFMFSeiq7Xygc2OCc8udGBBoO2fZTMC0ulGwnJO1PnZB4+mNsRYLhCNK71tvWkSkgkDUQWmu7NimmvUFySqC3q89Wq4hfdtbii+WeL/jYKXmipHTxCCkBYYe4dmHxXmtVYjuSlB4oReHaQrciHzVNNShcW4jFIxarElhJWb/XfLwVHyzZ7jYDPC43HaNzzNhUcRQ1x04grVMH5Gd1VvQ9VuL3Lhy/M4miTUDV/xISEvDll1/iyy+/dLpNEARNg6quXbvCaDSiuto5Ram6uhpms9njfWJjYxEbq5+SvhFtyB22Kn/+1lQNuSN0Y/JHarqbgmlxoWY7Iel7qvqfFc49wa0ABFyQ+BoMlyxQbDYuHHsYtZU9MA35l2Vh00cVfvf1dPXZ1zojV0qeKClZulvqlfNzr5RWrMNX8BmKRflalNgOlVAcQ4vVgoWbFnqsmihChAABRZuKMDJjpCqpgFLTdD3NABsNgqrvqRK/d+H+nUkUDWQHVRUV/k8itNK+fXsMGjQIa9aswZVXXgnAVqhizZo1uOuuu7QdHNmKT5x3l+fqf3bn/VlfRSqkprsplBanFdsJydmn+lSd3p5gOIILTO8h+7o/K7puLBx7GLkadGlP7Fh3CE31LV738XT1OZDCF0qeKClVulvqlfPfjvlPkwSkB59qLcoPdYntUAnVMSyrKXNK+XMlQkRVUxXKasqCWtfliz1N95edtSj+5w40H2/1um+oU+WC/b2LhO9MokgnO6hqy144UBD0kwpRWFiIyZMnY/DgwcjPz8eSJUtw/Phx3HbbbVoPjYDT5dJd+1QJRltApbdy6pnDbFX+GirheV2VYLtdobQ4LdlOSEahctdRHN+7A/HGWqT3SYcha7ni68XCsYeRK4NBwIXX95V19VnK7I4nSp8oKVG6W2qg17FT+4De61Avyg9lie1QCeUxPNx02P9OMvYLlMEgQDAIPgMqQJtUOV+/d/5mEyPhO5Mo0gUUVC1btgxPPPEEdu+2nRz07dsXDz74IG655RZFBxeISZMm4fDhw3j00UdRVVWFAQMGoLi4WJfVCqPWmMeBix+xVfmr3W9bQzXkDn3NUNkZjLay6atuBbzViBq3MGyLVLgyGAR0P6sLcNZFqj+PUmloQQui/5jcq89SZndcqXWi5NpAVS6pgV7CqVkRpYNPpWca8rM6Iz2pg98S2/lZnRV5Pk8sVlGxtT2hPoapcamK7hcMPafKefq9kzKbqKvvTCLySHZQtXjxYjzyyCO46667cP755wMAvvrqK/zxj3/Er7/+ivvuu0/xQcp11113Md1P72La66tsui85E2xl0z32qVqoejn1SG30qFQaWlAU6D8mZ9YnkJM4vZ4oyblybjAIigefSs80hLLEtie2Uu7OVejSg6hCF+pjmJeWB1OcCTVNNR7XVQkQYIozIS8tL+jn8iecUuXkzCbq4juTiLySHVQ9++yzeOGFF3Drrbc6tk2YMAH9+vXD3LlzdRFUESkuZ4KtbHqAMxqBivRGj0qkoQVMwf5jUmd95JzEBXuipHYwLvfKuRrBp5wgVcrxULrEtmu/pv5d++PbX79169/kXMr9tKr6E5i2vAwv3Jwn+7lDPVtjNBgxM38mCtcWQoDgFFgJp8LSGfkzQtIsOFxS5QKZTdT0O5NUFakXUKOJ7KCqsrISw4a5rx8ZNmwYKisrFRkUkS4ZjCEtmx4tjR6DTUMLiEb9x6T20xl7Ry66900J+A9qqIJxuVfOlQ4+fe3XNqAx7k9GZYkVx+tOFxXxdjyUKrHtqV+TQTDA2mYtqSnOhIeGzMC8Dw2Kl3LXYramILMAi0cs9tinakb+DNX6VLkKl1S5QGcTNfnOVFGom0XrUaRfQI0WsoOq3r17Y9WqVZg9e7bT9pUrV6JPnz6KDYwomrHRo8o06j8m5WRv5M1nIeOswNfthDoYV+PKebAzDW0Dmqwj52DMrqkATs+YAP6OhxUx8fvQTjiMmLhUAMkApJ/keevXZHVpJ1HTVIP7vyzEb9abAeR6fKxAS7kHewwDPdEtyCzAyIyRmp8kh0OqnJ7XfqnB02fqi4NfhLxZtN5EywXUaCA7qJo3bx4mTZqE//73v441VevXr8eaNWuwatUqxQdIFI3Y6FFlGvYfU/NkT6tg3N+Vc7kn6MHMNLQNaARRwPn7rwbgHFC15Xo8PM0wyTnJ89WvyZV9n1jTh2g9lgPnHnHO5JZyD/YYBnMMjAajamXT5dB7qlw4rf0KlqfPVFJsEuqb6932VbtZtJ7wAmpkkR1UXXPNNfjmm2/w9NNP47333gMA/O53v8OmTZswcOBApcdHFJWi7QpmyGncf0ytkz09BuOBnqAHEny6BjTpDdlIaPH9OtseD28zTHJO8vz1a/LE0K4exrgKWJqyve4jpZS765qMrP6pso+hEsdAT3wF/FLXsKi11iVc1n4Fy9tnylNABYSmWbRe6PE7mwIXUEn1QYMGYfny5UqPhYhOiaYrmJrQQf8xNdZF6C0YD/YEXW7w6RrQxJ1MlDTO4w3NPmeY5JzkBdqHyRBzDBYP26WWcve1JuPW+cMkHUOljkE4kLqGRc21LuGy9isYcmZu2wpFs2g90Nt3NgXHe66Bi19++QUPPPAAGhoa3G6rr6/Hgw8+iOpq5VNliKKR/QqmL5FwBVMz9v5jAOCWFha+/cf0FIz7O0EHgKJNRbBYPYUSp9mDz75DzOh+pu/iHa4BTVM7979XnsQnxvqdYWp7kudLoH2YxNZO3j6Jfku529dkuF7xtq/JqPj2sKRjqNQx0Dt/x2vvthpZ+wXDPiPr+n2fkBIbEWtpApm5bUvtZtFa09N3NgVPclC1ePFiNDQ0IDHR/cpfUlISjh07hsWLFys6OKJoZb+C6Uu4X8HUnL3/WKJLqerEbrLKqeuJnoJxLU7QXQOaysS9aGxf6/Mquf14SD1587efvV+TtzVcrgQIMMeZ8ferroY5yTnFz5zUwW85dalrMqxW/zMFSh0DPZN6vFpbrYodV3+yB6bh1vnDcOV9AzH69hxced9A3PK3YWEfUAHBf1ZC0SxaS3r6zqbgSU7/Ky4uxosvvuj19ltvvRV33HEHioqKvO5DRNKFQ/WqoFktIe/95USj/mNq0VM6kRYn6K4NaEVBxPqe/8aYXVMd6Wuu7MdD6smbv/189Wty1bZ/U0HmGRjbr7vsUu5KrslQ6hjomdTjtWPtzyFd6xJpZdLtAv2shLJZtJb09J1NwZMcVFVUVKBHjx5ebz/jjDOwf/9+JcZERKfovXpVUMo/sPWKalvaPLGbLS0vlLNE3vqPaR3wBUgvwbgWJ+ieApqKLt+hpO9rOH//1U5FK1yPh2tA5krOSZ63fk2e+lS17d9kNAiyyqYDyq7JUPIY2OmtB5HU41X/62+KPl608veZ8iTUzaK1ppfvbAqe5KCqY8eO2L9/v9fAav/+/ejYsaNiAyMim4i8gln+AbDqVrgViWiotG3XOv1OLwFfgPQQjKtxgi6Fp4Cmost3+O2Mw7jb/BDO6pjr8Xj4mmEK5CTPU7+m/l3749tfv1U0wFByTYbSxyDY0uxqkHq8krpKO5/hWhff/H2mRIhIap+E+pbTlQBD3SxaD/TwnU3BE0RRlHTpYPz48ejWrRteeeUVj7f//ve/xy+//IKPP/5Y0QGGWkNDA5KSklBfX+9x/RgRBclqAZbk+mi+e6ry3r3fazMz5C3gs6eOaR3whRF79T8AHk/Q1SrPbbFasKV6CzZVbgIEYIhpCIaYh0gKBjwFAuY4s25P8qxWEctmb/BblvuWvw2TfIKmxDHwVvlR7ffeH6nH66bHz8Pyhzcqelyjma/PlB6aRRP5IjU2kBxUffHFFxg9ejTuvfdePPjggzCZbP1bqqursWjRIjzzzDMoKSnBxRdfrMwr0AiDKiKVVawDll7mf7/JH3lOy1OT3gO+MBTqIEWJ2RG9paz5Y69S500gVeSCOQYWqwVjV4/1WqjEPktZfE2xJsdV6vFS47hGs3D7vSKyUzyoAoCXXnoJ06dPx8mTJ5GYmAhBEFBfX4927drh6aefxrRp0xQZvJYYVBGp7Pt3gdW3+9/vmleBs69Vfzxt6TngC2OhOpnS6+xIKHjqp6TVmozNVZsx9dOpfvd7bexrmvUgknq89HRciUgbUmMDWc1/77zzTlx22WVYtWoV9uzZA1EU0bdvX1x77bU444wzgh40EUWotkUfGiX2LEkwOf5vyK5wSh2b1P10QusrxEaDUfWT52hqXOuJntZkhENpdqnHS0/HlSgatLZasWPtz6j/9Tckde2I3BFnICZGcgcoTckKqgCge/fuuO+++9QYCxFFIk9FHwQD0KYKmrNTKXaZwwCEeLF7m0BOkf10QI/FAtQgpy+WVrMjatNLUZtwKc0u9Xjp5bgSRbr1q3fj29KDaJtDt2H1HvQvyMD51/ju3akH4RH6EVF4shd9cF2j5CugAoBxCwGD0ZHO5XqyXNNUg8K1hSg9UKrseDOH2QI6r41bBSCxuyPg07uQHz8NhcPsSDiyWC3YXLUZH+/7GJurNsNitfi9j78GyPaGx5Heg4iIpFu/eje2f+YcUAGAKALbPzuI9at9N+PWAwZVRGEukJOekLBabDNUvnqTCC5fQYndHNX1/KVzAUDRpiJlX6/BaCubbhuc62Bt/zkV8OmdJsdPQ+EyOxJOSg+UYuzqsZj66VTMWDcDUz+dirGrx/oNxu1ltAG4BVbR1oOIiPxrbbXi29KDPvf5tvQgWlu9XZDVB9npf0SkH7pO7TqwwUcVvVNEKzB2vi2dzqXBrmbpXDkTbIGdxz5VC8OmnHqojp/W67XstOqL5YlejkkwvBX9sM9y+iv64a0BcjA9iKxWkWubiCLQjrU/u81QuRJF234DCjz3y9UDBlVEYSrYkx7VySlI4aHKn6bpXDkTgLPGny6u4RLwhYNQHD89BfVKN64NlL9jEg4Bl1JFPzw1QA709XqqwhefHIvhk1iFT0kMXEkL9b/+puh+WpEcVG3atAmDBg2C0ej5y7C5uRnvv/8+Jk6cqNjgiMizsKh0FmTRB83TuQzGsC6brvbx02NQr8bsiBz+jsmUflPwccXHughCfVFyllOJyo/e+kUdr2tG8Us7VO0XFU1BBgNX0kpS146K7qcVyUHVeeedh8rKSqSl2X6xEhMTsX37dvTq1QsAUFdXhxtuuIFBFVEIhEWlM3vRh4ZKeF5X5Vzlz5We0rnCkZrHT+2gPpjZHCVnR+SO2d8attd/eN3ttuqman3MLLchZ5ZT7Zk3q1XEupW+F6h/tWo3svqnKh7sRFOQoWXgSpQ74gxsWL3HZwqgINj20zPJQZVrj2BPPYNl9BEmUkfbfkhhmLIlVVhUOrMXfVh1K2xFHtp+P/gv+qCXdK5wpebxUzOoVyKlMBR9sVz5Oya+iBADDkLVCGqkzl7+1PATxq4eq+rMW+XuOqegxpPG2mZU7q5TtOx5NAUZWgauRAAQE2NA/4IMbP/Me7GK/gUZuu9XpejoBIG/bKSh8g+AJbnA0suA1bfb/rsk17Y9wmieGieVvehDYrrz9jZV/nyxp3OlxTmfvJjiTLq6sq9Xah0/tYL6cC4BH+wFDHsQKkeg1fn8kVISPTk2Gc9/+7zq79XxBt8Blet+VquIQztrsWtzFQ7trIXVKv9ir9QgI5DH1iM5gSuRWs6/pg8GjM6AayghCMCA0eHRp4qFKigy2PshuabeNFTatks4gQ8nYZUaF2TRB63SuSKFGsdPjaBe7+sE/c0IKXEBo/q49JkuNde0SZnl9JaZovR7FZ8YK3k/pdL1tJod04rcwJVILedf0wdDr8jGjrU/o/7X35DUtSNyR5yh+xkqO1lBVXl5OaqqqgDYvlB//PFHNDY2AgB+/fVX5UdHyoj0lDif/ZBEAAJQPNN2Yh8hr9v5pMc1sU6HqXFBFn3QIp0rkih9/NQI6vW8TlBKSqK/YyJFbXOtpP1CEYD6KvpxTd9r8Pz2573eV8n3Kr1PMuKTY30GOQkpsfit8SQ+fUWZdL1oCzLkBK5EaouJMei6bLovsoKqUaNGOV2duuyyywDY0v5EUWT6nx6Vf+Cl305R5Mzc+O2HJAINh2z7hXE1N1cFx5uw+FgrFnYUUR1z+lfZ1D4RM4bNZWqcEkJxQaLtc8R1teU6HD+s6wsgaqzX0us6QakzQr6OiVQpsdJmPUIVgHqb5fx0/6eS7q/Ee2UwCBg+qY/H9U1251/bG1+9o9yaoGgLMqQGrul9kkM3KKIwJDmoqqioUHMcpIZoSYmT2g9J6n7h4NR7WwARIwGUdYjFYaMRqRYr8k4chLF/k9YjDH+huCDh6Tna0vEFEKXLl+txnaDcGSFvxyQlNkXSLJQpXlobglAGoJ5mOUP9XmUPTMO4O3PdUvsSUmJxwcQ+6BDXTtF0vWCCjHAswS4lcL1gYh/dvw4irUkOqjIzM9UcByktmlLiAumHFM4pkS7vrRHAkBNt//hH0HurlVBckPD2HGo9nwqUXK8VinWCcivlBTIj5OmY9O/aH5f+51Kfj2WOM0t+bYEENUpWCdRiTWf2wDRk9U/1GLDs2lwl6TGkpusFGmSEcwl2f4Gr3sdPpAeSg6qffvpJ0n49eoRnHmTEiaaUOLn9kLzNQORNAbpk6z/Iiqb3VguhuCDh8zlUeD4VKbVeS+0S+oGUag90RsjTMbG/NgBBvza5QY0SZerb0qrdgcEgeJxpUiNdT26QEQkl2H0FrpEsHGcXSZ8kB1U9e/b0uGaq7VoqQRDQ2tqq3OgocNGUEienH5LXGYhfgLXzT/+s47SrqHpvtRCKoNXvcyj8fGFC6ZRCu0Ar5SmZ5qbka5MT1KhVJVCt9yoQaq0Jkhpk6LHPU6CBgrfANVKF8+wi6Y/koGrbtm0et4uiiLfffht///vfkZCQoNjAKEiBpMSFM3s/JI9rYBbabpc8OwB9p11F23sbaqEIWgO5b5QEyXJSCqWcOAZTKU/pNDcl0yWlBDVqVwnUS7uDYNYE+fsMSQky9FaCnYGCNPbZRfvvgl1j3YmwmV0kfZEcVPXv399tW2lpKWbOnIldu3bhoYcewv3336/o4CgIclPiIoG/fkhyZwf0mnYVje9tKIUiaA3kvlEUJEtJKZR64hhMpTw10tyULG/vL6gJRZVAvbQ7CGRNkFLBh55KsEdCGmIoWK0iPnvzR7eACoDjd/2zN38M6ewihb+Amv+WlZVhxowZWLduHX7/+9/j448/Rloaf0l1RU5KXCTx1Q9J9pV+naZdRet7GyqhCFr9PofCzxdh5Jw4BlspT09pbp74Cmr0WqZeLXLWBCkZfOilBLvVKuKL5T/63CfUaYh69fOuWlgaW90CKjsBAiyNrfh5Vy16nNU5xKOjcCWrRfHevXsxadIk5OfnIzU1FeXl5XjuuecYUOmVPSUuMd15e2I3faa1qS3QK/16TLvie6see9AKAG5/cBUKWn0+hwrPF0Gkrl+xWm3BqhLrogoyC/DpNZ/itbGvoWh4EV4b+xqKrynWPKDyR49l6tVmT9frO8SM7memeE35k/MZ8se+psuXUPR52vJJBZqP+17Xbk9DjHbf7zmq6H5EgIyZqj/96U949dVXMXLkSGzZsgUDBgxQcVikGH8pcdFE1uxAG3pNu+J7qx4pa/TUeo62lHy+CCF3/YpS66L0kuYmhxalz8OB0mug9NDnyWoV8d2anyXtG4o0RL1rFKSdA0jdjwiQEVS9+OKL6NChA2pqajB16lSv+5WVlSkyMFKQr5S4aOIzbc6TMEi74nurnlAEra7PEdcVEATg+GEGyV7IXb+iZvlvvZdi1qr0ud6psQZK6z5Plbvr0Nwkrfqy2mmI4SCjbwr2CQf+v727j2+qvvvH/zpJaUta0hZok5bVcidiBZEiRVA3qhWqDOYuFdyGoDgejukUitriNUVEgerG1OvrnJcTxXn9Jkw3B5vDWi+YKDcFCxtYL0UG1GFvkJsGqIA9Ob8/0oSmuTtJTs5dXs89WO3Jp8mnSdqe93l/Pu83+khC0CWAEiScFCSMHpY8lRApfrKDqsWLFydyHkTqkJMdAMBlVwRAnaDVYIGxkk1kYxHL/pVE7IsySoU1ve8J00Ki9kBp2edJbgCYlpGS8GWIRjBuSD883V/At48goFiF9+LDrv4CHhzST6spkgExqKLk0zM7cHQ/8NHLwMnm82O47IoogNJNZGMRa08iJct/G6HCWvcs2sX2Mfjb9zdg91e7NC19rheJ6msFaNfnSW4AOKqsUFfZVK1YLQLmzCjGylW7cc3XvdBHOv+cnBQkbOz9DSpnXAYrnyuKQkzV/7r7+9//jtOnT2P8+PHIyWGalAyiZ3bg2/dzb5LZuUW+xnEI1US2taMVCzYtwG0X34ayC8oSfrIez/4VJfZFqdXoNZ6MYLgs2tjRxtoXlgh62AOltK9PfQNBAKQwq9rTM1Iw5oaBqs1J7ypG5ANzgMfWNcJ69CwyJAGnBQliv1Q8Mu0yz+1EURAkKdyP4Hk1NTU4deoUli5dCsDT9Pf6669HbW0tACAvLw/vvfceLrnkksTNVgUulwtZWVlob2+H3W7XejpEpITGdSGKTtQwGymD6BYx+c3JYXseeamVuQoWOKixf+Xwp8fx1q92RRx344LRMWcs4skIhsqiecnNoul9v5gStHoPKS3Sa+6lhwyqHoluCfUHjqHt5Bnk9UlH6aC+zFCRH7mxgeygqqSkBFVVVZgxYwYA4A9/+ANmz56Nd999FxdffDFmzZoFm82GtWvXKvMdaIRBFZGOKJFdalzXVZyk56+6rj+aLEEf0Y6WHZjzTugCRd159yasnLgy4YGVFif+n+1owbsvNUYcd92dxRg21hn1/YfKCMp5Xt1uCa8+tCXisrbbnpgQ9nkyyn4xJRg9eJTzmgsCMOnHl2DoGJ1WsiXSObmxgezlfwcOHMCll17q+/ztt9/GzTffjCuvvBIA8POf/xy33HJLHFMmIsNKxNI6JbJLbtFzH0ErPUoABGBDtWePHZcChhRNc1jvpu+a+hqUFZYlfCmg2vtXEtnoVXSLWFG/Imj5cznPqxKlwo2wX0xJWu2BUoqc11ySgN6ZqSrNiCh5yW7+29nZibS0838ktm7digkTzpeaLigowFdffaXs7Egetwgc2AzsecPz0S1qPSOKhVFfx8Z1wNMjgNXfBd680/Px6RGe4/Hc59pZgRUaXc2e43Lv+9CWCFUeJcB12DOOQoq2OawECS0dLWhoM1+LjUQ2em1oawi7xDLS8xpvqXClm+JS4iWiPDwRxUZ2pmrIkCF4//33MXjwYDQ1NeGzzz7Dt7/9bd/t//73v9GvH0tPqu7jt4C/LgQ6ugW03CtiPEbd8xNqaZ03+IllaZ2S2aVTkfcARTUuSXmbyMrZU9VdNBkupSWq9LuSRQ56zrH1tLznd1vztqDfV7xZNKWb4lLiJTJzSkTRkR1U3X333bjnnnuwefNmbNu2DePHj0dxcbHv9v/93//F6NGjEzJJCqH2YWDLs4HHXV/GfkJL6ktEYBKOUkv1ErW0LprsUqT+Tpky9xDIHZekvE1kF2xaENXXRZvhUkqiS78r0eg12Bxz0uQFKv/9z//2/Xf37yveUuFGznoYfW9UrBJZHp6IoiM7qJo7dy6sVivWr1+Pb3/72wF9q7788kvMmSNvIzMpYO9bwQMqH4l7RYxA7T0/SmbElAx+ulMyu1Q0wfP9uZoR/DkWPLcXTQhyG3VXXlSO2y6+Db/75HeyxjttTpTklSR4VoFCFXpo62hD5aZKxQpoxNPoNdQcj589HvU8en5f8WTRjJr1SKbCGj2ZsTw8kVHJ3lMFAHPmzMGf/vQnPP/883A6/asa/frXv8b3v/99RSdHIbhF4O3KyOO4V0T/1Nzzo9Q+Ja9ELa1TMrtksXoCRgC+an8+XZ9XrOCFB5nKLiiTPbaqtEr15rKRCj0AQE19DUSF9it6ixwMG+vEgItyZC/5CzXH7oSA92twPb8vbxat576vzJy0iEUmErlfLB5ut4TDnx7HZztacPjT4357uryFNXpmaryFNfbvalN1rlqI5zUnIuXE1fx3ypQp+O1vf4v8fDZIU9WhLUDHUXljuVdE39Ta85OIjFiiltYpnV0qnuZZQhk0Q7cicUtkTdhs2Lu3qq2jLWRQYBEseOrbTyW8nHow0RR6iLcJcKwizdErOy1bduaq5/cVaxZNj1mPcFmoQaNyVWnEbATxZE6JSBlxBVXvv/8+vv76a6XmQnJFc4LNvSL6ptaen1iX6oULDBK1tM6bXVo7y3MffvcdY3apeJonYFQryNFB4ZFE7DHx7q2q3FQJAULQwOqpbz+FSQMnxfU4sZJbGEPLAhpyH/vBsQ/CkeHAkY4j2H9iP/57z39H/Jru9x1rqXAl9ospJVJ597FTB7KwRjdalYdP1v1sRD3FFVSRRuSeYNv6c6+I3qm15yeWjFikwCARwY9XIrJLFmt0e7tipXbhkSCCX91PRf4kC8SBJ+KqhldeVI6VE1cGFFlw2pyoKq3SJEPlJbcwhlYFNKJ5bEeGw5dN29GyQ1ZQpeT3JUn+71+1y6jLKe/+z//9t6z70mNhDbNI5v1sRD3FFVQVFRWhV69eSs2F5PKdiIfLPACY8kvDLzcyvUQGJt1FmxGTGxgkcmmd2tklJeig2XCoq/unTpzFvrVA7bD/wYF+/4yrGl55UTnKCssSUrI8HpGWJwoQ4LA5NCmg4RXLHNX8vkK9fzraz6na/FdOefezpztl3ZfeCmuYRbI1iiaKJKpCFQDQ1NTku4K1d+9eFBYWAvBc1WpqalJ2dhScb/N9mPT6hHuBS25Ua0YUD29gYu+xN9FeoFxWwxuIh3zPCIB9gGdcxMAAnsDAu9m/eBowfy8w+y/ATS95Ps7fo8y8vdmlkTd7Puo5oAI0bzYc7uq+t/DBhIP/AUESfFXj6g7VxfRYVosVY51jccPgGzDWOTaugEp0i9jRsgNv/+tt7GjZEXMhCe/yRCCw0IP3cy0KaHQXyxzV+r701PxXbnYpLSP8tWGWE08MPb1XiPQi6qBq0KBBOHIkcE34sWPHMGjQIEUmRTL4TsQL/I/b+gM3rwYmLdVmXhSbRAYmQHRV8GIJDIwW/CSKxs2GI13dFyCgz7kc5LuGJKQaXizqDtVh8puTMeedOajaXIU578zB5DcnxxzseZcn5tn8r5A7bA7FyqnHK5Y5qvF9RdP8N9HkZpdGlRWGvZ3lxBNDT+8VIr2IevmfJEkQhMBfUKdOnUJ6eroikyKZjLg8ikJL9J4fuUv1NA4MDE3jZsNyr+7bvrED0L4aXiJ6SoluEVlpWZhfMh/Hzx5HTloOHBkOXSxP7C6WJZSJXnapp+a/cpvajrlhIPoOyNBFYY1koqf3CpFeyA6qKis9fZEEQcDDDz8Mm83mu00URWzfvh2XXXaZ4hOkCNTafE/mICcQ1zgwMDSNmw3Lvbrf0cvl97kW1fAi9ZQSIKCmvgZlhWWyg4a6Q3UBBTS8e8f0FFB5eZdQJvpr5NJT899oyruznLj69PReIdIL2UHVrl27AHgyVXv27EFqaqrvttTUVIwaNQr333+/8jMkImVFCsQ1DgwMLZrCIwnoYxXp6r4ECadST6DZvt/vuBbV8JTuKZWIrFeykZsdirRHSXSLimTToinvrlU58WSl1HuFyExkB1UbN24EANxxxx145plnYLfbEzYpoqSndePYktuBTcuC3KBgRUKzkrPMMkF9rMJd3fcGG1sG/hGS4PlvLavhKdlTKhFZr2SkRPPfcNnCWIJaZqH0SY+NovVOdEuoP3AMbSfPIK9POkoH9YWVz4+pCFLPZhRJzuVyISsrC+3t7QwcSRtaNo4N9tjd2QfEXyo9WYQKjEOVq/cGrApUfAzWO+ZU6nF8OPCPONDvn12P5nk8rTI4O1p2YM47cyKOWzV5VcRMlZL3FQ+lMjRaC/b+kbNHKVS2UOv3GiVOrO+VZLNhbzOWrG9Ec/sZ37H8rHQsnlqMihH5Yb6S9EBubMCgqgcGVaSpxnXA2tuC3KDcCXf4xw52st9l4kPAt+9PjgxVojKFbhF4ekSY6opdSyvv3Q18sT2ux3e7Jd/V/f/7ei+ebalB69ctvtu1btYrukVMfnNyxN5LG27aEDEweftfb6Nqc1XEx6y5ugY3DL4h5jmHo3SGJlrdX28lsjnR3p/39Qy1pDOa11MpSj8nFByf5/A27G3GvNcaQl1Gw/MzSxhY6Zzc2CCu5r9EpqL1kju3CKy/N8SNCW4cG7Y3FTyP3bDaE1SZXSIzhXLL1a+8GOj4Kq7H777HZBicmOLWV7Neb++lyk2VECD4BVbR9l6SuycsUXvHtN7PFSxbkJGdhqtnxJ4tiHaPktJ75OKViOeEguN+ttBEt4Ql6xvDtYPHkvWNuK7YyaWAJhB1nyoiU2pc58kgrP4u8Oadno9Pj/AcV8v7vwC+Ph5mQAIbx2rctFY3vNm6ns+Fq9lzPN73g9wy9N0DKoUeX8lmvUpRqvdSSV4JHDZHQGNcLwECnDZnQvaORdrPBSS2F9j+XW3Y8MLegIIBp0+cxYYX9mL/rraEPG5PSu6Ri5denhOi+gPH/Jb89SQBaG4/g/oDx9SbFCUMgyqiRJ9Iy+EWge3PyxubiP5Q7E0VIVvXdWxDtWdcrGIuQ6/Q4+tQeVE53rnpHayavAo1V9dg1eRV2HDThqgyO96sF4CAwCrarFe0osnQKM3tlrB5zb6wYz5Yuw9ud+JX+WudLfTS03NC1HYydEAVyzjSNwZVlNzUOJGW49CWCFmqbhLRH4q9qdTJ1nnL1YfIqIRn3myhElk0pbJe0dIyQ9O870TYktYAcOr4WTTvO6H4Y/ekZbawOz09J0R5fdIVHUf6xj1VlNyiOZFOZJNluRmg3jmJ6Q/F3lTqZOvC9rGSyczZwjiVF5WjrFDdvWNaZmhOu8IHD9GOi4eSe+TioafnhKh0UF/kZ6Wjpf1MqL+scGZ5yquT8TFTRclNL8ve5GaAxs1LTPEM78k+gMAsikF7U7lF4MBmYM8bno+Rso1qZeu8fazsPao92fqr8/gmp/besZL+o+AQJQghCukKkgSnKKGk/yjFHzvDnqbouHhplS3sTg/PieiWsHX/Ufx592Fs3X8UIpcaJi2rRcDiqcUAQv5lxeKpxSxSYRLMVFFy08uyt4iZIgC9+ya2+p6cprVGEUsFPzWzdcXTPFUcu1ebLBwHPDsqubOFBmT9Yjuqv/oKlXn9IUgSJOH8yZE30Kr66itYv9iueLY7/8JsZGSnhV3ulpnjKXGtFi2yhd1p/ZywHxH1VDEiH8/PLAl4Xzj5vjAd9qnqgX2qkoyvb1CEE9n5exKfpfH1iUKQuQiJ7VHVndal5eMVT3PdkK+BCn3C9PD4FL09bwBv3ok6W2+s6JeD1pTz1yqdnZ2oOnoc5R1fAze9BIy8WfGH91a6C6XirhFJV0Jcq+eE/YgoHNEtof7AMbSdPIO8Pp4lf8xQGQOb/8aIQVUS0tOJbNAMywDjZYq0Ire5brggWevXQOvHp+gc2OxpwQBABNCQnoYjVityRRElZ87C9y6b/ZeE7csM1pMpMycNV01P3p5Maj8nolvCVTX/G7J8tnfvzAdV1/BEmshgGFTFiEFVktLTiWzPTFHhOOCL7cbNHKmp2wluWJFOcLXO1mn9+CSfTrLdbrfkqXznOosMu2d5myXJT97VfE627j+KH7y4LeK438+9AuOH9EvIHIgoMeTGBtxTRdpzi8DBDzwnxAKAoqs8J7xqnkQG2+Oi1YmsxXr+hL9xXdc+myj2BiUzpQqPdH8NtKD145N8YSs6qlfkxWIRMOCinIQ+htGo+ZywHxERMagibTWuA9bfB3zdvZv4U57S4VOfVTdw0NuJbKi9Qd6mxNxfE0gvhUdIdaJb1Kw4gqmKvJhUovezsB8RETGoIu00rgPW3hb8tq+Pe26b/rvkPCGJ2JRY8DQlHj7FWMvCEr2sjf22klLdoTqsqF+B1o7zGUiHzYHq0mpVyngD0Fe2W2WaBrQyqFGRj/2IiIh7qnrgniqVRCwo0KVPAbBgb1KcmPhRam+QnsRS5jzWx9FL4RGDM8I+nbpDdajcVOnXbBY433BWrf5IyUoXAW0Yalbk8z4WEPQ3D6v/ERmU3NiAzX9JG4e2RA6oAODkl56xyUYvTYmV4g10er7m3qWMjeuUe6xQzXXtBQyoorB/VxtefWgL3vrVLrz7UiPe+tUuvPrQFuzf1ab11HxEt4gV9SsCAioAvmM19TUQIzV+pqiIbhE7WnbgyfonsWDTAr+ACgDaOtpQuakSdYfqNJqhh+iWsGR9Y8h8PwAsWd+oWHNebz8iZ5b/Ej9nVjoDKqIkwOV/pI1oggGjBA5KMtPeIC2WMibxUiwlhOrzc/rEWWx4Ya9qvY8iZcoa2hoCTui7kyChpaMFDW0NGOscm/D5JpoeMofBMlM9SZAgQEBNfQ3KCss0WwpYf+BYyBLngOe3T3P7GdQfOKZYRb6KEfm4rtjJfkRESYhBFWkjmmDACIGD0sy0NyhiVlICXIc945Rcyqi3wiMG4XZL2LxmX9gxH6zdh0GjchN6Qh+sz1BGdhqunnG+z9CRjiOy7kvuOD2T83wkWqillsHoIaDVqiKf1SKwbDpREuLyP9KGN2iIpI9BAgelecs0Azi/Ih/+n6tQplkRZlvKaHLN+074nbgHc+r4WTTvO5GwOXgzZT3n4c2UeZcg5tpyZd2f3HF6Jff5SKRwSy3D0TKgZUU+IlITgyrShl/QEMb1NcYIHBLBLHuDzLSUMQmcdoUPqKIdFy25mTK3W0JJXgkcNoevKEVPAgQ4bU6U5JUkYqqqiOb5SKRISy1D0TKg9VbkC5VPFeCpAsiKfESkBAZVpJ3iaZ6S6b2D/EHr3Td5y6l3VzwNmL/XU+Xvppc8H+fvMdbz4stKhjm1sQ9Izoxkd27RU/VxzxuejxoVV8iwpyk6LlrRZMqsFiuqS6sBICCw8n5eVVqlq/Le0dJD5hCIPuOkh4DWahGweGpx13z8eT9fPLWY+52ISBHcU0Xa8hYUOPiB50RSAFB0lWcvjIFPhBRl9L1B3qzk2lnwvMBBig0bZSljonSVmxddX6IhPQ1HrFbkpuWg5NplsF5yo6pTyb8wGxnZaWFP5DNzPEUSEiHaTFl5UTlWTlwZtKx3VWmVLsp6x0PrzKFXNBknPQW03op8PftUORXuU0VExKCKtGexAoO/4/mXzBLdGFdp0czXu5QxaJ+qFcbKvCmtq9x8nS0dKwoL0Jpy/teyY9siVB//BOVXLVJtOhaLgKtnXBi0+p/XVdMvTFiRilgyZeVF5SgrLNN1A9pYaZ059PIutWzraIu4r0pvAS0r8hGRGhhUEemBWo1xlRLLfFnmPFBXufk6Wzoq8/oHnKq2Wa2o/Px/sPJbY1A+cJJq0xoyOg8Vd40IqDaXmZOGq6YnttpcrJkyq8VqirLpPWmdOfTyLrWs3FQJAULQwOq2i29D2QVlugxo9VKRT3RLDO6ITEqQJCmxu1sNRm7XZCLFeBvjBpykdP2h1VtRCqPNV88ObIa4+ruYXFiAVqsVEAJPrgRJgiO9LzZM36j6iapWfZFC9cnyUqtPll7o6fkI1qfKaXPqKjOlVxv2NgcsQ8znMkQi3ZMbGzCo6oFBFanKLQJPjwjTx6mrH9X8PfrI6Bhtvnq35w3s+OtPMSc/cuXDVZNXmTITE0qwvkxqZMr0Sk/Ph+gWTbnUMpE27G3GvNcaQl2KwvMzSxhYRYlZP1KL3NiAy/+I1NZ9L9KpVm0a48ZKq0a+ZpXpwBGrvJNRMzSwjcaQ0XkYNCpXvUyZzvc0qv58hGHWpZaJIrolLFnfGHQnmgRPYLVkfSOuK3YyKJCJWT/SIwZVRPGI9kQs2F4kOfTSGJeNfJVVNAG5aTmyhhq9gW0sLBYBAy6S9/zExSB7GlV7PkhR9QeO+Z389yQBaG4/g/oDx3Sx70vvQmX9WtrPYN5rDcz6kWZM1adq4MCBEATB79+KFSu0nhaZVeM6z1K41d8F3rzT8/HpEZ7jocavnRV9QAXopzEuG/kqy2JFybXL4OjshBBiJbYAaN7vR21ut4TDnx7HZztacPjT44ltbBvq59LV7Dke6ueZZBPdIna07MDb/3obO1p2QNSoB5tW2k6GDqhiGZfMImX9AE/WT0xwM2yiYEyXqXrssccwd+5c3+d9+vTRcDZkWqGKNXhPxHoWa+iq8hZY3CGSrj1KemmM623k62pG8O9FR/PV+XIuL+slN6L6+Ceo/Px/IEgSpG7FKoSu/9dDvx+1BNs7lJGdhqtnJGDvUNify66FWRuqPVUrk+T5V1qwwhYOmwPVpdVJU9gir0+6ouOSGbN+pGemylQBniDK6XT6/mVkZGg9JTKbiCdi8JyIdb8aG3EvUjAqN8Z1i54GzHve8HwMdjXZ28i3+/x8dNTIN9ososbKr1qElRNXIq/HUkCHzYmVE1cmzcmnt8pdz/Lhp0+cxYYX9mL/rjZlHzCaPYIUtbpDdajcVOkXUAFAW0cbKjdVou5QnUYzU1fpoL7Iz0oP+I3pJcCzH6h0UF81p6U40S1h6/6j+PPuw9i6/2hCskXM+pGemS5TtWLFCixduhQXXHABfvjDH2LBggVISQn9bZ49exZnz57/A+5yudSYJhlNvMUlYtljpGZj3Gj2lOi9kW+0WUSdKB84CWUXXJu0VdXcbgmb1+wLO+aDtfswaFSucsUZuEcwYUS3iBX1K4L2s5IgQYCAmvoalBWWmf49brUIWDy1GPNea4AA/99M3nfy4qnFhi5SoVbhCGb9SM9MFVTde++9KCkpQd++fbFlyxYsWrQIzc3NWLlyZcivWb58OZYsWaLiLMlwlCguIXeP0eRlnrFqLleLJQjRayNfgy/n0lNVNbXLFTfvOxG2wS0AnDp+Fs37TihXrIF7BBOmoa0hIEPVnQQJLR0taGhr0M17PpEqRuTj+ZklAYGH0wQV69QsHOHN+rW0nwm1AB1OE2T9yJh0H1RVV1ejpqYm7JhPPvkEw4cPR2Vlpe/YpZdeitTUVNx1111Yvnw50tLSgn7tokWL/L7O5XKhsLBQmcmT8YVsdCtD9xMxuXuRxv1E3ZP9eIIQi1V/ZdNZ8l0RWpQrPu0KH1BFO04WI+0RNBi5LQCSqVVAxYh8XFfs1E1vJSWae6tdLj4Zsn5kXLoPqhYuXIjbb7897JjBgwcHPT5u3Dh0dnbi4MGDuOiii4KOSUtLCxlwUZJTsriEdy/S2lme24P9KdBiL5LZghAu54qbVuWKM+zyfg/LHSeLXn8uTUBuC4BkaxVgtQi6KKCgVEEYLQpHmDnrR8am+6AqNzcXubmx/dLdvXs3LBYL8vLU7TZPJqF0cQk97kUyWxDC5Vxx0bJJaf6F2cjITgu7BDAzx3M1XVF6/LlMICWyE3KU5JXAYXOgraMt6L4qAQIcNkdStQrQC29BmJ68BWEq7hohO7DSqnCE3rJ+RIABgiq5tm7diu3bt6OsrAx9+vTB1q1bsWDBAsycORM5OWyWSDFIRHEJPexF6ll0Qw6jBCFczhUXLcsVWywCrp5xYdCTPa+rpl+YkABAFz+XKlCzXL3VYkV1aTUqN1VCgOAXWAldF5+SqVWAXihdEEbLwhF6yfoReZkmqEpLS8Prr7+ORx99FGfPnsWgQYOwYMECv/1SRFFJVHEJLfciBSu6IVgAyR3iCwwWhHA5V1y0Llc8ZHQeKu4aEXDin5mThqumJ6BPVXd63COoICWzE3KVF5Vj5cSVAX2q7Kl2zLx4JsoKyxR9PIpM6YIwLBxBdJ5pgqqSkhJs27ZN62mQmei1uESsQhXdCBdQAcYLQpJsOZeS9FCueMjoPAwalavKErVkoUm5+i7lReUoKyzDi3texGuNr6H9XDvaz7XjuX88hzf2vWG4JsBqLZ9MFKULwrBwBNF5pgmqiBRnpqyHnKIbPTNWRg5ClFzO1X25pEmXhXnp5aqzxSIoVzadtClX383GLzbi17t/HbC3ytsEOFiDa9Et6q5nm5rLJxMlroIwIX4XsnAEkQeDKqJwzJL1kFN0Q3Jr0ycrUZRYzhVNU2STuHVsIX5VF5jV4FVn49KkXH2XWJoA1x2qC1gy6LA5NM1qabF8MhFiLggT4XchC0cQMagiiswMm9jlFqT4+rhxljMmWixNkQ0sWG+q7njV2bg0KVffJdomwHWH6lC5qTKqrFaiabl8UmkxFYSR+buQhSMo2Vm0ngCRIXizHiNv9nw0WtAht+jG+08BT4/w/BFNZhGbIsPTFNktqjmrhPH2pgoVUC0oH4YPqq5hQGVQ3uxEOAkpV4/omgBHymoBQE19DUSVf+6iWT5pBN6CMD3fE5k5aYEZtyT7XUgUD2aqiJJBxKIb3Zg0ExMVszVFDiNcbyrAs+zv9R1NuOeaoWpOy5S0KnKgZbn6aJoAR5vVUouWyycTRXZBmCT6XUgULwZVRMkgbNGNnrravG6o9ix7jDUrZ+QCD2ZrihyGlr2pzCRSwKR1kQOtytVH0wT4nYPvyLpPudkvpWi5fDKRZBWESaLfhUTxYlBFZARKBCihim4EFefVR6MXeJC7XNIoTZHD0Lo3lRH1rEyXfbgQH/5hf8iASS9FDrQoVx9NE+Boslpqirm4gxkk0e9CongxqCLSOyUDFG/RjY3Lgc1PRR4fy9VHMxR4kNujzChNkcPQQ2+qUPTYE6hnZbpBRy/FpM/mdIUH5+fmDZgmzx2BD/6gnyIHWpSrD9UE2GFzoKq0yld4Ipqslpq0XD6puST6XUgULwZVOiWJIk7X16Njez0AwDZuHDJKx0KwGmT5FCkjEQGKxQoM/o68oCraq48RNzUrsKxQDWbqURaBXnpT9aT1crlgelamEyQBVx78j65bg59Qv//7T/H1qW/C3m8ie0TphbcJcLjeU9FktdSm1fJJzSXR70KieAmSJEXYtZ5cXC4XsrKy0N7eDrvdrs0camvR/MhiuE+c8Dtuyc5G/mNLYJ80SZN5kcrcoqcSX8ilel1XCOfvif4Pmu++I1x9jPa+D2wGVn838rjZfzHGpuagWcIBxupRJoO3+h8Q9JQJz88sUbXyX6jlcl5a9AQS3SImvznZL9NS0D4U0xp/psj9X3dnMYaNdSpyX0YXrE+V0+b0y2ppRY/ZU1Ukye9ComDkxgbMVOmMq7YWh++9L+ht7hMnPLc9+wwDq2SQyKpLibr6aLZNzXJ6lBm5IEeXihH5eH5mSUCfKi16U2neEyjE6xmsMp3tG+UuvBmtyEEiyclqaUWL5ZO6YIZ+jUQJxqBKRyRRROsTyyKOa3liGfpcey2XAppdogOUUIUr7AWxX30046Zmb4+yYIxekKObihH5uK7YifoDx9B28gzy+niW/FlVvgofTU8gxU9uw7yeR9ID/1x29HLJutv0jF44czr0EkDTFjkIRcaFCKvFqmrZdMNS86JOuN+FRMSgSk86dn6EztbIJ8hiays6dn6EjHGlKsyKNKNGgKL01cdk2tRshoIcPVgtguZl0zXrCRTh9cyteDTgS5rt+3Eq9TgyzmX79vz0lJmThitvHop3Xvw45EProchBz4qGCcsMmehChOb4XBLpCoMqHek8Ir/3RjRjyaDUClCUvPqYLJuazVKQQ4c06Qkk4/Us2fLfcBQW+FWmkwQJHw78IyZ9NgcSpKCBlbeIgWARdFvkINgeJofNgerSamX3MJnwQoRmNHwuRbekeUabSI8YVOlISq783hvRjCWDMmqAkohlhXqTyP1uSU6TnkAyXk+r6zCqB/4ElY2/9atMd6DfP/HusJcx4eD3kXnu/HLEngGTFj2i5OhZ0dCrraMNlZsqsXLiSmUCqwRfiEiqAhIaXtTZsLc5YO9lvsJ7LyVR9KzcOXIEKbm5sF0+htsdyBAYVOmI7fIxSHE4Ii4BtDocsF0+RqVZGYjRCwYEm79RAxSzb2o2aEEOI5x4atITSObrVJ5eELTfUkdhK0q+n4Xic6PDPrd6K3IgukWsqF8RtCeUN/NWU1+DssKy+JcCJvBChB7L7yeURhd1vFVCe75bWtrPYN5rDYpUCXXV1qJ12XJ0trT4jqU4nXA8tIgFukj3GFTpiGC1wvGfD4Ws/ufl/M+HeNWmJ6OvLY80fyMGKN5lhW4ROPiBp+GwAKDoKs9xvc8/HAMW5DDSiafqPYGieD3Li67WbWW6aAWraNidBAktHS1oaGuIv2hEgi5EhCq/722+rEX5/YTT4KKO6JawZH1juNwYlqxvxHXFzpiXArpqa3H4vvlAj04/na2tnuPPPM3AinSNQZXO2CdNAp59hn2qomH0dfpy52/EZWSN64D19wFfH+t28Cmgdw4w9Vl9vy7hGKwghxFPPFVdLhfl62mWynQbmzbKGnekQ4E9vAm4EKF5+X2taHBRp/7AMb8lfz1JAJrbz6D+wLGYit1IoojWZcsDAirPjRIgCGhdtpyVj0nXLFpPgALZJ03CsA8/QOHLq9DvJz9Bv5/8BIUvv4xhH37AgKqniGvL4Vlb7hbVnJV8Rp9/OI3rgLW39Qiounx93HNb4zr156UE7343AAgoTqCv/W5yTzzdbv31gfculxs21okBF+Uk7sTYQK+nUkS3iL/86y+yxubaFNjD6w1cQ1RJ9ASuA6K6EBFN+X1TScBzGUnbydABVSzjeurY+ZHfkr8AkoTOlhZ07PwopvsnUgODKp0SrFZkjh+PvPn3IW/+fcgcfwWvzgQTzdpyPTL6/EPxBYsR/K3KmAEjcH6/m73HHgJ7ga6yo0l74hktg7yeSmloa8Dxs8cjjuub3hcleSXxP2ACAlfNyu9rTYOLAHl90hUd15PcisasfEx6xuV/ZGwGLRjgY/T5hxIxWOxy8ktjV8gzwH432SeejVuBi25I8Gx0zgCvp1LkLumbMmiKcvvFFC68o0n5fb1QuYhR6aC+yM9KR0v7mVALZOHM8pRXj4XcisasfEx6xqCKjM2ABQP8GH3+oUQTBBotYOxJyT5fCSD7xPPjF4DvTTZlABEVnb+eSpG7pK/sgjJlH1jBwFWT8vt6ouJFAKtFwOKpxZj3WkOoBh9YPLU45iIVtsvHIMXp9FQ/DravShCQwsrHshihyqtZMagiYzNYwYAAvvlHyOp0HFVnPkqJJgg0WsBoMPkXZiOjD3D6pBvBV3y7kWk5ivxv3jd21pCiUpJXAofN4dfMuCenzanM0r+eFApcNSm/rzcqXgSoGJGP52eWBPSpcirQp0qwWuF4aJGnyp8g+AdWguf1czy0iNsgIjBSlVcz4p4qMjajbzC3WIFJyyOPe+chY+098m2kjqCPjgNek7BYBFx95Ul4fh7cPW51AxBwlX0VLILb+FlDks1qsaK6tBoAIPT43Sl0/a+qtEr3peK95fczsv0zspk5abqsaml0FSPy8UHVNfj93CvwzK2X4fdzr8AHVdco0vjXPmkSBjzzNFIc/hfaUhwODGA59Yi8VV57Zm69VV7372rTaGbJQ5CkYHnW5OVyuZCVlYX29nbY7Xatp0NyBe3zNEDfDXK9DmwGVn838rjZfzFWFsFb/S+c6b/T9+tj9IbSXgc2Y/8Lj2Oz606cdvf3Hc60HMFV9lUYkr7Nc8Bo7zGKW92huoBmxk6bE1WlVSgvKtdwZtHhkifzkETRUw3wyBGk5ObCdvkYZqgicLslrHpgM86e7gw5Jj2jF+546ir+XMRAbmzA5X9kDkbeYG7WYhXF0zxBU0CfKgC9+wJTn9F3QGX0htLdFU3AkLwmDEr7CZrPDcdpdw4yLMeRn/qJJ0Ol92WylDDlReWmaGbsLb9PxidYrcgYV6r1NAzl8GfHwwZUAHDm9Dc4/NlxFA6PrZgIRcagiszDqBvMzVqsAjgf7B78wJOREwAUXeV5nfR80mb0htI9dS2TtaydhQFpjQi6zVzPy2RJNtEtRh0gmaWZMVGy+vLTyO0RvOMYVCUOgyoirRm92EYkFisw+Duef0YQsSGz4GnIPHyKsYIQlUswk/qCLeVz2ByoLq021FI+IoqOJHNFn9xxFBsWqiDSmtGLbZiNWRsyA57Aaf5ez96pm17yfJy/hwGVCdQdqkPlpkq/gAoA2jraULmpEnWH6jSaGREl2rculLf0Ve44ig2DKiI98GYR7D0qKNkLErfUzC16luTtecPz0UjVBRPJrHvcvLzLZEferP9lmCSL6Baxon5F0NLo3mM19TUQ+TNOZEoFF+UgzRZ+8Vl6RgoKuO8wobj8j0gv1Cy2YaYiDEoz8x43MqWGtoaADFV3EiS0dLSgoa2Be6eITMhiEVB22/CwPdsmzhzOyn8JxkwVkZ6okUXwFmHoucTNW4ShcZ3yj2kkvh5bof74CJ5y/Ubd40amc6TjiKLjiMh4vD3bbFmpfsczslPZs00lzFQRJROzFmFQkneP29pZ8ARWrJSXCLFUqaPgcm25io4jImMaMjoPg0blsmebRhhUESWTaIowGLE8vVJYKS+hWKVOWSV5JXDYHGjraAu6r0qAAIfNgZK8Eg1mR0RqYs827TCoIkomZi/CoCQjN5TWsbpDdViwaUHAcW+VupUTVzKwipLVYkV1aTUqN1VCgOAXWAld2dWq0ipmAomIEoh7qoiSCYswRIeV8hQlukU8uuXRoLexSl18yovKsXLiSuTZ/PdNOGwOBqpaYpVVoqTBTBVRMjF7o2HStRf3vIj2c+0hb2eVuviUF5WjrLCMe9X0glVWiZIKgyqiZMIiDCSXW1R06aPoFvFa42uyxrJKXeysFisDUj3wVlntefHKW2U1Uf0HiUgzDKqIkg2LMFAkCbjC3tDWEDZL1R2r1JGhscoqUVJiUEWUjFiEgUJJ0BV2udmnrNQsWVXqzFKS3SzfB3XDKqtESYlBFVGy8hZhIPJK4BV2udmnmRfPjBhUxFKSXY/BC0vLmxSrrBIlJVb/IyIij2iusEfJ20vJW+I7mOy0bMy9dG7Y+6k7VIfKTZV+gQhwviR73aG6oF8z+c3JmPPOHFRtrsKcd+Zg8puTg45VSyzfBxkEq6wSJSUGVURE5JHAK+zeXkoAggZWAgQsHr84bPZIdItYUb8iaIPbUCXZ9Ri8xPJ9kIF4q6yGvIAgAPYBrLJKZDIMqoiIyCPBV9hD9VJy2pyyeik1tDUEBEfddS/JDug3eIn2+zAE9mM6z1tlFUBgYMUqq0RmxT1VFDe3W0LzvhM47TqLDHsa8i/MhsUSeokPUXeSKKJj50foPHIEKbm5sF0+BoKVJxuaUKGPWTy9lOQWu/COiyZ4UbMMebTfh+6xH1MgVlklSjoMqigu+3e1YfOafTh94qzvWEZ2Gq6ecSGGjM4L85VEgKu2Fq3LlqOzpcV3LMXphOOhRbBPmqThzJKUSn3MYu2lJLfYhXecXoOXaL8PXWM/ptBYZZUoqXD5H8Vs/642bHhhr19ABQCnT5zFhhf2Yv+uNo1mRkbgqq3F4fvm+wVUANDZ2orD982Hq7ZWo5klOe8Vdnu+/3F7geYnyJGKXQgQ4LQ5fSXZ9Rq8RPt96FbEapHwVItM9qWAg64GRt7s+ciAisi0GFRRTNxuCZvX7As75oO1++B2B/tjS8lOEkW0LlsOSEHeH13HWpcthyQm8cmYloqnAfP3ArP/Atz0kufj/D2aZxzCFbvwfl5VWuVbSqjX4CXa70O3ElgtkojIaBhUUUya950IyFD1dOr4WTTvO6HOhNTEDdlx69j5UUCGyo8kobOlBR07P1JvUuRPp1fYQxW7cNgcAcUuogleRLeErfuP4s+7D2Pr/qMQE3xBKJrvQ7fYj4mIyId7qigmp13hA6poxxkGN2QrovOIvD0scsdRcomm2IU3eAnWZLeqtArlReXYsLcZS9Y3orn9jO/2/Kx0LJ5ajIoR+QH3qcX3oUvsx0RE5MOgimKSYU9TdJwhcEO2YlJy5e1hkTuOkk80xS7CBS8b9jZj3msNAbuCWtrPYN5rDXh+ZklCA6tYi3boggrVImPmFlkggohUxaCKYpJ/YTYystPCLgHMzPGUV1dFov+ARtyQLXg2ZA+fwj/cMtguH4MUpxOdra3B91UJAlIcDtguH6P+5GLBEzjdCxa8iG4JS9Y3hvupxpL1jbiu2Akr20QEUqlaZNS4oiAo0S2h/sAxtJ08g7w+6Sgd1JfvayIFMaiimFgsAq6ecSE2vLA35Jirpl+oTr8qNf6ARrMhe9DVyjymiQlWKxwPLcLh++YDguAfWAme94zjoUXG6Fe19y3g7Uqg4+j5YzyBM4T6A8f8lvz1JAFobj+D+gPHMH5IP/UmFgXRLWq7fFBv/ZhkrChwD5+adL0VN+xtxmPrGmE9eg4ZkoDTggSxXyoemZbYJa5EyYRBFcVsyOg8VNw1IqBPVWZOGq6arlKfKrWW5HFDtuLskyYBzzwd2KfK4TBOn6rah4EtzwYed33JJaEG0HYydEAVyzi11R2qC7pXrLq0Wt1CF3rpxyRjRcH+P/wem7/ui9MnzvluMXtvxQ17m7Fy1W5M/boX7NL5JfknO9xYuWo3MAcMrIgUwKCK4jJkdB4GjcrV5qpfNEvyAM8f/JPNwOkjQEYu0Cdf/h9+bshOCPukSehz7bWeaoBHjiAlNxe2y8cYI0P18VvBAyofiUtCdS6vT7qi49RUd6gOlZsqIfX4/dfW0YbKTZXqVxD0VovUUoQVBfvPjMOGEz8GcM7vuLe3YsVdI0wXWIluCavWNGJaR2rAbZmSgGkdqVi1hktciZTAoIriZrEIGHBRjvoPLHdJ3vu/ABpeCT5W7jItPW/INjjBakXGuFKtpxEdtwj8dWHkcVwSqmulg/oiPysdLe1nQv1Uw5nl2XuiJ6JbxIr6FQEBFQBIkCBAQE19DcoKy4xTSVAJYVYKuCULNrvuDPvlH6zdh0Gjck21FHD7/qMY/ZXnImOwtgISJIz+SsL2/Ucx4cL+2kySyCTYp4qMS+5Su03LQgdf3mVajevC34d3QzYABDQS1XBDtklIoojT2+vR/pe/4vT2ev03/T20Bej4St5YLgnVLatFwOKpxQBC/lRj8dRi3V3Bb2hr8Fvy15MECS0dLWhoa1BxVjoQZqVA87mLcdrdH4Gv9Hlm7K34xWfHYZcsYRtg2yULvvjsuMozIzIfBlVkXIottetaphWpia93Q7a9x9pzewH3zsTBVVuLz68tR9Ps2fjy/vvRNHs2Pr+2HK7aWq2nFlo0gRKXhOpaxYh8PD+zBM4s/yV+zqz0hJdTj9WRDnn92+SOMw3vioIgAcRpt7zVFGbrrZgpybsgIHccEYXG5X9kXBGX5EVB7jItvWzINglXba2nAmCPsuqdra2e4888rc+CFXIDJVt/Lgk1gIoR+biu2GmYctO5Nnn92+SOM40wJd4zLCdk3YWpeisCGDm0Lw6iSdY4IooPM1VkXHKW5EVDbvbBuyF75M2ejwyoYiKJIlqXLQ/ep6rrWOuy5fpcCui7Ih7BDb/U9P0hukXsaNmBt//1Nna07IAYKRubxKwWAeOH9MP3LhuA8UP66TagAoCSvBI4bI6wS7qcNidK8kpUnpkOhFhRkN//BDIy3WG/VNXeiir51rAcWDNTgu6/AzxLRa2ZKfjWMA32RROZDDNVZGzheqSUzPbsp5Lr6H7l50chdez8yK+UegBJQmdLCzp2fqS/QhZ+V8RDZEkn3AuMuFHNWfkJVW77wbEPIic9R7u+RhQ3q8WK6tJqVG6q9BUb8PIGWlWlVcn7ugZZUWApmoCr/3FUH70VVWSxCLjuR8Ox4YW9viImXt7Pr/vRcNN930RaECQp2GXi5OVyuZCVlYX29nbY7Xatp0NyucXAJXkA8PSI6JYHTv8d90appP0vf8WX998fcVzBL36BrO9OUWFGMQjWeNrWH5jyS+CSGzWbVqhy28Fo0teIFBEscHbanKgqreLrGcL+XW3a9lbUSLDvOyMnDVeb/PsmUoLc2IBBVQ8MqkwmVHPgoLrKos/fwyV9Kji9vR5Ns2dHHHfB6tX6y1R1Fyyg13jJ3+Q3J4etDted98q16n2NKGaiW0RDWwOOdBxBv979IEkSjp05xsyjTG63pE1vRY0l6/dNFC+5sQGX/5G5hVoeGJTEvkIqsl0+BilOJzpbW4PvqxIEpDgcsF0+Rv3JRUMPTU+7iVRuu6ek7mtkQKGWdVaXVmOsc6yGMzMOzXoraixZv28itbBQBZlf8TRg/l7g2w/IG8++QqoQrFY4HlrU9UmPq6VdnzseWgTBypP8aMRSRjtp+xoZjHdZZ8+gua2jDZWbKlF3qE6jmREREYMqSg4WKzDoO/LGsq+QauyTJmHAM08jxeH/nKc4HBig13LqOhdPGe2k62tkIKJbxIr6FUH3yXmP1dTXsMIjEZFGuPyPkkfEvlZde6rYV0hV9kmT0Ofaaz3VAI8cQUpuLmyXj2GGKkbectttHW2yClV0p1Rfo+57frjPRxmRlnV6s407W3fCIlj43BMRqYxBFZlLuKIBYRpD+vpaVaxgkQoNCFarvotRGEi4ctuhCBDgsDkU6WsUbs8PC2HETm4WceGmhWg/1+77nM89EZE6uPyPzKNxnaeE+urvAm/e6fn49AjPca8QjSFhL/AcZzl1MoHyonKsnLgSebbIpZKV7GvEPT+JIzeL2D2gAvjcExGphSXVe2BJdYMKWTq9KwPVM2DSWRlsokTouQzv+JnjeHLHkwnpaxSplLs3G7bhpg1cjhYD7/Mby7JOPvdERLFjSXVKHm7RUzI96ImGBEAANlQDw6f4LwXUURlsokSwWqwBZbavveDahOx3krvnp6GtgaW/YxDLsk4vPvdERInH5X9kfIe2ROhB1a3/FFGS8wZaNwy+AWOdYxXLXMjd8xNLhUHRLWJHyw68/a+3saNlR9JWuAu1rDMrNUvW17O6IxFR4jBTRcYnt68U+08RJYzcPT/RVhiMpvBFMlQdLC8qR1lhmd/3KbpFzH13bsSvVaq6IxERBWJQRcYnt69Usvaf4v4xUkGkUu6xVBj0Fr7oeX/e4gsrJ670BVbJVHWw57JO0S0q/twTEVF0uPyPjM/bf8pblCKAANgHJGf/KTkVEYkU4N3zA5yvKOgVS4XBaJrdsuogcPOFN4cMqABlqjsSEVFoDKrI+Lz9pwAEBlZJ3H/KWxGx534zV7PnOAMrUlioPT8Om8MvqySH3MIXO1p2yA6+zKjuUB0mvzkZz/3juaC3x/LcExFR9Lj8j8zB239qQ5V/EGEv8ARUydZ/KpaKiDomiSI6dn6EziNHkJKbC9vlYyBY9T9vPVD7uQu25yeWvU1yiyrsaN2RtFUHQy2P9Lr7srsxd+RcZqiIiFTAoIrMo3iaJ0jg/qHoKiLqvLS8q7YWrcuWo7OlxXcsxemE46FFsE+apOHM9E+r5y5YKfdoyS6qILOyuNkq34VbHgl4lv29+dmbmDsycgELIiKKH5f/kbl4+0+NvNnzMRkDKsA0FRFdtbU4fN98v6AAADpbW3H4vvlw1dZqNDP9M/pz5y180XN/lpcAAU6bE6X5pbLuL9bKd3ot5x5NXzAiIko8BlVEZuMW5QdLOq6IKIkiWpctB6QgV+K7jrUuWw5J1MdJrp6Y4bmTW/jicsflsoKvWCrfefcrzXlnDqo2V2HOO3Mw+c3Juih8kci+YEREFD0GVURm4RaBTTXAU0OAdx6KMFj/FRE7dn4UkGXxI0nobGlBx86P1JuUQZjluZNT+ELpqoNeeq8omKi+YEREFBvuqSIyg8Z1wPp7ga+PyxhsjIqInUfkXWH/prUVp7fXs4hFN3KfO7njtCSn8IU3+ArWp6qqtCrqyneRyrkLEFBTX4OywjLNikAkoi8YERHFjkEVkdE1rgPW3iZ/vEEqIqbkyrvC3rZ8OcTj54NJa04OnIsfgb2iIlFT0z25z53ccVqTU/hCqaqDQHT7lbSqKOjN0FVuqoQAwS+wYm8qIiL1cfkfkZH5SqfLNHkZMH+P7gMqALBdPgYpTicghGrq7NE9oPJ+fnj+ArQ+9VQip6drEZ87QUCK0wnb5WPUnViCeYOvGwbfgLHOsTEHFEbZr6RkXzAiIooPM1VEieAW1SntHrF0eg+ZDl0v+etOsFrheGgRDt833xMcBCu6EMaxl1YhfeRIZCVhxirsc9cVaDkeWpT0yyRDMdJ+JSUzdEREFDtmqoiU1rgOeHoEsPq7wJt3ej4+PcJzXGnRlkTXcbW/YOyTJmHAM08jxeE/b0tOjqyvb1nymK4r3CVSqOcuxeHAgGeeZo+vMOSWc9fLfiWlMnRERBQ7QZKivPxrci6XC1lZWWhvb4fdbtd6OmQ0jeuAtbMQ2JG06+Rs+qvKLr07sNkTtMlhH+BZ+mfAEy5JFD0V7bqKUXS2tuLLBx+U9bUXrF6NjHHyehmZUc/njoU8QhPdoi/j0+RqwnP/eC7kfiUurwvU/fljxoyIzEJubMDlf0RK8e1vCnadQgIgABuqgeFTlAtsiiZ4Ck+4mkM8rpeg+2p/4QhWq19gdHp7veyvNUKFu0Tq+dxRcLUHa/H4tsdx/Oz5PXpZaVmABLSfa/cdi7WioNnVHaoLWn2xurSazxURJQXDLP974oknMGHCBNhsNmRnZwcd09TUhClTpsBmsyEvLw8PPPAAOjs71Z0oJa+I+5skwHXYM04pFitQUdP1SYiiBL37Kp8h05jt8jGwylwCaJQKd6SdlTtXYuHfF/oFVADQfrYdrnMu3H3Z3ai5ugarJq/Chps2yAoSRLeIHS078Pa/3saOlh0Q3eZdhqr3nl5ERGowTKbq3LlzuOWWWzB+/Hi89NJLAbeLoogpU6bA6XRiy5YtaG5uxqxZs9CrVy8sW7ZMgxlT0pG7vynafVCRFE/zBE0bqvyDut45wLh5wLfvN2yGKhTBaoVz8SM4PH9B2HFmrHBHyqo9WIuXP3455O0SJLz52ZvYcNMG2UvZkilrY4SeXkREajBMpmrJkiVYsGABRo4cGfT22tpaNDY24rXXXsNll12G66+/HkuXLsVzzz2Hc+fOqTxbSkpyi0AkolhE8TRg/l5g9l+Am17yfHxgPzCxynQBlZe9ogJ975wTeoAgsMIdhSW6RTy+7fGI47w9qeRItqxNND29iIjMzDBBVSRbt27FyJEj4ehW6Wry5MlwuVz4+OOPQ37d2bNn4XK5/P4RxcS7vynUMjwInmIRRRMS8/gWKzDoamDkzZ6PJg2munM88AAKnv5VQDXAFKeTFe4oooa2hoAlf6HI6UkVKWsDADX1NaZaCmiUnl5ERIlmmOV/kbS0tPgFVAB8n7e0tIT8uuXLl2PJkiUJnRslCe/+prWz4Amsup9YdQVaBi4WoVdZFRWwX3cdK9xR1KI50ZfTkyqarM1Y51jZj61nRurpRUSUSJpmqqqrqyEIQth///d//5fQOSxatAjt7e2+f1988UVCH49Mzru/yZ7vf9xeYLpiEXrirXCX9d0pyBhXyoCKZJF7op+TliOrJ1UyZm1i6emVTEU8iCh5aJqpWrhwIW6//fawYwYPHizrvpxOJ+rr/csst7a2+m4LJS0tDWlpabIeg0iW4mmesumHtniKUmQ6PEv+mKEi0hVvQBAuuwQAP7/i57KKLCRj1sZqsaK6tBqVmypD9vSqKq3yPX/JVMSDiJKLppmq3NxcDB8+POy/1NRUWfc1fvx47NmzB21tbb5j7777Lux2O4qLixP1LRAFl4T7m4iMxhsQhMqyAMAdl9yBSQPl7c2LJWtjBuVF5Vg5cSXybHl+xx02h1+T5GQr4kFEyUWQJClcx1DdaGpqwrFjx7Bu3To89dRT2Lx5MwBg6NChyMzMhCiKuOyyy1BQUIAnn3wSLS0tuO222/DjH/84qpLqcrsmExGROQTLnvRN74v/HPefsgOq7vdVuakSAIJmbboHGWYjukU0tDXgSMcR5NpyUZJX4stQiW4Rk9+cHDIrKECAw+aIqnQ9EZEa5MYGhgmqbr/9dqxevTrg+MaNGzFx4kQAwKFDhzBv3jxs2rQJGRkZmD17NlasWIGUFPmrHBlUEREln2ABAYCQQUI4wYI0p82JqtIq0wZUkexo2YE574RpgdBl1eRVpiniQUTmYLqgSi0MqoiItBcu66GGePf+aD1/vXn7X2+janNVxHE1V9fghsE3qDAjIiJ55MYGpimpTkRE5qB1MQPvEr6e/aa8e3/kLOGzWqzMuHSTjEU8iCi5mKb5LxERGZ/WxQySsYGvGpK1iAcRJQ8GVURyuUXgwGZgzxuejzypIiXx/aWLgCaaBr4kn7fSIoCAwCpY6fVkJ7pFbP/3dvx/a97BH1ZtRsO7h9DZ6dZ6WkQUBpf/EcnRuA7YUAW4vjx/zF4AVNSwoS/Fj+8vANEFNIlaWpeMDXzV4i29HmxpZzIX8eip7lAd1v/PdgxtGgcLegH4Bm31+7H1j5/jsvILcOVNF2o9RSIKgkEVUSSN64C1s4CeV89dzZ7j019NqhNfUhjfXz56CGi49yexyovKUVZYxiIeIdQdqsOaVzZiVPM1AbdJErD73SYAYGBFpENc/kcUjlv0ZBCCLEfyHdtQnZRLtUgBfH/50UNAw70/iect4nHD4Bsw1jmWAVUX0S1ixbYncWlzGYDgyyQlAP+o+4JLAYl0iEEVUTiHtvgvyQogAa7DnnFE0eL7y48eAhru/SGtNLQ1IO9fw2CBJezPgCQBezf9W+XZEVEkDKqIwjkVen9HTOOIuuP7y49eAhrv3p88W57fcYfNIaucOlEsjnQcgf1sf1lj27/6OsGzIaJocU8VUTiZDmXHEXXH91cAvRQz4N4fUluuLReutK9kjc3q3zvBsyGiaDGoIgqnaIKnCpurGcH3vQie24smqD0zMgO+v4LSS0DDBr6kppK8ErQN/k+4D7khdP2vJwkSLIKAERO/pcEMiSgcLv8jCsdi9ZS1BoCAP3Bdn1es8IwjihbfXyGxmAElG6vFiuorHsQ/8zcCQEC/NgkSBACjyguRksLTNyK94U8lUSTF0zxlre35/sftBUlV7poShO8vIupSXlSOGbeXYd8F2wKCKkEALruOfaqI9EqQJCnYmpOk5XK5kJWVhfb2dtjtdq2nQ3riFj1V2E61eva4FE1IygwCJQjfX0TURXSL2PnlTuz/8AR6nbZhSOEFuLSMGSoiLciNDRhU9cCgioiIiIiIAPmxAS95EBERERERxYFBFRERERERURwYVBEREREREcWBQRUREREREVEcGFQRERERERHFgUEVERERERFRHBhUERERERERxSFF6wkQUfKQRBEdOz9C55EjSMnNhe3yMRCsbHBLRERExsagiohU4aqtReuy5ehsafEdS3E64XhoEeyTJmk4MyIiIqL4cPkfESWcq7YWh++b7xdQAUBnaysO3zcfrtpajWZGREREFD8GVUSUUJIoonXZckCSgtzoOda6bDkkUVR5ZkRERETKYFBFRAnVsfOjgAyVH0lCZ0sLOnZ+pN6kiIiIiBTEoIqIEqrzyBFFxxERERHpDQtVEFFCpeTmyhvXvy9wYDNwqhXIdABFEwALKwMSERGR/jGoIqKEsl0+BilOJzpbW4PvqxIEpPS1w/bBHODUl+eP2wuAihqgeJp6kyUiIiKKAZf/EVFCCVYrHA8t6vpE6HGjAEgSHMMPQugeUAGAqxlYOwtoXKfORImIiIhixKCKiBLOPmkSBjzzNFIcDr/jKQ4HBlwH2Au/DvJVXVmtDdWAm5UBidRyrvMcftf4Oyzbtgy/a/wdznWe03pKRES6J0hSsPU4ycvlciErKwvt7e2w2+1aT4fIVCRR9FQDPHIEKbm5sPX7GsJrMpb3zf4LMOjqxE8wSYhuCfUHjqHt5Bnk9UlH6aC+sFqEyF9Iprdy50qsblwNt+T2HbMIFswuno3Kyys1nBkRkTbkxgbcU0VEqhGsVmSMKz1/YM8b8r7wVGtiJpSENuxtxpL1jWhuP+M7lp+VjsVTi1ExIl/DmSWW6BbR0NaAIx1HkGvLRUleCawshOJn5c6VePnjlwOOuyW37zgDKyKi4BhUEZF2Mh2Rx0QzjsLasLcZ815rQM/lCS3tZzDvtQY8P7PElIFV3aE6rKhfgdaO88G5w+ZAdWk1yovKNZyZfpzrPIfVjavDjlnduBr3XHYPUlNSVZoVEZFxcE8VEWmnaIKnyh9CLT0TAPsAzziKi+iWsGR9Y0BABfh2r2HJ+kaIbnOtCK87VIfKTZV+ARUAtHW0oXJTJeoO1Wk0M31Z89kavyV/wbglN9Z8tkalGRERGQuDKiLSjsXqKZsOIDCw6vq8YgX7VSmg/sAxvyV/PUkAmtvPoP7AMfUmlWCiW8SK+hWQgoSS3mM19TUQWQgFX7i+UHQcEVGyYVBFRNoqngZMfxWw91h2Zi/wHGefKkW0nQwdUMUyzgga2hoCMlTdSZDQ0tGChrYGFWelT4X2QkXHERElG+6pIiLtFU8Dhk8BDm3xFKXIdHiW/DFDpZi8PumKjjOCIx1HFB1nZjOGzcAvdv4i7BJAi2DBjGEzVJwVEZFxMFNFRPpgsXrKpo+82fORAZWiSgf1RX5Werjda8jP8pRXN4tcW66i48wsNSUVs4tnhx0zu3g2i1QQEYXAoIqIKAlYLQIWTy0GEHL3GhZPLTZVv6qSvBI4bA4IIUJJAQKcNidK8koUeTy3W8LhT4/jsx0tOPzpcbgNVvSj8vJK3HHJHbAI/qcGFsGCOy65g+XUiYjCYPPfHtj8l4jMLNn6VHmr/wHwK1jhDbRWTlypSFn1/bvasHnNPpw+cdZ3LCM7DVfPuBBDRufFff9qOtd5Dms+W4MvXF+g0F6IGcNmMENFRElLbmzAoKoHBlVEZHaiW0L9gWNoO3kGeX08S/7MlKHqKVifKqfNiarSKsUCqg0v7A15e8VdIwwXWBERkYfc2ICFKoiIkozVImD8kH5aT0M15UXlKCssQ0NbA450HEGuLRcleSWwKrBvz+2WsHnNvrBjPli7D4NG5cJi4sCViCjZMagiouTiFlllMAlZLVaMdY5V/H6b953wW/IXzKnjZ9G87wQGXJSj+OMTEZE+MKgiouTRuA7YUAW4vjx/zF7gaUDMflgUg9Ou8AFVtOOIiMiYWP2PiJJD4zpg7Sz/gAoAXM2e443rtJkXGVqGPU3RcUREZEwMqojI/NyiJ0OFYHV5uo5tqPaMI4pC/oXZyMgOHzBl5qQh/8JsdSZERESaYFBFROZ3aEtghsqPBLgOe8YRRcFiEXD1jAvDjrlq+oUsUkFEZHIMqojI/E61Rh4TzTiiboaMzkPFXSMCMlaZOWksp05ElCRYqIKIzC/Toew40ozoFhNSGj1eQ0bnYdCoXE81QNdZZNg9S/6YoSIiSg4MqojIlPxOvtP7osReAKurGcH3VQmeKoBFE9SeJkUhWBNfh82B6tJqRZr4xstiEVg2nYgoSTGoIiLTCXry7eyL6s4TKO/4Gv6BVVcmoWIF+1XpWN2hOlRuqoTUIyhu62hD5aZKrJy4UheBFRERJSfuqSIiU/GefHcPqACg7ZuTqHT0R13/Av8vsBcA019lnyodE90iVtSvCAioAPiO1dTXQGT1RiIi0ggzVURkGqJbxKNbHw158i1AQI2jAGU3PA/r6SOePVRFE5ih0rmGtoaAILk7CRJaOlrQ0NaAsc6xKs6MiIjIg0EVEZnGi/98Ee1n20Pe7jn5bkWDzYaxg29WcWYUjyMdRxQdR0REpDQu/yMiUxDdIn73ye9kjeXJt7Hk2nIVHUdERKQ0BlVEZAoNbQ1wnXPJGsuTb2MpySuBw+aAgODlyQUIcNqcKMkrUXlmREREHgyqiMgU5GafstKyePJtMFaLFdWl1QAQEFh5P68qrdJFvyoiIkpODKqIyBTkZp9mXjyTJ98GVF5UjpUTVyLPlud33GFzsJw6ERFpjoUqiMgUvEvE2jraglb/A4Ds1GzMHTlX5ZmRUsqLylFWWHa+qbMtFyV5JQySiYhIcwyqiMgUvEvEKjdVQoAQNLBaPGExT8ANzmqxsmw6ERHpDpf/EZFphFoi5rQ58auJv+ISMSIiIkoIZqqIyFSScomYWwQObQFOtbKhMRERkQYYVBGR6STVErHGdcCGKsD15flj9gKgogYonqbdvIiIiJIIl/8RERlV4zpg7Sz/gAoAXM2e443rtJkXERFRkmFQRURkRG7Rk6EKWumw69iGas84I3GLwIHNwJ43PB+NNn8iIkpKXP5HRGREh7YEZqj8SIDrsGfcoKtVm1ZcPn4L+OtCoOOr88e4lJGIiAyAmSoiIiM61arsOK3VPgz8YbZ/QAV4AkcuZSQiIp1jUEVEZESZDmXHaWnvW8CWZ8MMkIy5lJGIiJIGgyoiIiMqmuBZGgchxAABsA/wjNMztwi8XRl5nHcpIxERkQ4xqCIiMiKL1bPXCEBgYNX1ecUK/ferOrQF6Dgqb6xRljISEVHSYVBFRGRUxdOA6a8C9nz/4/YCz3EjFHeIJlAywlJGIiJKSqz+R0RkZMXTgOFTPBmfU62ewKNogv4zVF5yAyVbf/0vZSQioqTFoIqIyOgsVuOUTe/JuzcsbHl4AFN+aZxAkYiIkg6X/xERkXZ8e8NCFdwAMOFe4JIb1ZoRERFR1BhUERGRtnx7wwr8j9v6AzevBiYt1WZeREREMnH5HxERac/oe8OIiCipMagiIiJ9MPLeMCIiSmpc/kdERERERBQHBlVERERERERxYFBFREREREQUBwZVREREREREcWBQRUREREREFAcGVURERERERHFgUEVERERERBQHBlVERERERERxYFBFREREREQUB8MEVU888QQmTJgAm82G7OzsoGMEQQj49/rrr6s7USIiIiIiSiopWk9ArnPnzuGWW27B+PHj8dJLL4Uc9/LLL6OiosL3eagAjIiIiIiISAmGCaqWLFkCAHjllVfCjsvOzobT6VRhRkRERERERAZa/ifX3Xffjf79+6O0tBSrVq2CJElhx589exYul8vvHxERERERkVyGyVTJ8dhjj+Gaa66BzWZDbW0tfvrTn+LUqVO49957Q37N8uXLfVkwIiIiIiKiaAlSpFROAlVXV6OmpibsmE8++QTDhw/3ff7KK69g/vz5OHHiRMT7f+SRR/Dyyy/jiy++CDnm7NmzOHv2rO9zl8uFwsJCtLe3w263R/4miIiIiIjIlFwuF7KysiLGBppmqhYuXIjbb7897JjBgwfHfP/jxo3D0qVLcfbsWaSlpQUdk5aWFvI2IiIiIiKiSDQNqnJzc5Gbm5uw+9+9ezdycnIYNBERERERUcIYZk9VU1MTjh07hqamJoiiiN27dwMAhg4diszMTKxfvx6tra244oorkJ6ejnfffRfLli3D/fffr+3EiYiIiIjI1AwTVD3yyCNYvXq17/PRo0cDADZu3IiJEyeiV69eeO6557BgwQJIkoShQ4di5cqVmDt3rlZTJiIiIiKiJKBpoQo9krsZjYiIiIiIzM0QhSr0yBtjsl8VEREREVFy88YEkfJQDKp6OHnyJACgsLBQ45kQEREREZEenDx5EllZWSFv5/K/HtxuN7788kv06dMHgiBE/fXePldffPEFlw+aBF9T8+Fraj58Tc2Hr6n58DU1n2R4TSVJwsmTJ1FQUACLxRJyHDNVPVgsFnzrW9+K+37sdrtp31zJiq+p+fA1NR++pubD19R8+Jqaj9lf03AZKq/Q4RYRERERERFFxKCKiIiIiIgoDgyqFJaWlobFixcjLS1N66mQQviamg9fU/Pha2o+fE3Nh6+p+fA1PY+FKoiIiIiIiOLATBUREREREVEcGFQRERERERHFgUEVERERERFRHBhUERERERERxYFBlYKeeOIJTJgwATabDdnZ2UHHCIIQ8O/1119Xd6Ikm5zXtKmpCVOmTIHNZkNeXh4eeOABdHZ2qjtRitnAgQMDfiZXrFih9bQoCs899xwGDhyI9PR0jBs3DvX19VpPieLw6KOPBvxMDh8+XOtpkUzvv/8+pk6dioKCAgiCgLfeesvvdkmS8MgjjyA/Px+9e/dGeXk59u3bp81kSZZIr+ntt98e8DNbUVGhzWQ1xKBKQefOncMtt9yCefPmhR338ssvo7m52ffvxhtvVGeCFLVIr6koipgyZQrOnTuHLVu2YPXq1XjllVfwyCOPqDxTisdjjz3m9zP5s5/9TOspkUxr1qxBZWUlFi9ejIaGBowaNQqTJ09GW1ub1lOjOFxyySV+P5MffPCB1lMimU6fPo1Ro0bhueeeC3r7k08+iWeffRa/+c1vsH37dmRkZGDy5Mk4c+aMyjMluSK9pgBQUVHh9zP7+9//XsUZ6kOK1hMwkyVLlgAAXnnllbDjsrOz4XQ6VZgRxSvSa1pbW4vGxkbU1dXB4XDgsssuw9KlS1FVVYVHH30UqampKs6WYtWnTx/+TBrUypUrMXfuXNxxxx0AgN/85jf461//ilWrVqG6ulrj2VGsUlJS+DNpUNdffz2uv/76oLdJkoSnn34aP//5z/G9730PAPDqq6/C4XDgrbfewq233qrmVEmmcK+pV1paWtL/zDJTpYG7774b/fv3R2lpKVatWgW2CjOurVu3YuTIkXA4HL5jkydPhsvlwscff6zhzCgaK1asQL9+/TB69Gg89dRTXL5pEOfOncNHH32E8vJy3zGLxYLy8nJs3bpVw5lRvPbt24eCggIMHjwYP/rRj9DU1KT1lEgBBw4cQEtLi9/PbFZWFsaNG8efWYPbtGkT8vLycNFFF2HevHk4evSo1lNSHTNVKnvsscdwzTXXwGazoba2Fj/96U9x6tQp3HvvvVpPjWLQ0tLiF1AB8H3e0tKixZQoSvfeey9KSkrQt29fbNmyBYsWLUJzczNWrlyp9dQogq+++gqiKAb9Gfy///s/jWZF8Ro3bhxeeeUVXHTRRWhubsaSJUtw9dVXY+/evejTp4/W06M4eP8uBvuZ5d9M46qoqMB//Md/YNCgQdi/fz8eeughXH/99di6dSusVqvW01MNg6oIqqurUVNTE3bMJ598InsT7cMPP+z779GjR+P06dN46qmnGFSpSOnXlPQnmte4srLSd+zSSy9Famoq7rrrLixfvhxpaWmJnioR9dB9mdGll16KcePGoaioCGvXrsWdd96p4cyIKJjuyzZHjhyJSy+9FEOGDMGmTZtw7bXXajgzdTGoimDhwoW4/fbbw44ZPHhwzPc/btw4LF26FGfPnuUJnEqUfE2dTmdApbHW1lbfbaSNeF7jcePGobOzEwcPHsRFF12UgNmRUvr37w+r1er7mfNqbW3lz5+JZGdnY9iwYfj888+1ngrFyftz2draivz8fN/x1tZWXHbZZRrNipQ2ePBg9O/fH59//jmDKjovNzcXubm5Cbv/3bt3IycnhwGVipR8TcePH48nnngCbW1tyMvLAwC8++67sNvtKC4uVuQxKHrxvMa7d++GxWLxvZ6kX6mpqRgzZgzee+89XxVVt9uN9957D/fcc4+2kyPFnDp1Cvv378dtt92m9VQoToMGDYLT6cR7773nC6JcLhe2b98esXIyGce///1vHD161C9wTgYMqhTU1NSEY8eOoampCaIoYvfu3QCAoUOHIjMzE+vXr0drayuuuOIKpKen491338WyZctw//33aztxCinSazpp0iQUFxfjtttuw5NPPomWlhb8/Oc/x913381A2QC2bt2K7du3o6ysDH369MHWrVuxYMECzJw5Ezk5OVpPj2SorKzE7Nmzcfnll6O0tBRPP/00Tp8+7asGSMZz//33Y+rUqSgqKsKXX36JxYsXw2q14gc/+IHWUyMZTp065ZdVPHDgAHbv3o2+ffviggsuwPz58/H444/jwgsvxKBBg/Dwww+joKCA7WV0LNxr2rdvXyxZsgQ33XQTnE4n9u/fjwcffBBDhw7F5MmTNZy1BiRSzOzZsyUAAf82btwoSZIk/e1vf5Muu+wyKTMzU8rIyJBGjRol/eY3v5FEUdR24hRSpNdUkiTp4MGD0vXXXy/17t1b6t+/v7Rw4ULpm2++0W7SJNtHH30kjRs3TsrKypLS09Oliy++WFq2bJl05swZradGUfiv//ov6YILLpBSgxMQYwAACdVJREFUU1Ol0tJSadu2bVpPieIwY8YMKT8/X0pNTZUGDBggzZgxQ/r888+1nhbJtHHjxqB/N2fPni1JkiS53W7p4YcflhwOh5SWliZde+210qeffqrtpCmscK9pR0eHNGnSJCk3N1fq1auXVFRUJM2dO1dqaWnRetqqEySJ9byJiIiIiIhixT5VREREREREcWBQRUREREREFAcGVURERERERHFgUEVERERERBQHBlVERERERERxYFBFREREREQUBwZVREREREREcWBQRUREREREFAcGVURERERERHFgUEVERD4TJ07E/PnzZY198cUXMWrUKGRmZiI7OxujR4/G8uXLfbc/+uijEAQBP/nJT/y+bvfu3RAEAQcPHgQAHDx4EIIgBP23bdu2sHPYuHEjbrjhBvTr1w82mw3FxcVYuHAhDh8+HNX3bXaCIOCtt96KOO6JJ57AhAkTYLPZkJ2dnfB5ERGZBYMqIiKK2qpVqzB//nzce++92L17Nz788EM8+OCDOHXqlN+49PR0vPTSS9i3b1/E+6yrq0Nzc7PfvzFjxoQc/8ILL6C8vBxOpxNvvvkmGhsb8Zvf/Abt7e345S9/Gff3mIzOnTuHW265BfPmzdN6KkRExiIRERFJkjR79mwJgN+/AwcOBB37ve99T7r99tvD3t/ixYulUaNGSdddd510yy23+I7v2rXL774PHDggAZB27dole65ffPGFlJqaKs2fPz/o7cePH/f99xtvvCEVFxdLqampUlFRkfSLX/zCb2xRUZG0dOlS6bbbbpMyMjKkCy64QPrzn/8stbW1SdOmTZMyMjKkkSNHSjt27PB9zcsvvyxlZWVJf/rTn6ShQ4dKaWlp0qRJk6Smpia/+/71r38tDR48WOrVq5c0bNgw6dVXX/W7HYD04osvSjfeeKPUu3dvaejQodKf//xnvzF79uyRKioqpIyMDCkvL0+aOXOmdOTIEd/t3/nOd6Sf/exn0gMPPCDl5ORIDodDWrx4sd/31/01LSoqivj8er8/IiKSh5kqIiICADzzzDMYP3485s6d68sUFRYWBh3rdDqxbds2HDp0KOL9rlixAm+++SZ27typ2Fz/8Ic/4Ny5c3jwwQeD3u5duvbRRx9h+vTpuPXWW7Fnzx48+uijePjhh/HKK6/4jf/Vr36FK6+8Ert27cKUKVNw2223YdasWZg5cyYaGhowZMgQzJo1C5Ik+b6mo6MDTzzxBF599VV8+OGHOHHiBG699Vbf7X/6059w3333YeHChdi7dy/uuusu3HHHHdi4caPfYy9ZsgTTp0/HP//5T9xwww340Y9+hGPHjgEATpw4gWuuuQajR4/Gzp07sWHDBrS2tmL69Ol+97F69WpkZGRg+/btePLJJ/HYY4/h3XffBQDs2LEDAPDyyy+jubnZ9zkRESlI66iOiIj04zvf+Y503333RRz35ZdfSldccYUEQBo2bJg0e/Zsac2aNZIoir4x3kyVJEnSrbfeKl1zzTWSJIXOVPXu3VvKyMjw+xfKvHnzJLvdHnGeP/zhD6XrrrvO79gDDzwgFRcX+z4vKiqSZs6c6fu8ublZAiA9/PDDvmNbt26VAEjNzc2SJHkyOQCkbdu2+cZ88sknEgBp+/btkiRJ0oQJE6S5c+f6PfYtt9wi3XDDDb7PAUg///nPfZ+fOnVKAiD97W9/kyRJkpYuXSpNmjTJ7z6++OILCYD06aefSpLkec2uuuoqvzFjx46Vqqqq/B7nT3/6U6inKQAzVURE0WGmioiIwrrkkkuQmZmJzMxMXH/99QCA/Px8bN26FXv27MF9992Hzs5OzJ49GxUVFXC73QH38fjjj2Pz5s2ora0N+Thr1qzB7t27/f6FIkkSBEGIOPdPPvkEV155pd+xK6+8Evv27YMoir5jl156qe+/HQ4HAGDkyJEBx9ra2nzHUlJSMHbsWN/nw4cPR3Z2Nj755JOwj+29PdhjZ2RkwG63+x7nH//4BzZu3Oh7/jMzMzF8+HAAwP79+4PeB+B5fbrPlYiIEitF6wkQEZG+vf322/jmm28AAL179/a7bcSIERgxYgR++tOf4ic/+Qmuvvpq/P3vf0dZWZnfuCFDhmDu3Lmorq7GSy+9FPRxCgsLMXToUFlzGjZsGNrb29Hc3Iz8/PwYvit/vXr18v23N1gLdixYwKjkY3sfy/s4p06dwtSpU1FTUxPwdd2/73D3QUREicdMFRER+aSmpvplcACgqKgIQ4cOxdChQzFgwICQX1tcXAwAOH36dNDbH3nkEXz22Wd4/fXX457nzTffjNTUVDz55JNBbz9x4gQA4OKLL8aHH37od9uHH36IYcOGwWq1xjWHzs5Ov31in376KU6cOIGLL7447GN7nyc5SkpK8PHHH2PgwIG+18D7LyMjQ/b99OrVK+B1JSIi5TBTRUREPgMHDsT27dtx8OBBZGZmom/fvrBYAq+/zZs3DwUFBbjmmmvwrW99C83NzXj88ceRm5uL8ePHB71vh8OByspKPPXUU0FvP3r0KFpaWvyOZWdnIz09PWBsYWEhfvWrX+Gee+6By+XCrFmzMHDgQPz73//Gq6++iszMTPzyl7/EwoULMXbsWCxduhQzZszA1q1b8f/+3//Dr3/96xieHX+9evXCz372Mzz77LNISUnBPffcgyuuuAKlpaUAgAceeADTp0/H6NGjUV5ejvXr1+OPf/wj6urqZD/G3XffjRdffBE/+MEP8OCDD6Jv3774/PPP8frrr+O3v/2t7MBw4MCBeO+993DllVciLS0NOTk5Qcc1NTXh2LFjaGpqgiiKviWYQ4cORWZmpux5ExElG2aqiIjI5/7774fVakVxcTFyc3PR1NQUdFx5eTm2bduGW265BcOGDcNNN92E9PR0vPfee+jXr1/Y+w91cl5eXo78/Hy/f+Ea1v70pz9FbW0tDh8+jO9///sYPnw4fvzjH8Nut+P+++8H4Mn0rF27Fq+//jpGjBiBRx55BI899hhuv/122c9JKDabDVVVVfjhD3+IK6+8EpmZmVizZo3v9htvvBHPPPMMfvGLX+CSSy7BCy+8gJdffhkTJ06U/RgFBQX48MMPIYoiJk2ahJEjR2L+/PnIzs4OGuyG8stf/hLvvvsuCgsLMXr06JDjHnnkEYwePRqLFy/GqVOnMHr0aF/lQSIiCk2QpG71YYmIiCiiV155BfPnz/ctMyQiouTGTBUREREREVEcGFQRERERERHFgcv/iIiIiIiI4sBMFRERERERURwYVBEREREREcWBQRUREREREVEcGFQRERERERHFgUEVERERERFRHBhUERERERERxYFBFRERERERURwYVBEREREREcXh/wd24OIAebZN8QAAAABJRU5ErkJggg==",
      "text/plain": [
       "<Figure size 1000x800 with 1 Axes>"
      ]
     },
     "metadata": {},
     "output_type": "display_data"
    }
   ],
   "source": [
    "# Visualize the results\n",
    "plt.figure(figsize=(10, 8))\n",
    "for i in range(n_clusters):\n",
    "    plt.scatter(features_tsne[labels == i, 0], features_tsne[labels == i, 1], label=f'Cluster {i}')\n",
    "\n",
    "#plt.scatter(features_tsne[:, 0], features_tsne[:, 1], alpha=0.7)\n",
    "plt.title(f't-SNE Visualization of Model Features for k={k}')\n",
    "plt.xlabel('t-SNE Component 1')\n",
    "plt.ylabel('t-SNE Component 2')\n",
    "plt.show()"
   ]
  },
  {
   "cell_type": "code",
   "execution_count": null,
   "metadata": {},
   "outputs": [],
   "source": []
  }
 ],
 "metadata": {
  "kernelspec": {
   "display_name": "Python 3",
   "language": "python",
   "name": "python3"
  },
  "language_info": {
   "codemirror_mode": {
    "name": "ipython",
    "version": 3
   },
   "file_extension": ".py",
   "mimetype": "text/x-python",
   "name": "python",
   "nbconvert_exporter": "python",
   "pygments_lexer": "ipython3",
   "version": "3.8.0"
  }
 },
 "nbformat": 4,
 "nbformat_minor": 4
}