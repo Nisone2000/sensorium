{
 "cells": [
  {
   "cell_type": "markdown",
   "metadata": {
    "pycharm": {
     "name": "#%% md\n"
    }
   },
   "source": [
    "# How to train the Baseline Models for the SENSORIUM+ track"
   ]
  },
  {
   "cell_type": "markdown",
   "metadata": {
    "pycharm": {
     "name": "#%% md\n"
    }
   },
   "source": [
    "### This notebook will show how to\n",
    "- instantiate dataloader for the Sensorium+ track\n",
    "- instantiate pytorch model\n",
    "- instantiate a trainer function\n",
    "- train two baselines for this competition track\n",
    "- save the model weights (the model weights can already be found in './model_checkpoints/pretrained/')"
   ]
  },
  {
   "cell_type": "markdown",
   "metadata": {
    "pycharm": {
     "name": "#%% md\n"
    }
   },
   "source": [
    "### Imports"
   ]
  },
  {
   "cell_type": "code",
   "execution_count": 29,
   "metadata": {},
   "outputs": [
    {
     "name": "stdout",
     "output_type": "stream",
     "text": [
      "/srv/user/ninasophie.nellen/sensorium/notebooks/model_tutorial\n"
     ]
    }
   ],
   "source": [
    "!pwd"
   ]
  },
  {
   "cell_type": "code",
   "execution_count": 63,
   "metadata": {},
   "outputs": [],
   "source": [
    "import neuralpredictors"
   ]
  },
  {
   "cell_type": "code",
   "execution_count": 64,
   "metadata": {},
   "outputs": [],
   "source": [
    "import torch"
   ]
  },
  {
   "cell_type": "code",
   "execution_count": 65,
   "metadata": {},
   "outputs": [
    {
     "data": {
      "text/plain": [
       "True"
      ]
     },
     "execution_count": 65,
     "metadata": {},
     "output_type": "execute_result"
    }
   ],
   "source": [
    "torch.cuda.is_available()"
   ]
  },
  {
   "cell_type": "code",
   "execution_count": 66,
   "metadata": {
    "scrolled": true
   },
   "outputs": [
    {
     "name": "stdout",
     "output_type": "stream",
     "text": [
      "Tue Oct 15 10:27:32 2024       \n",
      "+-----------------------------------------------------------------------------------------+\n",
      "| NVIDIA-SMI 550.54.14              Driver Version: 550.54.14      CUDA Version: 12.4     |\n",
      "|-----------------------------------------+------------------------+----------------------+\n",
      "| GPU  Name                 Persistence-M | Bus-Id          Disp.A | Volatile Uncorr. ECC |\n",
      "| Fan  Temp   Perf          Pwr:Usage/Cap |           Memory-Usage | GPU-Util  Compute M. |\n",
      "|                                         |                        |               MIG M. |\n",
      "|=========================================+========================+======================|\n",
      "|   0  NVIDIA RTX A5000               On  |   00000000:01:00.0 Off |                  Off |\n",
      "| 30%   34C    P8             22W /  230W |    1454MiB /  24564MiB |      0%      Default |\n",
      "|                                         |                        |                  N/A |\n",
      "+-----------------------------------------+------------------------+----------------------+\n",
      "|   1  NVIDIA RTX A5000               On  |   00000000:25:00.0 Off |                  Off |\n",
      "| 30%   45C    P2             63W /  230W |   13604MiB /  24564MiB |      0%      Default |\n",
      "|                                         |                        |                  N/A |\n",
      "+-----------------------------------------+------------------------+----------------------+\n",
      "|   2  NVIDIA RTX A5000               On  |   00000000:41:00.0 Off |                  Off |\n",
      "| 30%   46C    P2             71W /  230W |    6379MiB /  24564MiB |      0%      Default |\n",
      "|                                         |                        |                  N/A |\n",
      "+-----------------------------------------+------------------------+----------------------+\n",
      "|   3  NVIDIA RTX A5000               On  |   00000000:61:00.0 Off |                  Off |\n",
      "| 30%   28C    P8             12W /  230W |     606MiB /  24564MiB |      0%      Default |\n",
      "|                                         |                        |                  N/A |\n",
      "+-----------------------------------------+------------------------+----------------------+\n",
      "|   4  NVIDIA RTX A5000               On  |   00000000:81:00.0 Off |                  Off |\n",
      "| 34%   63C    P2            107W /  230W |   22168MiB /  24564MiB |     99%      Default |\n",
      "|                                         |                        |                  N/A |\n",
      "+-----------------------------------------+------------------------+----------------------+\n",
      "|   5  NVIDIA RTX A5000               On  |   00000000:A1:00.0 Off |                  Off |\n",
      "| 36%   64C    P2            109W /  230W |   22551MiB /  24564MiB |    100%      Default |\n",
      "|                                         |                        |                  N/A |\n",
      "+-----------------------------------------+------------------------+----------------------+\n",
      "|   6  NVIDIA RTX A5000               On  |   00000000:C1:00.0 Off |                  Off |\n",
      "| 30%   31C    P8             15W /  230W |    3162MiB /  24564MiB |      0%      Default |\n",
      "|                                         |                        |                  N/A |\n",
      "+-----------------------------------------+------------------------+----------------------+\n",
      "|   7  NVIDIA RTX A5000               On  |   00000000:E1:00.0 Off |                  Off |\n",
      "| 44%   69C    P2            158W /  230W |   17216MiB /  24564MiB |    100%      Default |\n",
      "|                                         |                        |                  N/A |\n",
      "+-----------------------------------------+------------------------+----------------------+\n",
      "                                                                                         \n",
      "+-----------------------------------------------------------------------------------------+\n",
      "| Processes:                                                                              |\n",
      "|  GPU   GI   CI        PID   Type   Process name                              GPU Memory |\n",
      "|        ID   ID                                                               Usage      |\n",
      "|=========================================================================================|\n",
      "|    0   N/A  N/A   1566734      C   ...en/anaconda3/envs/my_env/bin/python        314MiB |\n",
      "|    0   N/A  N/A   1757426      C   ...en/anaconda3/envs/my_env/bin/python        224MiB |\n",
      "|    0   N/A  N/A   2516387      C   ...iniforge3/envs/graphdino/bin/python        298MiB |\n",
      "|    0   N/A  N/A   3865052      C   ...anaconda3/envs/sensorium/bin/python        602MiB |\n",
      "|    1   N/A  N/A    524733      C   .../anaconda3/envs/corc_env/bin/python      10784MiB |\n",
      "|    1   N/A  N/A   2353631      C   python3                                      1106MiB |\n",
      "|    1   N/A  N/A   2353764      C   python3                                      1106MiB |\n",
      "|    1   N/A  N/A   3865052      C   ...anaconda3/envs/sensorium/bin/python        594MiB |\n",
      "|    2   N/A  N/A   1273005      C   .../.conda/envs/project_env/bin/python        302MiB |\n",
      "|    2   N/A  N/A   2082702      C   python                                       5470MiB |\n",
      "|    2   N/A  N/A   3865052      C   ...anaconda3/envs/sensorium/bin/python        596MiB |\n",
      "|    3   N/A  N/A   3865052      C   ...anaconda3/envs/sensorium/bin/python        594MiB |\n",
      "|    3   N/A  N/A   4001322      G   ...x86_64_17.0.5.20221116/jre/bin/java          3MiB |\n",
      "|    4   N/A  N/A   1584984      C   ...iniforge3/envs/graphdino/bin/python       5670MiB |\n",
      "|    4   N/A  N/A   2168067      C   /usr/bin/python3.8                           1724MiB |\n",
      "|    4   N/A  N/A   2695271      C   /usr/bin/python3.8                           1478MiB |\n",
      "|    4   N/A  N/A   2708092      C   /usr/bin/python3.8                           1548MiB |\n",
      "|    4   N/A  N/A   3627710      C   ...anaconda3/envs/sensorium/bin/python       9844MiB |\n",
      "|    4   N/A  N/A   3802070      C   /usr/bin/python3.8                           1286MiB |\n",
      "|    4   N/A  N/A   3865052      C   ...anaconda3/envs/sensorium/bin/python        594MiB |\n",
      "|    5   N/A  N/A   2262071      C   python3                                     21594MiB |\n",
      "|    6   N/A  N/A   1421781      C   .../anaconda3/envs/corc_env/bin/python        438MiB |\n",
      "|    6   N/A  N/A   1566734      C   ...en/anaconda3/envs/my_env/bin/python        284MiB |\n",
      "|    6   N/A  N/A   1677973      C   .../anaconda3/envs/corc_env/bin/python        376MiB |\n",
      "|    6   N/A  N/A   1757426      C   ...en/anaconda3/envs/my_env/bin/python        314MiB |\n",
      "|    6   N/A  N/A   2841530      C   .../anaconda3/envs/corc_env/bin/python        376MiB |\n",
      "|    6   N/A  N/A   3042369      C   .../anaconda3/envs/corc_env/bin/python        376MiB |\n",
      "|    6   N/A  N/A   3046162      C   .../anaconda3/envs/corc_env/bin/python        376MiB |\n",
      "|    6   N/A  N/A   3865052      C   ...anaconda3/envs/sensorium/bin/python        596MiB |\n",
      "|    7   N/A  N/A     72282      C   python3                                     17208MiB |\n",
      "+-----------------------------------------------------------------------------------------+\n"
     ]
    }
   ],
   "source": [
    "!nvidia-smi"
   ]
  },
  {
   "cell_type": "code",
   "execution_count": 67,
   "metadata": {},
   "outputs": [],
   "source": [
    "torch.cuda.set_device(\"cuda:6\")"
   ]
  },
  {
   "cell_type": "code",
   "execution_count": 68,
   "metadata": {
    "pycharm": {
     "name": "#%%\n"
    }
   },
   "outputs": [],
   "source": [
    "import torch\n",
    "import numpy as np\n",
    "import pandas as pd\n",
    "\n",
    "#import matplotlib.pyplot as plt\n",
    "#import seaborn as sns\n",
    "\n",
    "import warnings\n",
    "warnings.filterwarnings('ignore')\n",
    "\n",
    "from nnfabrik.builder import get_data, get_model, get_trainer"
   ]
  },
  {
   "cell_type": "markdown",
   "metadata": {
    "pycharm": {
     "name": "#%% md\n"
    }
   },
   "source": [
    "### Instantiate DataLoader for Sensorium+"
   ]
  },
  {
   "cell_type": "markdown",
   "metadata": {
    "collapsed": false,
    "jupyter": {
     "outputs_hidden": false
    },
    "pycharm": {
     "name": "#%% md\n"
    }
   },
   "source": [
    "The only difference to the Sensorium track is that here, we include the behavioral variables and the eye position,\n",
    "by setting include_behavior=True, and include_eye_position=True.\n",
    "this will append the behavioral variables to the input images, and the eye position will be passed to\n",
    "the shifter network of the model.\n"
   ]
  },
  {
   "cell_type": "code",
   "execution_count": 69,
   "metadata": {},
   "outputs": [
    {
     "name": "stdout",
     "output_type": "stream",
     "text": [
      "static21067-10-18-GrayImageNet-94c6ff995dac583098847cfecd43e7b6\n",
      "static22846-10-16-GrayImageNet-94c6ff995dac583098847cfecd43e7b6\n",
      "static23343-5-17-GrayImageNet-94c6ff995dac583098847cfecd43e7b6\n",
      "static23656-14-22-GrayImageNet-94c6ff995dac583098847cfecd43e7b6\n",
      "static23964-4-22-GrayImageNet-94c6ff995dac583098847cfecd43e7b6\n",
      "static26872-17-20-GrayImageNet-94c6ff995dac583098847cfecd43e7b6\n",
      "static27204-5-13-GrayImageNet-94c6ff995dac583098847cfecd43e7b6\n"
     ]
    }
   ],
   "source": [
    "!ls /usr/users/agecker/datasets/sensorium_2022_pictures/real_dataset/"
   ]
  },
  {
   "cell_type": "code",
   "execution_count": 70,
   "metadata": {},
   "outputs": [],
   "source": [
    "import os"
   ]
  },
  {
   "cell_type": "code",
   "execution_count": 71,
   "metadata": {},
   "outputs": [
    {
     "data": {
      "text/plain": [
       "['/usr/users/agecker/datasets/sensorium_2022_pictures/real_dataset/static23964-4-22-GrayImageNet-94c6ff995dac583098847cfecd43e7b6/',\n",
       " '/usr/users/agecker/datasets/sensorium_2022_pictures/real_dataset/static21067-10-18-GrayImageNet-94c6ff995dac583098847cfecd43e7b6/',\n",
       " '/usr/users/agecker/datasets/sensorium_2022_pictures/real_dataset/static22846-10-16-GrayImageNet-94c6ff995dac583098847cfecd43e7b6/',\n",
       " '/usr/users/agecker/datasets/sensorium_2022_pictures/real_dataset/static23343-5-17-GrayImageNet-94c6ff995dac583098847cfecd43e7b6/',\n",
       " '/usr/users/agecker/datasets/sensorium_2022_pictures/real_dataset/static26872-17-20-GrayImageNet-94c6ff995dac583098847cfecd43e7b6/',\n",
       " '/usr/users/agecker/datasets/sensorium_2022_pictures/real_dataset/static23656-14-22-GrayImageNet-94c6ff995dac583098847cfecd43e7b6/',\n",
       " '/usr/users/agecker/datasets/sensorium_2022_pictures/real_dataset/static27204-5-13-GrayImageNet-94c6ff995dac583098847cfecd43e7b6/']"
      ]
     },
     "execution_count": 71,
     "metadata": {},
     "output_type": "execute_result"
    }
   ],
   "source": [
    "pre = \"/usr/users/agecker/datasets/sensorium_2022_pictures/real_dataset/\"\n",
    "[f\"{pre}{i}/\" for i in os.listdir(pre)]"
   ]
  },
  {
   "cell_type": "code",
   "execution_count": 72,
   "metadata": {},
   "outputs": [],
   "source": [
    "import skimage"
   ]
  },
  {
   "cell_type": "code",
   "execution_count": 73,
   "metadata": {
    "collapsed": false,
    "jupyter": {
     "outputs_hidden": false
    },
    "pycharm": {
     "name": "#%%\n"
    }
   },
   "outputs": [
    {
     "name": "stdout",
     "output_type": "stream",
     "text": [
      "/usr/users/agecker/datasets/sensorium_2022_pictures/real_dataset/\n",
      "['/usr/users/agecker/datasets/sensorium_2022_pictures/real_dataset/static23964-4-22-GrayImageNet-94c6ff995dac583098847cfecd43e7b6/', '/usr/users/agecker/datasets/sensorium_2022_pictures/real_dataset/static21067-10-18-GrayImageNet-94c6ff995dac583098847cfecd43e7b6/', '/usr/users/agecker/datasets/sensorium_2022_pictures/real_dataset/static22846-10-16-GrayImageNet-94c6ff995dac583098847cfecd43e7b6/', '/usr/users/agecker/datasets/sensorium_2022_pictures/real_dataset/static23343-5-17-GrayImageNet-94c6ff995dac583098847cfecd43e7b6/', '/usr/users/agecker/datasets/sensorium_2022_pictures/real_dataset/static26872-17-20-GrayImageNet-94c6ff995dac583098847cfecd43e7b6/', '/usr/users/agecker/datasets/sensorium_2022_pictures/real_dataset/static23656-14-22-GrayImageNet-94c6ff995dac583098847cfecd43e7b6/', '/usr/users/agecker/datasets/sensorium_2022_pictures/real_dataset/static27204-5-13-GrayImageNet-94c6ff995dac583098847cfecd43e7b6/']\n"
     ]
    }
   ],
   "source": [
    "# loading the SENSORIUM+ dataset\n",
    "pre = \"/usr/users/agecker/datasets/sensorium_2022_pictures/real_dataset/\"\n",
    "print(pre)\n",
    "filenames = [f\"{pre}{i}/\" for i in os.listdir(pre)]\n",
    "print(filenames)\n",
    "\n",
    "dataset_fn = 'sensorium.datasets.static_loaders'\n",
    "dataset_config = {'paths': filenames,\n",
    "                 'normalize': True,\n",
    "                 'include_behavior': True,\n",
    "                 'include_eye_position': True,\n",
    "                 'batch_size': 128,\n",
    "                 'scale':.25,\n",
    "                 }\n",
    "\n",
    "dataloaders = get_data(dataset_fn, dataset_config)"
   ]
  },
  {
   "cell_type": "code",
   "execution_count": 75,
   "metadata": {},
   "outputs": [
    {
     "data": {
      "text/plain": [
       "OrderedDict([('train',\n",
       "              OrderedDict([('23964-4-22',\n",
       "                            <torch.utils.data.dataloader.DataLoader at 0x7f532499cb00>),\n",
       "                           ('21067-10-18',\n",
       "                            <torch.utils.data.dataloader.DataLoader at 0x7f53248c11c0>),\n",
       "                           ('22846-10-16',\n",
       "                            <torch.utils.data.dataloader.DataLoader at 0x7f532487e690>),\n",
       "                           ('23343-5-17',\n",
       "                            <torch.utils.data.dataloader.DataLoader at 0x7f53248b78c0>),\n",
       "                           ('26872-17-20',\n",
       "                            <torch.utils.data.dataloader.DataLoader at 0x7f532499d7c0>),\n",
       "                           ('23656-14-22',\n",
       "                            <torch.utils.data.dataloader.DataLoader at 0x7f5324950650>),\n",
       "                           ('27204-5-13',\n",
       "                            <torch.utils.data.dataloader.DataLoader at 0x7f532487f3b0>)])),\n",
       "             ('validation',\n",
       "              OrderedDict([('23964-4-22',\n",
       "                            <torch.utils.data.dataloader.DataLoader at 0x7f532499f350>),\n",
       "                           ('21067-10-18',\n",
       "                            <torch.utils.data.dataloader.DataLoader at 0x7f53248c1070>),\n",
       "                           ('22846-10-16',\n",
       "                            <torch.utils.data.dataloader.DataLoader at 0x7f532487e540>),\n",
       "                           ('23343-5-17',\n",
       "                            <torch.utils.data.dataloader.DataLoader at 0x7f53248b4c50>),\n",
       "                           ('26872-17-20',\n",
       "                            <torch.utils.data.dataloader.DataLoader at 0x7f532499fd40>),\n",
       "                           ('23656-14-22',\n",
       "                            <torch.utils.data.dataloader.DataLoader at 0x7f5324953e90>),\n",
       "                           ('27204-5-13',\n",
       "                            <torch.utils.data.dataloader.DataLoader at 0x7f532487d280>)])),\n",
       "             ('test',\n",
       "              OrderedDict([('23964-4-22',\n",
       "                            <torch.utils.data.dataloader.DataLoader at 0x7f532499ef00>),\n",
       "                           ('21067-10-18',\n",
       "                            <torch.utils.data.dataloader.DataLoader at 0x7f53248c1d00>),\n",
       "                           ('22846-10-16',\n",
       "                            <torch.utils.data.dataloader.DataLoader at 0x7f532487d9a0>),\n",
       "                           ('23343-5-17',\n",
       "                            <torch.utils.data.dataloader.DataLoader at 0x7f53248b5af0>),\n",
       "                           ('26872-17-20',\n",
       "                            <torch.utils.data.dataloader.DataLoader at 0x7f532499ee40>),\n",
       "                           ('23656-14-22',\n",
       "                            <torch.utils.data.dataloader.DataLoader at 0x7f5324952480>),\n",
       "                           ('27204-5-13',\n",
       "                            <torch.utils.data.dataloader.DataLoader at 0x7f532487f2f0>)])),\n",
       "             ('final_test',\n",
       "              OrderedDict([('23964-4-22',\n",
       "                            <torch.utils.data.dataloader.DataLoader at 0x7f532499d4c0>),\n",
       "                           ('21067-10-18',\n",
       "                            <torch.utils.data.dataloader.DataLoader at 0x7f53248c2690>),\n",
       "                           ('22846-10-16',\n",
       "                            <torch.utils.data.dataloader.DataLoader at 0x7f532487cb60>),\n",
       "                           ('23343-5-17',\n",
       "                            <torch.utils.data.dataloader.DataLoader at 0x7f53248b4440>),\n",
       "                           ('26872-17-20',\n",
       "                            <torch.utils.data.dataloader.DataLoader at 0x7f532499d160>),\n",
       "                           ('23656-14-22',\n",
       "                            <torch.utils.data.dataloader.DataLoader at 0x7f5324950080>),\n",
       "                           ('27204-5-13',\n",
       "                            <torch.utils.data.dataloader.DataLoader at 0x7f532487e9c0>)]))])"
      ]
     },
     "execution_count": 75,
     "metadata": {},
     "output_type": "execute_result"
    }
   ],
   "source": [
    "dataloaders"
   ]
  },
  {
   "cell_type": "code",
   "execution_count": 76,
   "metadata": {},
   "outputs": [],
   "source": [
    "elem = next(iter(dataloaders[\"train\"][\"23343-5-17\"]))"
   ]
  },
  {
   "cell_type": "code",
   "execution_count": 77,
   "metadata": {},
   "outputs": [
    {
     "data": {
      "text/plain": [
       "torch.Size([128, 4, 36, 64])"
      ]
     },
     "execution_count": 77,
     "metadata": {},
     "output_type": "execute_result"
    }
   ],
   "source": [
    "elem.images.shape\n",
    "# images, channels, height, width"
   ]
  },
  {
   "cell_type": "code",
   "execution_count": 41,
   "metadata": {},
   "outputs": [
    {
     "data": {
      "text/plain": [
       "tensor([[2.0980, 2.0980, 2.0980,  ..., 2.0980, 2.0980, 2.0980],\n",
       "        [2.0980, 2.0980, 2.0980,  ..., 2.0980, 2.0980, 2.0980],\n",
       "        [2.0980, 2.0980, 2.0980,  ..., 2.0980, 2.0980, 2.0980],\n",
       "        ...,\n",
       "        [2.0980, 2.0980, 2.0980,  ..., 2.0980, 2.0980, 2.0980],\n",
       "        [2.0980, 2.0980, 2.0980,  ..., 2.0980, 2.0980, 2.0980],\n",
       "        [2.0980, 2.0980, 2.0980,  ..., 2.0980, 2.0980, 2.0980]],\n",
       "       device='cuda:6')"
      ]
     },
     "execution_count": 41,
     "metadata": {},
     "output_type": "execute_result"
    }
   ],
   "source": [
    "elem.images[0, 1, :, :]"
   ]
  },
  {
   "cell_type": "code",
   "execution_count": 78,
   "metadata": {},
   "outputs": [
    {
     "data": {
      "text/plain": [
       "torch.Size([128, 7334])"
      ]
     },
     "execution_count": 78,
     "metadata": {},
     "output_type": "execute_result"
    }
   ],
   "source": [
    "elem.responses.shape\n",
    "#images, neurons"
   ]
  },
  {
   "cell_type": "code",
   "execution_count": 79,
   "metadata": {},
   "outputs": [],
   "source": [
    "#elem"
   ]
  },
  {
   "cell_type": "code",
   "execution_count": 80,
   "metadata": {},
   "outputs": [
    {
     "data": {
      "text/plain": [
       "(torch.Size([128, 3]), torch.Size([128, 2]))"
      ]
     },
     "execution_count": 80,
     "metadata": {},
     "output_type": "execute_result"
    }
   ],
   "source": [
    "elem.behavior.shape,  elem.pupil_center.shape"
   ]
  },
  {
   "cell_type": "markdown",
   "metadata": {
    "collapsed": false,
    "jupyter": {
     "outputs_hidden": false
    },
    "pycharm": {
     "name": "#%% md\n"
    }
   },
   "source": [
    "# Instantiate State of the Art Model (SOTA)"
   ]
  },
  {
   "cell_type": "markdown",
   "metadata": {
    "collapsed": false,
    "jupyter": {
     "outputs_hidden": false
    },
    "pycharm": {
     "name": "#%% md\n"
    }
   },
   "source": [
    "Because the behavioral variables are available, we instantiate the Shifter network\n",
    "by setting Shifter=True in the model configuration."
   ]
  },
  {
   "cell_type": "code",
   "execution_count": 45,
   "metadata": {
    "collapsed": false,
    "jupyter": {
     "outputs_hidden": false
    },
    "pycharm": {
     "name": "#%%\n"
    }
   },
   "outputs": [],
   "source": [
    "model_fn = 'sensorium.models.stacked_core_full_gauss_readout'\n",
    "model_config = {'pad_input': False,\n",
    "  'stack': -1,\n",
    "  'layers': 4,\n",
    "  'input_kern': 9,\n",
    "  'gamma_input': 6.3831,\n",
    "  'gamma_readout': 0.0076,\n",
    "  'hidden_kern': 7,\n",
    "  'hidden_channels': 64,\n",
    "  'depth_separable': True,\n",
    "  'grid_mean_predictor': {'type': 'cortex',\n",
    "   'input_dimensions': 2,\n",
    "   'hidden_layers': 1,\n",
    "   'hidden_features': 30,\n",
    "   'final_tanh': True},\n",
    "  'init_sigma': 0.1,\n",
    "  'init_mu_range': 0.3,\n",
    "  'gauss_type': 'full',\n",
    "  'shifter': True,\n",
    "}\n",
    "\n",
    "model = get_model(model_fn=model_fn,\n",
    "                  model_config=model_config,\n",
    "                  dataloaders=dataloaders,\n",
    "                  seed=42,)"
   ]
  },
  {
   "cell_type": "markdown",
   "metadata": {},
   "source": [
    "Because the behavioral variables are available, we instantiate the Shifter network\n",
    "by setting Shifter=True in the model configuration."
   ]
  },
  {
   "cell_type": "code",
   "execution_count": 81,
   "metadata": {
    "pycharm": {
     "name": "#%%\n"
    }
   },
   "outputs": [],
   "source": [
    "model_fn = 'sensorium.models.stacked_core_full_gauss_readout'\n",
    "model_config = {'pad_input': False,\n",
    "  'stack': -1,\n",
    "  'layers': 4,\n",
    "  'input_kern': 9,\n",
    "  'gamma_input': 6.3831,\n",
    "  'gamma_readout': 0.0076,\n",
    "  'hidden_kern': 7,\n",
    "  'hidden_channels': 64,\n",
    "  'depth_separable': True,\n",
    "  'grid_mean_predictor': {'type': 'cortex',\n",
    "   'input_dimensions': 2,\n",
    "   'hidden_layers': 1,\n",
    "   'hidden_features': 30,\n",
    "   'final_tanh': True},\n",
    "  'init_sigma': 0.1,\n",
    "  'init_mu_range': 0.3,\n",
    "  'gauss_type': 'full',\n",
    "  'shifter': True,\n",
    "}\n",
    "\n",
    "model = get_model(model_fn=model_fn,\n",
    "                  model_config=model_config,\n",
    "                  dataloaders=dataloaders,\n",
    "                  seed=42,)"
   ]
  },
  {
   "cell_type": "code",
   "execution_count": 90,
   "metadata": {},
   "outputs": [
    {
     "ename": "SyntaxError",
     "evalue": "illegal target for annotation (2281648631.py, line 2)",
     "output_type": "error",
     "traceback": [
      "\u001b[0;36m  Cell \u001b[0;32mIn[90], line 2\u001b[0;36m\u001b[0m\n\u001b[0;31m    'device' : f\"cuda:6\"\u001b[0m\n\u001b[0m    ^\u001b[0m\n\u001b[0;31mSyntaxError\u001b[0m\u001b[0;31m:\u001b[0m illegal target for annotation\n"
     ]
    }
   ],
   "source": [
    "device = torch.device(\"cuda:6\")\n",
    "#'device' : f\"cuda:6\"\n",
    "model.to(device)"
   ]
  },
  {
   "cell_type": "markdown",
   "metadata": {
    "pycharm": {
     "name": "#%% md\n"
    }
   },
   "source": [
    "## Configure Trainer"
   ]
  },
  {
   "cell_type": "code",
   "execution_count": 92,
   "metadata": {
    "pycharm": {
     "name": "#%%\n"
    }
   },
   "outputs": [],
   "source": [
    "trainer_fn = \"sensorium.training.standard_trainer\"\n",
    "\n",
    "trainer_config = {'max_iter': 200,\n",
    "                 'verbose': False,\n",
    "                 'lr_decay_steps': 4,\n",
    "                 'avg_loss': False,\n",
    "                 'lr_init': 0.009,\n",
    "                 'device' : f\"cuda:6\"\n",
    "                 }\n",
    "\n",
    "trainer = get_trainer(trainer_fn=trainer_fn, \n",
    "                     trainer_config=trainer_config)\n",
    "\n",
    "#trainer.to(device)"
   ]
  },
  {
   "cell_type": "code",
   "execution_count": 93,
   "metadata": {},
   "outputs": [
    {
     "data": {
      "text/plain": [
       "device(type='cuda', index=6)"
      ]
     },
     "execution_count": 93,
     "metadata": {},
     "output_type": "execute_result"
    }
   ],
   "source": [
    "model.readout['23343-5-17'].features.device\n",
    "next(iter(dataloaders['train']['23343-5-17'])).images.device"
   ]
  },
  {
   "cell_type": "markdown",
   "metadata": {
    "pycharm": {
     "name": "#%% md\n"
    }
   },
   "source": [
    "# Run model training"
   ]
  },
  {
   "cell_type": "code",
   "execution_count": 95,
   "metadata": {
    "pycharm": {
     "name": "#%%\n"
    },
    "scrolled": true
   },
   "outputs": [
    {
     "name": "stderr",
     "output_type": "stream",
     "text": [
      "Epoch 1: 100%|██████████| 252/252 [00:40<00:00,  6.23it/s]\n",
      "Epoch 2: 100%|██████████| 252/252 [00:42<00:00,  5.96it/s]\n",
      "Epoch 3: 100%|██████████| 252/252 [00:40<00:00,  6.15it/s]\n",
      "Epoch 4: 100%|██████████| 252/252 [00:40<00:00,  6.17it/s]\n",
      "Epoch 5: 100%|██████████| 252/252 [00:40<00:00,  6.19it/s]\n",
      "Epoch 6: 100%|██████████| 252/252 [00:40<00:00,  6.27it/s]\n",
      "Epoch 7: 100%|██████████| 252/252 [00:40<00:00,  6.26it/s]\n",
      "Epoch 8: 100%|██████████| 252/252 [00:40<00:00,  6.25it/s]\n",
      "Epoch 9: 100%|██████████| 252/252 [00:40<00:00,  6.20it/s]\n",
      "Epoch 10: 100%|██████████| 252/252 [00:39<00:00,  6.30it/s]\n",
      "Epoch 11: 100%|██████████| 252/252 [00:40<00:00,  6.25it/s]\n",
      "Epoch 12: 100%|██████████| 252/252 [00:40<00:00,  6.23it/s]\n",
      "Epoch 13: 100%|██████████| 252/252 [00:40<00:00,  6.27it/s]\n",
      "Epoch 14: 100%|██████████| 252/252 [00:40<00:00,  6.26it/s]\n",
      "Epoch 15: 100%|██████████| 252/252 [00:40<00:00,  6.18it/s]\n",
      "Epoch 16: 100%|██████████| 252/252 [00:40<00:00,  6.27it/s]\n",
      "Epoch 17: 100%|██████████| 252/252 [00:40<00:00,  6.29it/s]\n",
      "Epoch 18: 100%|██████████| 252/252 [00:40<00:00,  6.28it/s]\n",
      "Epoch 19: 100%|██████████| 252/252 [00:40<00:00,  6.24it/s]\n",
      "Epoch 20: 100%|██████████| 252/252 [00:40<00:00,  6.27it/s]\n"
     ]
    }
   ],
   "source": [
    "validation_score, trainer_output, state_dict = trainer(model, dataloaders, seed=42)"
   ]
  },
  {
   "cell_type": "markdown",
   "metadata": {
    "pycharm": {
     "name": "#%% md\n"
    }
   },
   "source": [
    "## Save model checkpoints"
   ]
  },
  {
   "cell_type": "code",
   "execution_count": 99,
   "metadata": {
    "pycharm": {
     "name": "#%%\n"
    }
   },
   "outputs": [],
   "source": [
    "torch.save(model.state_dict(), './model_checkpoints/sensorium_p_sota_model.pth')"
   ]
  },
  {
   "cell_type": "markdown",
   "metadata": {
    "pycharm": {
     "name": "#%% md\n"
    }
   },
   "source": [
    "## Load Model Checkpoints"
   ]
  },
  {
   "cell_type": "code",
   "execution_count": null,
   "metadata": {},
   "outputs": [],
   "source": [
    "model.load_state_dict(torch.load(\"./model_checkpoints/sensorium_p_sota_model.pth\"));"
   ]
  },
  {
   "cell_type": "code",
   "execution_count": 105,
   "metadata": {
    "pycharm": {
     "name": "#%%\n"
    }
   },
   "outputs": [
    {
     "ename": "RuntimeError",
     "evalue": "Error(s) in loading state_dict for FiringRateEncoder:\n\tUnexpected key(s) in state_dict: \"core.features.layer3.ds_conv.in_depth_conv.weight\", \"core.features.layer3.ds_conv.in_depth_conv.bias\", \"core.features.layer3.ds_conv.spatial_conv.weight\", \"core.features.layer3.ds_conv.spatial_conv.bias\", \"core.features.layer3.ds_conv.out_depth_conv.weight\", \"core.features.layer3.ds_conv.out_depth_conv.bias\", \"core.features.layer3.norm.weight\", \"core.features.layer3.norm.bias\", \"core.features.layer3.norm.running_mean\", \"core.features.layer3.norm.running_var\", \"core.features.layer3.norm.num_batches_tracked\". ",
     "output_type": "error",
     "traceback": [
      "\u001b[0;31m---------------------------------------------------------------------------\u001b[0m",
      "\u001b[0;31mRuntimeError\u001b[0m                              Traceback (most recent call last)",
      "Cell \u001b[0;32mIn[105], line 1\u001b[0m\n\u001b[0;32m----> 1\u001b[0m model\u001b[38;5;241m.\u001b[39mload_state_dict(torch\u001b[38;5;241m.\u001b[39mload(\u001b[38;5;124m\"\u001b[39m\u001b[38;5;124m./model_checkpoints/sensorium_p_sota_model.pth\u001b[39m\u001b[38;5;124m\"\u001b[39m))\n",
      "File \u001b[0;32m~/anaconda3/envs/my_env/lib/python3.12/site-packages/torch/nn/modules/module.py:2215\u001b[0m, in \u001b[0;36mModule.load_state_dict\u001b[0;34m(self, state_dict, strict, assign)\u001b[0m\n\u001b[1;32m   2210\u001b[0m         error_msgs\u001b[38;5;241m.\u001b[39minsert(\n\u001b[1;32m   2211\u001b[0m             \u001b[38;5;241m0\u001b[39m, \u001b[38;5;124m'\u001b[39m\u001b[38;5;124mMissing key(s) in state_dict: \u001b[39m\u001b[38;5;132;01m{}\u001b[39;00m\u001b[38;5;124m. \u001b[39m\u001b[38;5;124m'\u001b[39m\u001b[38;5;241m.\u001b[39mformat(\n\u001b[1;32m   2212\u001b[0m                 \u001b[38;5;124m'\u001b[39m\u001b[38;5;124m, \u001b[39m\u001b[38;5;124m'\u001b[39m\u001b[38;5;241m.\u001b[39mjoin(\u001b[38;5;124mf\u001b[39m\u001b[38;5;124m'\u001b[39m\u001b[38;5;124m\"\u001b[39m\u001b[38;5;132;01m{\u001b[39;00mk\u001b[38;5;132;01m}\u001b[39;00m\u001b[38;5;124m\"\u001b[39m\u001b[38;5;124m'\u001b[39m \u001b[38;5;28;01mfor\u001b[39;00m k \u001b[38;5;129;01min\u001b[39;00m missing_keys)))\n\u001b[1;32m   2214\u001b[0m \u001b[38;5;28;01mif\u001b[39;00m \u001b[38;5;28mlen\u001b[39m(error_msgs) \u001b[38;5;241m>\u001b[39m \u001b[38;5;241m0\u001b[39m:\n\u001b[0;32m-> 2215\u001b[0m     \u001b[38;5;28;01mraise\u001b[39;00m \u001b[38;5;167;01mRuntimeError\u001b[39;00m(\u001b[38;5;124m'\u001b[39m\u001b[38;5;124mError(s) in loading state_dict for \u001b[39m\u001b[38;5;132;01m{}\u001b[39;00m\u001b[38;5;124m:\u001b[39m\u001b[38;5;130;01m\\n\u001b[39;00m\u001b[38;5;130;01m\\t\u001b[39;00m\u001b[38;5;132;01m{}\u001b[39;00m\u001b[38;5;124m'\u001b[39m\u001b[38;5;241m.\u001b[39mformat(\n\u001b[1;32m   2216\u001b[0m                        \u001b[38;5;28mself\u001b[39m\u001b[38;5;241m.\u001b[39m\u001b[38;5;18m__class__\u001b[39m\u001b[38;5;241m.\u001b[39m\u001b[38;5;18m__name__\u001b[39m, \u001b[38;5;124m\"\u001b[39m\u001b[38;5;130;01m\\n\u001b[39;00m\u001b[38;5;130;01m\\t\u001b[39;00m\u001b[38;5;124m\"\u001b[39m\u001b[38;5;241m.\u001b[39mjoin(error_msgs)))\n\u001b[1;32m   2217\u001b[0m \u001b[38;5;28;01mreturn\u001b[39;00m _IncompatibleKeys(missing_keys, unexpected_keys)\n",
      "\u001b[0;31mRuntimeError\u001b[0m: Error(s) in loading state_dict for FiringRateEncoder:\n\tUnexpected key(s) in state_dict: \"core.features.layer3.ds_conv.in_depth_conv.weight\", \"core.features.layer3.ds_conv.in_depth_conv.bias\", \"core.features.layer3.ds_conv.spatial_conv.weight\", \"core.features.layer3.ds_conv.spatial_conv.bias\", \"core.features.layer3.ds_conv.out_depth_conv.weight\", \"core.features.layer3.ds_conv.out_depth_conv.bias\", \"core.features.layer3.norm.weight\", \"core.features.layer3.norm.bias\", \"core.features.layer3.norm.running_mean\", \"core.features.layer3.norm.running_var\", \"core.features.layer3.norm.num_batches_tracked\". "
     ]
    }
   ],
   "source": [
    "model.load_state_dict(torch.load(\"./model_checkpoints/sensorium_p_sota_model.pth\"));"
   ]
  },
  {
   "cell_type": "markdown",
   "metadata": {
    "pycharm": {
     "name": "#%% md\n"
    }
   },
   "source": [
    "---"
   ]
  },
  {
   "cell_type": "markdown",
   "metadata": {
    "pycharm": {
     "name": "#%% md\n"
    }
   },
   "source": [
    "# Train a simple LN model"
   ]
  },
  {
   "cell_type": "code",
   "execution_count": 101,
   "metadata": {
    "pycharm": {
     "name": "#%%\n"
    }
   },
   "outputs": [],
   "source": [
    "# this will remove all nonlinearities from the CNN, and creates essentially a ln model: linear core + readout, with a subsequent non-linearity\n",
    "\n",
    "model_fn = 'sensorium.models.stacked_core_full_gauss_readout'\n",
    "model_config = {'pad_input': False,  #no padding\n",
    "              'stack': -1,  #no stacking\n",
    "              'layers': 3,\n",
    "              'input_kern': 9,  #filter dimension 9x9\n",
    "              'gamma_input': 6.3831,\n",
    "              'gamma_readout': 0.0076,\n",
    "              'hidden_kern': 7,  #convolution in hidden layers\n",
    "              'hidden_channels': 64, #hidden filters that are applied\n",
    "              'grid_mean_predictor': {'type': 'cortex', #submodel, uses positions of the brain cells to help to learn their receptive fields (because often cells that are actually close in the brain look in close pixels areas)\n",
    "              'input_dimensions': 2,\n",
    "              'hidden_layers': 1,\n",
    "              'hidden_features': 30,\n",
    "              'final_tanh': True}, #applying tanh activation function in final layer\n",
    "              'depth_separable': True, #depthwise separable convolutions\n",
    "              'init_sigma': 0.1, #nitial standard deviation for the weights\n",
    "              'init_mu_range': 0.3, #range for initial mean of weights\n",
    "              'gauss_type': 'full', #Gaussian type, full covariance matrix\n",
    "              'linear': True, #include linear layers\n",
    "              'shifter': True, #include shifting?\n",
    "               }\n",
    "model = get_model(model_fn=model_fn,\n",
    "                  model_config=model_config,\n",
    "                  dataloaders=dataloaders,\n",
    "                  seed=42,)"
   ]
  },
  {
   "cell_type": "code",
   "execution_count": 102,
   "metadata": {
    "pycharm": {
     "is_executing": true,
     "name": "#%%\n"
    }
   },
   "outputs": [
    {
     "name": "stderr",
     "output_type": "stream",
     "text": [
      "Epoch 1: 100%|██████████| 252/252 [00:37<00:00,  6.65it/s]\n",
      "Epoch 2: 100%|██████████| 252/252 [00:38<00:00,  6.57it/s]\n",
      "Epoch 3: 100%|██████████| 252/252 [00:38<00:00,  6.60it/s]\n",
      "Epoch 4: 100%|██████████| 252/252 [00:38<00:00,  6.62it/s]\n",
      "Epoch 5: 100%|██████████| 252/252 [00:38<00:00,  6.60it/s]\n",
      "Epoch 6: 100%|██████████| 252/252 [00:38<00:00,  6.57it/s]\n",
      "Epoch 7: 100%|██████████| 252/252 [00:37<00:00,  6.66it/s]\n",
      "Epoch 8: 100%|██████████| 252/252 [00:37<00:00,  6.66it/s]\n",
      "Epoch 9: 100%|██████████| 252/252 [00:37<00:00,  6.68it/s]\n",
      "Epoch 10: 100%|██████████| 252/252 [00:37<00:00,  6.66it/s]\n",
      "Epoch 11: 100%|██████████| 252/252 [00:37<00:00,  6.69it/s]\n",
      "Epoch 12: 100%|██████████| 252/252 [00:37<00:00,  6.71it/s]\n",
      "Epoch 13: 100%|██████████| 252/252 [00:37<00:00,  6.73it/s]\n",
      "Epoch 14: 100%|██████████| 252/252 [00:38<00:00,  6.61it/s]\n",
      "Epoch 15: 100%|██████████| 252/252 [00:37<00:00,  6.63it/s]\n",
      "Epoch 16: 100%|██████████| 252/252 [00:38<00:00,  6.63it/s]\n",
      "Epoch 17: 100%|██████████| 252/252 [00:37<00:00,  6.65it/s]\n",
      "Epoch 18: 100%|██████████| 252/252 [00:37<00:00,  6.77it/s]\n",
      "Epoch 19: 100%|██████████| 252/252 [00:37<00:00,  6.70it/s]\n",
      "Epoch 20: 100%|██████████| 252/252 [00:37<00:00,  6.68it/s]\n",
      "Epoch 21: 100%|██████████| 252/252 [00:37<00:00,  6.71it/s]\n",
      "Epoch 22: 100%|██████████| 252/252 [00:37<00:00,  6.70it/s]\n",
      "Epoch 23: 100%|██████████| 252/252 [00:37<00:00,  6.70it/s]\n",
      "Epoch 24: 100%|██████████| 252/252 [00:37<00:00,  6.67it/s]\n",
      "Epoch 25: 100%|██████████| 252/252 [00:37<00:00,  6.65it/s]\n",
      "Epoch 26: 100%|██████████| 252/252 [00:37<00:00,  6.64it/s]\n",
      "Epoch 27: 100%|██████████| 252/252 [00:38<00:00,  6.60it/s]\n",
      "Epoch 28: 100%|██████████| 252/252 [00:38<00:00,  6.62it/s]\n",
      "Epoch 29: 100%|██████████| 252/252 [00:38<00:00,  6.56it/s]\n",
      "Epoch 30: 100%|██████████| 252/252 [00:38<00:00,  6.55it/s]\n",
      "Epoch 31: 100%|██████████| 252/252 [00:38<00:00,  6.56it/s]\n",
      "Epoch 32: 100%|██████████| 252/252 [00:38<00:00,  6.55it/s]\n",
      "Epoch 33: 100%|██████████| 252/252 [00:38<00:00,  6.50it/s]\n",
      "Epoch 34: 100%|██████████| 252/252 [00:38<00:00,  6.52it/s]\n",
      "Epoch 35: 100%|██████████| 252/252 [00:38<00:00,  6.56it/s]\n",
      "Epoch 36: 100%|██████████| 252/252 [00:38<00:00,  6.49it/s]\n",
      "Epoch 37: 100%|██████████| 252/252 [00:38<00:00,  6.57it/s]\n",
      "Epoch 38: 100%|██████████| 252/252 [00:38<00:00,  6.48it/s]\n",
      "Epoch 39: 100%|██████████| 252/252 [00:38<00:00,  6.56it/s]\n",
      "Epoch 40: 100%|██████████| 252/252 [00:38<00:00,  6.51it/s]\n",
      "Epoch 41: 100%|██████████| 252/252 [00:38<00:00,  6.51it/s]\n",
      "Epoch 42: 100%|██████████| 252/252 [00:38<00:00,  6.58it/s]\n",
      "Epoch 43: 100%|██████████| 252/252 [00:38<00:00,  6.49it/s]\n",
      "Epoch 44: 100%|██████████| 252/252 [00:38<00:00,  6.58it/s]\n",
      "Epoch 45: 100%|██████████| 252/252 [00:39<00:00,  6.43it/s]\n",
      "Epoch 46: 100%|██████████| 252/252 [00:38<00:00,  6.57it/s]\n",
      "Epoch 47: 100%|██████████| 252/252 [00:38<00:00,  6.53it/s]\n",
      "Epoch 48: 100%|██████████| 252/252 [00:38<00:00,  6.56it/s]\n",
      "Epoch 49: 100%|██████████| 252/252 [00:38<00:00,  6.54it/s]\n",
      "Epoch 50: 100%|██████████| 252/252 [00:38<00:00,  6.54it/s]\n",
      "Epoch 51: 100%|██████████| 252/252 [00:38<00:00,  6.56it/s]\n",
      "Epoch 52: 100%|██████████| 252/252 [00:38<00:00,  6.51it/s]\n",
      "Epoch 53: 100%|██████████| 252/252 [00:38<00:00,  6.57it/s]\n",
      "Epoch 54: 100%|██████████| 252/252 [00:38<00:00,  6.57it/s]\n",
      "Epoch 55: 100%|██████████| 252/252 [00:38<00:00,  6.58it/s]\n",
      "Epoch 56: 100%|██████████| 252/252 [00:38<00:00,  6.57it/s]\n",
      "Epoch 57: 100%|██████████| 252/252 [00:38<00:00,  6.53it/s]\n",
      "Epoch 58: 100%|██████████| 252/252 [00:38<00:00,  6.52it/s]\n",
      "Epoch 59: 100%|██████████| 252/252 [00:38<00:00,  6.52it/s]\n",
      "Epoch 60: 100%|██████████| 252/252 [00:38<00:00,  6.63it/s]\n",
      "Epoch 61: 100%|██████████| 252/252 [00:38<00:00,  6.55it/s]\n",
      "Epoch 62: 100%|██████████| 252/252 [00:38<00:00,  6.53it/s]\n",
      "Epoch 63: 100%|██████████| 252/252 [00:38<00:00,  6.56it/s]\n",
      "Epoch 64: 100%|██████████| 252/252 [00:38<00:00,  6.53it/s]\n",
      "Epoch 65: 100%|██████████| 252/252 [00:38<00:00,  6.52it/s]\n",
      "Epoch 66: 100%|██████████| 252/252 [00:38<00:00,  6.50it/s]\n",
      "Epoch 67: 100%|██████████| 252/252 [00:38<00:00,  6.53it/s]\n",
      "Epoch 68: 100%|██████████| 252/252 [00:38<00:00,  6.55it/s]\n",
      "Epoch 69: 100%|██████████| 252/252 [00:38<00:00,  6.51it/s]\n",
      "Epoch 70: 100%|██████████| 252/252 [00:38<00:00,  6.60it/s]\n",
      "Epoch 71: 100%|██████████| 252/252 [00:38<00:00,  6.59it/s]\n",
      "Epoch 72: 100%|██████████| 252/252 [00:39<00:00,  6.40it/s]\n",
      "Epoch 73: 100%|██████████| 252/252 [00:38<00:00,  6.55it/s]\n",
      "Epoch 74: 100%|██████████| 252/252 [00:38<00:00,  6.57it/s]\n",
      "Epoch 75: 100%|██████████| 252/252 [00:38<00:00,  6.54it/s]\n",
      "Epoch 76: 100%|██████████| 252/252 [00:38<00:00,  6.55it/s]\n",
      "Epoch 77: 100%|██████████| 252/252 [00:38<00:00,  6.56it/s]\n",
      "Epoch 78: 100%|██████████| 252/252 [00:38<00:00,  6.53it/s]\n",
      "Epoch 79: 100%|██████████| 252/252 [00:38<00:00,  6.59it/s]\n",
      "Epoch 80: 100%|██████████| 252/252 [00:38<00:00,  6.51it/s]\n"
     ]
    }
   ],
   "source": [
    "validation_score, trainer_output, state_dict = trainer(model, dataloaders, seed=42)"
   ]
  },
  {
   "cell_type": "code",
   "execution_count": 106,
   "metadata": {
    "pycharm": {
     "name": "#%%\n"
    }
   },
   "outputs": [],
   "source": [
    "torch.save(model.state_dict(), './model_checkpoints/sensorium_p_ln_model.pth')"
   ]
  },
  {
   "cell_type": "code",
   "execution_count": null,
   "metadata": {},
   "outputs": [],
   "source": []
  },
  {
   "cell_type": "code",
   "execution_count": 107,
   "metadata": {
    "pycharm": {
     "name": "#%%\n"
    }
   },
   "outputs": [],
   "source": [
    "model.load_state_dict(torch.load(\"./model_checkpoints/sensorium_p_ln_model.pth\"));"
   ]
  },
  {
   "cell_type": "code",
   "execution_count": 109,
   "metadata": {},
   "outputs": [
    {
     "name": "stdout",
     "output_type": "stream",
     "text": [
      "FiringRateEncoder(\n",
      "  (core): Stacked2dCore(\n",
      "    (_input_weights_regularizer): LaplaceL2norm(\n",
      "      (laplace): Laplace()\n",
      "    )\n",
      "    (features): Sequential(\n",
      "      (layer0): Sequential(\n",
      "        (conv): Conv2d(4, 64, kernel_size=(9, 9), stride=(1, 1), bias=False)\n",
      "        (norm): BatchNorm2d(64, eps=1e-05, momentum=0.9, affine=True, track_running_stats=True)\n",
      "      )\n",
      "      (layer1): Sequential(\n",
      "        (ds_conv): DepthSeparableConv2d(\n",
      "          (in_depth_conv): Conv2d(64, 64, kernel_size=(1, 1), stride=(1, 1))\n",
      "          (spatial_conv): Conv2d(64, 64, kernel_size=(7, 7), stride=(1, 1), padding=(3, 3), groups=64)\n",
      "          (out_depth_conv): Conv2d(64, 64, kernel_size=(1, 1), stride=(1, 1))\n",
      "        )\n",
      "        (norm): BatchNorm2d(64, eps=1e-05, momentum=0.9, affine=True, track_running_stats=True)\n",
      "      )\n",
      "      (layer2): Sequential(\n",
      "        (ds_conv): DepthSeparableConv2d(\n",
      "          (in_depth_conv): Conv2d(64, 64, kernel_size=(1, 1), stride=(1, 1))\n",
      "          (spatial_conv): Conv2d(64, 64, kernel_size=(7, 7), stride=(1, 1), padding=(3, 3), groups=64)\n",
      "          (out_depth_conv): Conv2d(64, 64, kernel_size=(1, 1), stride=(1, 1))\n",
      "        )\n",
      "        (norm): BatchNorm2d(64, eps=1e-05, momentum=0.9, affine=True, track_running_stats=True)\n",
      "      )\n",
      "    )\n",
      "  ) [Stacked2dCore regularizers: gamma_hidden = 0|gamma_input = 6.3831|skip = 0]\n",
      "  \n",
      "  (readout): MultipleFullGaussian2d(\n",
      "    (23964-4-22): full FullGaussian2d (64 x 28 x 56 -> 8098) with bias, with predicted grid  -> Sequential(\n",
      "      (0): Linear(in_features=2, out_features=30, bias=True)\n",
      "      (1): ELU(alpha=1.0)\n",
      "      (2): Linear(in_features=30, out_features=2, bias=True)\n",
      "      (3): Tanh()\n",
      "    )\n",
      "    \n",
      "    (21067-10-18): full FullGaussian2d (64 x 28 x 56 -> 8372) with bias, with predicted grid  -> Sequential(\n",
      "      (0): Linear(in_features=2, out_features=30, bias=True)\n",
      "      (1): ELU(alpha=1.0)\n",
      "      (2): Linear(in_features=30, out_features=2, bias=True)\n",
      "      (3): Tanh()\n",
      "    )\n",
      "    \n",
      "    (22846-10-16): full FullGaussian2d (64 x 28 x 56 -> 7344) with bias, with predicted grid  -> Sequential(\n",
      "      (0): Linear(in_features=2, out_features=30, bias=True)\n",
      "      (1): ELU(alpha=1.0)\n",
      "      (2): Linear(in_features=30, out_features=2, bias=True)\n",
      "      (3): Tanh()\n",
      "    )\n",
      "    \n",
      "    (23343-5-17): full FullGaussian2d (64 x 28 x 56 -> 7334) with bias, with predicted grid  -> Sequential(\n",
      "      (0): Linear(in_features=2, out_features=30, bias=True)\n",
      "      (1): ELU(alpha=1.0)\n",
      "      (2): Linear(in_features=30, out_features=2, bias=True)\n",
      "      (3): Tanh()\n",
      "    )\n",
      "    \n",
      "    (26872-17-20): full FullGaussian2d (64 x 28 x 56 -> 7776) with bias, with predicted grid  -> Sequential(\n",
      "      (0): Linear(in_features=2, out_features=30, bias=True)\n",
      "      (1): ELU(alpha=1.0)\n",
      "      (2): Linear(in_features=30, out_features=2, bias=True)\n",
      "      (3): Tanh()\n",
      "    )\n",
      "    \n",
      "    (23656-14-22): full FullGaussian2d (64 x 28 x 56 -> 8107) with bias, with predicted grid  -> Sequential(\n",
      "      (0): Linear(in_features=2, out_features=30, bias=True)\n",
      "      (1): ELU(alpha=1.0)\n",
      "      (2): Linear(in_features=30, out_features=2, bias=True)\n",
      "      (3): Tanh()\n",
      "    )\n",
      "    \n",
      "    (27204-5-13): full FullGaussian2d (64 x 28 x 56 -> 7538) with bias, with predicted grid  -> Sequential(\n",
      "      (0): Linear(in_features=2, out_features=30, bias=True)\n",
      "      (1): ELU(alpha=1.0)\n",
      "      (2): Linear(in_features=30, out_features=2, bias=True)\n",
      "      (3): Tanh()\n",
      "    )\n",
      "    \n",
      "  )\n",
      "  (shifter): MLPShifter(\n",
      "    (23964-4-22): MLP(\n",
      "      (mlp): Sequential(\n",
      "        (0): Linear(in_features=2, out_features=5, bias=True)\n",
      "        (1): Tanh()\n",
      "        (2): Linear(in_features=5, out_features=5, bias=True)\n",
      "        (3): Tanh()\n",
      "        (4): Linear(in_features=5, out_features=2, bias=True)\n",
      "        (5): Tanh()\n",
      "      )\n",
      "    ) [MLP regularizers: ]\n",
      "    \n",
      "    (21067-10-18): MLP(\n",
      "      (mlp): Sequential(\n",
      "        (0): Linear(in_features=2, out_features=5, bias=True)\n",
      "        (1): Tanh()\n",
      "        (2): Linear(in_features=5, out_features=5, bias=True)\n",
      "        (3): Tanh()\n",
      "        (4): Linear(in_features=5, out_features=2, bias=True)\n",
      "        (5): Tanh()\n",
      "      )\n",
      "    ) [MLP regularizers: ]\n",
      "    \n",
      "    (22846-10-16): MLP(\n",
      "      (mlp): Sequential(\n",
      "        (0): Linear(in_features=2, out_features=5, bias=True)\n",
      "        (1): Tanh()\n",
      "        (2): Linear(in_features=5, out_features=5, bias=True)\n",
      "        (3): Tanh()\n",
      "        (4): Linear(in_features=5, out_features=2, bias=True)\n",
      "        (5): Tanh()\n",
      "      )\n",
      "    ) [MLP regularizers: ]\n",
      "    \n",
      "    (23343-5-17): MLP(\n",
      "      (mlp): Sequential(\n",
      "        (0): Linear(in_features=2, out_features=5, bias=True)\n",
      "        (1): Tanh()\n",
      "        (2): Linear(in_features=5, out_features=5, bias=True)\n",
      "        (3): Tanh()\n",
      "        (4): Linear(in_features=5, out_features=2, bias=True)\n",
      "        (5): Tanh()\n",
      "      )\n",
      "    ) [MLP regularizers: ]\n",
      "    \n",
      "    (26872-17-20): MLP(\n",
      "      (mlp): Sequential(\n",
      "        (0): Linear(in_features=2, out_features=5, bias=True)\n",
      "        (1): Tanh()\n",
      "        (2): Linear(in_features=5, out_features=5, bias=True)\n",
      "        (3): Tanh()\n",
      "        (4): Linear(in_features=5, out_features=2, bias=True)\n",
      "        (5): Tanh()\n",
      "      )\n",
      "    ) [MLP regularizers: ]\n",
      "    \n",
      "    (23656-14-22): MLP(\n",
      "      (mlp): Sequential(\n",
      "        (0): Linear(in_features=2, out_features=5, bias=True)\n",
      "        (1): Tanh()\n",
      "        (2): Linear(in_features=5, out_features=5, bias=True)\n",
      "        (3): Tanh()\n",
      "        (4): Linear(in_features=5, out_features=2, bias=True)\n",
      "        (5): Tanh()\n",
      "      )\n",
      "    ) [MLP regularizers: ]\n",
      "    \n",
      "    (27204-5-13): MLP(\n",
      "      (mlp): Sequential(\n",
      "        (0): Linear(in_features=2, out_features=5, bias=True)\n",
      "        (1): Tanh()\n",
      "        (2): Linear(in_features=5, out_features=5, bias=True)\n",
      "        (3): Tanh()\n",
      "        (4): Linear(in_features=5, out_features=2, bias=True)\n",
      "        (5): Tanh()\n",
      "      )\n",
      "    ) [MLP regularizers: ]\n",
      "    \n",
      "  )\n",
      "  (nonlinearity_fn): ELU(alpha=1.0)\n",
      ")\n"
     ]
    }
   ],
   "source": [
    "print(model)"
   ]
  },
  {
   "cell_type": "code",
   "execution_count": 110,
   "metadata": {
    "pycharm": {
     "name": "#%%\n"
    }
   },
   "outputs": [],
   "source": [
    "# this will remove all nonlinearities from the CNN, and creates essentially a ln model: linear core + readout, with a subsequent non-linearity\n",
    "\n",
    "model_fn = 'sensorium.models.stacked_core_full_gauss_readout'\n",
    "model_config = {'pad_input': False,  #no padding\n",
    "              'stack': -1,  #no stacking\n",
    "              'layers': 3,\n",
    "              'input_kern': 9,  #filter dimension 9x9\n",
    "              'gamma_input': 6.3831,\n",
    "              'gamma_readout': 0.0076,\n",
    "              'hidden_kern': 7,  #convolution in hidden layers\n",
    "              'hidden_channels': 64, #hidden filters that are applied\n",
    "              'grid_mean_predictor': {'type': 'cortex', #submodel, uses positions of the brain cells to help to learn their receptive fields (because often cells that are actually close in the brain look in close pixels areas)\n",
    "              'input_dimensions': 2,\n",
    "              'hidden_layers': 1,\n",
    "              'hidden_features': 30,\n",
    "              'final_tanh': True}, #applying tanh activation function in final layer\n",
    "              'depth_separable': True, #depthwise separable convolutions\n",
    "              'init_sigma': 0.1, #nitial standard deviation for the weights\n",
    "              'init_mu_range': 0.3, #range for initial mean of weights\n",
    "              'gauss_type': 'full', #Gaussian type, full covariance matrix\n",
    "              'linear': True, #include linear layers\n",
    "              'shifter': False, #include shifting?\n",
    "               }\n",
    "model = get_model(model_fn=model_fn,\n",
    "                  model_config=model_config,\n",
    "                  dataloaders=dataloaders,\n",
    "                  seed=42,)"
   ]
  },
  {
   "cell_type": "code",
   "execution_count": 111,
   "metadata": {
    "pycharm": {
     "is_executing": true,
     "name": "#%%\n"
    }
   },
   "outputs": [
    {
     "name": "stderr",
     "output_type": "stream",
     "text": [
      "Epoch 1: 100%|██████████| 252/252 [00:37<00:00,  6.63it/s]\n",
      "Epoch 2: 100%|██████████| 252/252 [00:37<00:00,  6.69it/s]\n",
      "Epoch 3: 100%|██████████| 252/252 [00:37<00:00,  6.66it/s]\n",
      "Epoch 4: 100%|██████████| 252/252 [00:37<00:00,  6.68it/s]\n",
      "Epoch 5: 100%|██████████| 252/252 [00:37<00:00,  6.65it/s]\n",
      "Epoch 6: 100%|██████████| 252/252 [00:38<00:00,  6.62it/s]\n",
      "Epoch 7: 100%|██████████| 252/252 [00:38<00:00,  6.56it/s]\n",
      "Epoch 8: 100%|██████████| 252/252 [00:37<00:00,  6.64it/s]\n",
      "Epoch 9: 100%|██████████| 252/252 [00:38<00:00,  6.54it/s]\n",
      "Epoch 10: 100%|██████████| 252/252 [00:38<00:00,  6.56it/s]\n",
      "Epoch 11: 100%|██████████| 252/252 [00:38<00:00,  6.61it/s]\n",
      "Epoch 12: 100%|██████████| 252/252 [00:38<00:00,  6.58it/s]\n",
      "Epoch 13: 100%|██████████| 252/252 [00:38<00:00,  6.63it/s]\n",
      "Epoch 14: 100%|██████████| 252/252 [00:38<00:00,  6.56it/s]\n",
      "Epoch 15: 100%|██████████| 252/252 [00:38<00:00,  6.62it/s]\n",
      "Epoch 16: 100%|██████████| 252/252 [00:37<00:00,  6.65it/s]\n",
      "Epoch 17: 100%|██████████| 252/252 [00:38<00:00,  6.53it/s]\n",
      "Epoch 18: 100%|██████████| 252/252 [00:38<00:00,  6.60it/s]\n",
      "Epoch 19: 100%|██████████| 252/252 [00:38<00:00,  6.56it/s]\n",
      "Epoch 20: 100%|██████████| 252/252 [00:38<00:00,  6.56it/s]\n",
      "Epoch 21: 100%|██████████| 252/252 [00:38<00:00,  6.59it/s]\n",
      "Epoch 22: 100%|██████████| 252/252 [00:38<00:00,  6.55it/s]\n",
      "Epoch 23: 100%|██████████| 252/252 [00:38<00:00,  6.62it/s]\n",
      "Epoch 24: 100%|██████████| 252/252 [00:38<00:00,  6.55it/s]\n",
      "Epoch 25: 100%|██████████| 252/252 [00:38<00:00,  6.50it/s]\n",
      "Epoch 26: 100%|██████████| 252/252 [00:37<00:00,  6.65it/s]\n",
      "Epoch 27: 100%|██████████| 252/252 [00:38<00:00,  6.62it/s]\n",
      "Epoch 28: 100%|██████████| 252/252 [00:38<00:00,  6.57it/s]\n",
      "Epoch 29: 100%|██████████| 252/252 [00:38<00:00,  6.56it/s]\n",
      "Epoch 30: 100%|██████████| 252/252 [00:37<00:00,  6.67it/s]\n",
      "Epoch 31: 100%|██████████| 252/252 [00:37<00:00,  6.64it/s]\n",
      "Epoch 32: 100%|██████████| 252/252 [00:38<00:00,  6.62it/s]\n",
      "Epoch 33: 100%|██████████| 252/252 [00:38<00:00,  6.59it/s]\n",
      "Epoch 34: 100%|██████████| 252/252 [00:38<00:00,  6.58it/s]\n",
      "Epoch 35: 100%|██████████| 252/252 [00:38<00:00,  6.58it/s]\n",
      "Epoch 36: 100%|██████████| 252/252 [00:38<00:00,  6.58it/s]\n",
      "Epoch 37: 100%|██████████| 252/252 [00:38<00:00,  6.58it/s]\n",
      "Epoch 38: 100%|██████████| 252/252 [00:37<00:00,  6.63it/s]\n",
      "Epoch 39: 100%|██████████| 252/252 [00:38<00:00,  6.56it/s]\n",
      "Epoch 40: 100%|██████████| 252/252 [00:38<00:00,  6.61it/s]\n",
      "Epoch 41: 100%|██████████| 252/252 [00:38<00:00,  6.58it/s]\n",
      "Epoch 42: 100%|██████████| 252/252 [00:37<00:00,  6.67it/s]\n",
      "Epoch 43: 100%|██████████| 252/252 [00:37<00:00,  6.64it/s]\n",
      "Epoch 44: 100%|██████████| 252/252 [00:38<00:00,  6.56it/s]\n",
      "Epoch 45: 100%|██████████| 252/252 [00:37<00:00,  6.63it/s]\n",
      "Epoch 46: 100%|██████████| 252/252 [00:38<00:00,  6.60it/s]\n",
      "Epoch 47: 100%|██████████| 252/252 [00:38<00:00,  6.63it/s]\n",
      "Epoch 48: 100%|██████████| 252/252 [00:38<00:00,  6.54it/s]\n",
      "Epoch 49: 100%|██████████| 252/252 [00:37<00:00,  6.67it/s]\n",
      "Epoch 50: 100%|██████████| 252/252 [00:38<00:00,  6.51it/s]\n",
      "Epoch 51: 100%|██████████| 252/252 [00:38<00:00,  6.53it/s]\n",
      "Epoch 52: 100%|██████████| 252/252 [00:38<00:00,  6.55it/s]\n",
      "Epoch 53: 100%|██████████| 252/252 [00:38<00:00,  6.63it/s]\n",
      "Epoch 54: 100%|██████████| 252/252 [00:37<00:00,  6.64it/s]\n",
      "Epoch 55: 100%|██████████| 252/252 [00:37<00:00,  6.64it/s]\n",
      "Epoch 56: 100%|██████████| 252/252 [00:38<00:00,  6.63it/s]\n",
      "Epoch 57: 100%|██████████| 252/252 [00:37<00:00,  6.64it/s]\n",
      "Epoch 58: 100%|██████████| 252/252 [00:37<00:00,  6.68it/s]\n",
      "Epoch 59: 100%|██████████| 252/252 [00:37<00:00,  6.73it/s]\n",
      "Epoch 60: 100%|██████████| 252/252 [00:38<00:00,  6.60it/s]\n",
      "Epoch 61: 100%|██████████| 252/252 [00:38<00:00,  6.54it/s]\n",
      "Epoch 62: 100%|██████████| 252/252 [00:38<00:00,  6.61it/s]\n",
      "Epoch 63: 100%|██████████| 252/252 [00:38<00:00,  6.60it/s]\n",
      "Epoch 64: 100%|██████████| 252/252 [00:38<00:00,  6.57it/s]\n",
      "Epoch 65: 100%|██████████| 252/252 [00:38<00:00,  6.60it/s]\n",
      "Epoch 66: 100%|██████████| 252/252 [00:38<00:00,  6.58it/s]\n",
      "Epoch 67: 100%|██████████| 252/252 [00:38<00:00,  6.56it/s]\n",
      "Epoch 68: 100%|██████████| 252/252 [00:38<00:00,  6.58it/s]\n",
      "Epoch 69: 100%|██████████| 252/252 [00:38<00:00,  6.56it/s]\n",
      "Epoch 70: 100%|██████████| 252/252 [00:38<00:00,  6.56it/s]\n",
      "Epoch 71: 100%|██████████| 252/252 [00:38<00:00,  6.63it/s]\n",
      "Epoch 72: 100%|██████████| 252/252 [00:38<00:00,  6.55it/s]\n",
      "Epoch 73: 100%|██████████| 252/252 [00:38<00:00,  6.62it/s]\n",
      "Epoch 74: 100%|██████████| 252/252 [00:37<00:00,  6.63it/s]\n",
      "Epoch 75: 100%|██████████| 252/252 [00:38<00:00,  6.58it/s]\n",
      "Epoch 76: 100%|██████████| 252/252 [00:37<00:00,  6.65it/s]\n",
      "Epoch 77: 100%|██████████| 252/252 [00:38<00:00,  6.56it/s]\n",
      "Epoch 78: 100%|██████████| 252/252 [00:37<00:00,  6.67it/s]\n",
      "Epoch 79: 100%|██████████| 252/252 [00:38<00:00,  6.62it/s]\n",
      "Epoch 80: 100%|██████████| 252/252 [00:38<00:00,  6.61it/s]\n",
      "Epoch 81: 100%|██████████| 252/252 [00:38<00:00,  6.60it/s]\n",
      "Epoch 82: 100%|██████████| 252/252 [00:38<00:00,  6.53it/s]\n",
      "Epoch 83: 100%|██████████| 252/252 [00:38<00:00,  6.53it/s]\n",
      "Epoch 84: 100%|██████████| 252/252 [00:38<00:00,  6.59it/s]\n",
      "Epoch 85: 100%|██████████| 252/252 [00:38<00:00,  6.60it/s]\n",
      "Epoch 86: 100%|██████████| 252/252 [00:38<00:00,  6.55it/s]\n",
      "Epoch 87: 100%|██████████| 252/252 [00:38<00:00,  6.60it/s]\n",
      "Epoch 88: 100%|██████████| 252/252 [00:38<00:00,  6.60it/s]\n",
      "Epoch 89: 100%|██████████| 252/252 [00:38<00:00,  6.49it/s]\n",
      "Epoch 90: 100%|██████████| 252/252 [00:38<00:00,  6.62it/s]\n",
      "Epoch 91: 100%|██████████| 252/252 [00:38<00:00,  6.62it/s]\n",
      "Epoch 92: 100%|██████████| 252/252 [00:38<00:00,  6.58it/s]\n",
      "Epoch 93: 100%|██████████| 252/252 [00:37<00:00,  6.63it/s]\n"
     ]
    }
   ],
   "source": [
    "validation_score, trainer_output, state_dict = trainer(model, dataloaders, seed=42)"
   ]
  },
  {
   "cell_type": "code",
   "execution_count": 112,
   "metadata": {},
   "outputs": [
    {
     "name": "stdout",
     "output_type": "stream",
     "text": [
      "FiringRateEncoder(\n",
      "  (core): Stacked2dCore(\n",
      "    (_input_weights_regularizer): LaplaceL2norm(\n",
      "      (laplace): Laplace()\n",
      "    )\n",
      "    (features): Sequential(\n",
      "      (layer0): Sequential(\n",
      "        (conv): Conv2d(4, 64, kernel_size=(9, 9), stride=(1, 1), bias=False)\n",
      "        (norm): BatchNorm2d(64, eps=1e-05, momentum=0.9, affine=True, track_running_stats=True)\n",
      "      )\n",
      "      (layer1): Sequential(\n",
      "        (ds_conv): DepthSeparableConv2d(\n",
      "          (in_depth_conv): Conv2d(64, 64, kernel_size=(1, 1), stride=(1, 1))\n",
      "          (spatial_conv): Conv2d(64, 64, kernel_size=(7, 7), stride=(1, 1), padding=(3, 3), groups=64)\n",
      "          (out_depth_conv): Conv2d(64, 64, kernel_size=(1, 1), stride=(1, 1))\n",
      "        )\n",
      "        (norm): BatchNorm2d(64, eps=1e-05, momentum=0.9, affine=True, track_running_stats=True)\n",
      "      )\n",
      "      (layer2): Sequential(\n",
      "        (ds_conv): DepthSeparableConv2d(\n",
      "          (in_depth_conv): Conv2d(64, 64, kernel_size=(1, 1), stride=(1, 1))\n",
      "          (spatial_conv): Conv2d(64, 64, kernel_size=(7, 7), stride=(1, 1), padding=(3, 3), groups=64)\n",
      "          (out_depth_conv): Conv2d(64, 64, kernel_size=(1, 1), stride=(1, 1))\n",
      "        )\n",
      "        (norm): BatchNorm2d(64, eps=1e-05, momentum=0.9, affine=True, track_running_stats=True)\n",
      "      )\n",
      "    )\n",
      "  ) [Stacked2dCore regularizers: gamma_hidden = 0|gamma_input = 6.3831|skip = 0]\n",
      "  \n",
      "  (readout): MultipleFullGaussian2d(\n",
      "    (23964-4-22): full FullGaussian2d (64 x 28 x 56 -> 8098) with bias, with predicted grid  -> Sequential(\n",
      "      (0): Linear(in_features=2, out_features=30, bias=True)\n",
      "      (1): ELU(alpha=1.0)\n",
      "      (2): Linear(in_features=30, out_features=2, bias=True)\n",
      "      (3): Tanh()\n",
      "    )\n",
      "    \n",
      "    (21067-10-18): full FullGaussian2d (64 x 28 x 56 -> 8372) with bias, with predicted grid  -> Sequential(\n",
      "      (0): Linear(in_features=2, out_features=30, bias=True)\n",
      "      (1): ELU(alpha=1.0)\n",
      "      (2): Linear(in_features=30, out_features=2, bias=True)\n",
      "      (3): Tanh()\n",
      "    )\n",
      "    \n",
      "    (22846-10-16): full FullGaussian2d (64 x 28 x 56 -> 7344) with bias, with predicted grid  -> Sequential(\n",
      "      (0): Linear(in_features=2, out_features=30, bias=True)\n",
      "      (1): ELU(alpha=1.0)\n",
      "      (2): Linear(in_features=30, out_features=2, bias=True)\n",
      "      (3): Tanh()\n",
      "    )\n",
      "    \n",
      "    (23343-5-17): full FullGaussian2d (64 x 28 x 56 -> 7334) with bias, with predicted grid  -> Sequential(\n",
      "      (0): Linear(in_features=2, out_features=30, bias=True)\n",
      "      (1): ELU(alpha=1.0)\n",
      "      (2): Linear(in_features=30, out_features=2, bias=True)\n",
      "      (3): Tanh()\n",
      "    )\n",
      "    \n",
      "    (26872-17-20): full FullGaussian2d (64 x 28 x 56 -> 7776) with bias, with predicted grid  -> Sequential(\n",
      "      (0): Linear(in_features=2, out_features=30, bias=True)\n",
      "      (1): ELU(alpha=1.0)\n",
      "      (2): Linear(in_features=30, out_features=2, bias=True)\n",
      "      (3): Tanh()\n",
      "    )\n",
      "    \n",
      "    (23656-14-22): full FullGaussian2d (64 x 28 x 56 -> 8107) with bias, with predicted grid  -> Sequential(\n",
      "      (0): Linear(in_features=2, out_features=30, bias=True)\n",
      "      (1): ELU(alpha=1.0)\n",
      "      (2): Linear(in_features=30, out_features=2, bias=True)\n",
      "      (3): Tanh()\n",
      "    )\n",
      "    \n",
      "    (27204-5-13): full FullGaussian2d (64 x 28 x 56 -> 7538) with bias, with predicted grid  -> Sequential(\n",
      "      (0): Linear(in_features=2, out_features=30, bias=True)\n",
      "      (1): ELU(alpha=1.0)\n",
      "      (2): Linear(in_features=30, out_features=2, bias=True)\n",
      "      (3): Tanh()\n",
      "    )\n",
      "    \n",
      "  )\n",
      "  (nonlinearity_fn): ELU(alpha=1.0)\n",
      ")\n"
     ]
    }
   ],
   "source": [
    "print(model)"
   ]
  },
  {
   "cell_type": "code",
   "execution_count": null,
   "metadata": {},
   "outputs": [],
   "source": [
    "model_fn = 'sensorium.models.ecker_core_full_gauss_readout'\n",
    "model_config = {\n",
    "  'pad_input': False,\n",
    "  'stack': -1,\n",
    "  'layers': 4,\n",
    "  'hidden_channels': 16,\n",
    "  'num_rotations': 8,\n",
    "  'input_kern': 9,\n",
    "  'hidden_kern': 7,\n",
    "    \n",
    "  'gamma_input': 6.3831,\n",
    "  'gamma_readout': 0.0076,\n",
    "  'feature_reg_weight':0.0076,\n",
    " \n",
    "  'depth_separable': True,\n",
    "                \n",
    "   'grid_mean_predictor': {\n",
    "        'type': 'cortex',\n",
    "        'input_dimensions': 2,\n",
    "        'hidden_layers': 1,\n",
    "        'hidden_features': 30,\n",
    "        'final_tanh': True\n",
    "   },\n",
    "                \n",
    "  'init_sigma': 0.1,\n",
    "  'init_mu_range': 0.3,\n",
    "  'gauss_type': 'full',\n",
    "  'shifter': True,\n",
    "  \n",
    "}"
   ]
  },
  {
   "cell_type": "markdown",
   "metadata": {
    "pycharm": {
     "name": "#%% md\n"
    }
   },
   "source": [
    "---"
   ]
  }
 ],
 "metadata": {
  "kernelspec": {
   "display_name": "Python 3 (ipykernel)",
   "language": "python",
   "name": "python3"
  },
  "language_info": {
   "codemirror_mode": {
    "name": "ipython",
    "version": 3
   },
   "file_extension": ".py",
   "mimetype": "text/x-python",
   "name": "python",
   "nbconvert_exporter": "python",
   "pygments_lexer": "ipython3",
   "version": "3.12.7"
  }
 },
 "nbformat": 4,
 "nbformat_minor": 4
}
